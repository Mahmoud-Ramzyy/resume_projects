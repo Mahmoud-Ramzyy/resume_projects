{
  "metadata": {
    "kernelspec": {
      "language": "python",
      "display_name": "Python 3",
      "name": "python3"
    },
    "language_info": {
      "name": "python",
      "version": "3.10.14",
      "mimetype": "text/x-python",
      "codemirror_mode": {
        "name": "ipython",
        "version": 3
      },
      "pygments_lexer": "ipython3",
      "nbconvert_exporter": "python",
      "file_extension": ".py"
    },
    "kaggle": {
      "accelerator": "none",
      "dataSources": [
        {
          "sourceId": 1882037,
          "sourceType": "datasetVersion",
          "datasetId": 1120859
        }
      ],
      "dockerImageVersionId": 30775,
      "isInternetEnabled": true,
      "language": "python",
      "sourceType": "notebook",
      "isGpuEnabled": false
    },
    "colab": {
      "provenance": []
    }
  },
  "nbformat_minor": 0,
  "nbformat": 4,
  "cells": [
    {
      "source": [
        "\n",
        "# IMPORTANT: RUN THIS CELL IN ORDER TO IMPORT YOUR KAGGLE DATA SOURCES\n",
        "# TO THE CORRECT LOCATION (/kaggle/input) IN YOUR NOTEBOOK,\n",
        "# THEN FEEL FREE TO DELETE THIS CELL.\n",
        "# NOTE: THIS NOTEBOOK ENVIRONMENT DIFFERS FROM KAGGLE'S PYTHON\n",
        "# ENVIRONMENT SO THERE MAY BE MISSING LIBRARIES USED BY YOUR\n",
        "# NOTEBOOK.\n",
        "\n",
        "import os\n",
        "import sys\n",
        "from tempfile import NamedTemporaryFile\n",
        "from urllib.request import urlopen\n",
        "from urllib.parse import unquote, urlparse\n",
        "from urllib.error import HTTPError\n",
        "from zipfile import ZipFile\n",
        "import tarfile\n",
        "import shutil\n",
        "\n",
        "CHUNK_SIZE = 40960\n",
        "DATA_SOURCE_MAPPING = 'stroke-prediction-dataset:https%3A%2F%2Fstorage.googleapis.com%2Fkaggle-data-sets%2F1120859%2F1882037%2Fbundle%2Farchive.zip%3FX-Goog-Algorithm%3DGOOG4-RSA-SHA256%26X-Goog-Credential%3Dgcp-kaggle-com%2540kaggle-161607.iam.gserviceaccount.com%252F20240926%252Fauto%252Fstorage%252Fgoog4_request%26X-Goog-Date%3D20240926T195311Z%26X-Goog-Expires%3D259200%26X-Goog-SignedHeaders%3Dhost%26X-Goog-Signature%3Db915f8af6c33cb8bd18c2bb5242c7b24f688ad6043e1ebfff2468401d83c92d7667750fb0ba1631b3de29c7fe90e136e9e6a2fd62b5edb76535500dc386b4e118e5a349465088ed0bb2c24a3401adcbcc64efbefed882a424aa5f5926be365c163c2ddb0ea3dd709491f2a98e3a68676b73bedbccef5bd8bc03ea757eec68726ecffbaa9af465afe5a4488129b6d248ca2733dbcd6ab073d6afd325f5fa747a479e28c38e94a26080026e8669b60994770d5d53a89004a11922dce9e0ab15b1e8ee0d5114bffe05975e84a584a19a5ff1bf0d717e35682b53656a9d10e205698a181f2a319176469c554395f8bfd1a545a63c423f6eae7e039fe225b5b80b964'\n",
        "\n",
        "KAGGLE_INPUT_PATH='/kaggle/input'\n",
        "KAGGLE_WORKING_PATH='/kaggle/working'\n",
        "KAGGLE_SYMLINK='kaggle'\n",
        "\n",
        "!umount /kaggle/input/ 2> /dev/null\n",
        "shutil.rmtree('/kaggle/input', ignore_errors=True)\n",
        "os.makedirs(KAGGLE_INPUT_PATH, 0o777, exist_ok=True)\n",
        "os.makedirs(KAGGLE_WORKING_PATH, 0o777, exist_ok=True)\n",
        "\n",
        "try:\n",
        "  os.symlink(KAGGLE_INPUT_PATH, os.path.join(\"..\", 'input'), target_is_directory=True)\n",
        "except FileExistsError:\n",
        "  pass\n",
        "try:\n",
        "  os.symlink(KAGGLE_WORKING_PATH, os.path.join(\"..\", 'working'), target_is_directory=True)\n",
        "except FileExistsError:\n",
        "  pass\n",
        "\n",
        "for data_source_mapping in DATA_SOURCE_MAPPING.split(','):\n",
        "    directory, download_url_encoded = data_source_mapping.split(':')\n",
        "    download_url = unquote(download_url_encoded)\n",
        "    filename = urlparse(download_url).path\n",
        "    destination_path = os.path.join(KAGGLE_INPUT_PATH, directory)\n",
        "    try:\n",
        "        with urlopen(download_url) as fileres, NamedTemporaryFile() as tfile:\n",
        "            total_length = fileres.headers['content-length']\n",
        "            print(f'Downloading {directory}, {total_length} bytes compressed')\n",
        "            dl = 0\n",
        "            data = fileres.read(CHUNK_SIZE)\n",
        "            while len(data) > 0:\n",
        "                dl += len(data)\n",
        "                tfile.write(data)\n",
        "                done = int(50 * dl / int(total_length))\n",
        "                sys.stdout.write(f\"\\r[{'=' * done}{' ' * (50-done)}] {dl} bytes downloaded\")\n",
        "                sys.stdout.flush()\n",
        "                data = fileres.read(CHUNK_SIZE)\n",
        "            if filename.endswith('.zip'):\n",
        "              with ZipFile(tfile) as zfile:\n",
        "                zfile.extractall(destination_path)\n",
        "            else:\n",
        "              with tarfile.open(tfile.name) as tarfile:\n",
        "                tarfile.extractall(destination_path)\n",
        "            print(f'\\nDownloaded and uncompressed: {directory}')\n",
        "    except HTTPError as e:\n",
        "        print(f'Failed to load (likely expired) {download_url} to path {destination_path}')\n",
        "        continue\n",
        "    except OSError as e:\n",
        "        print(f'Failed to load {download_url} to path {destination_path}')\n",
        "        continue\n",
        "\n",
        "print('Data source import complete.')\n"
      ],
      "metadata": {
        "id": "peICw2Nq5RHy",
        "outputId": "e0c306d6-a1eb-4c79-e25a-33a84a14cd53",
        "colab": {
          "base_uri": "https://localhost:8080/"
        }
      },
      "cell_type": "code",
      "outputs": [
        {
          "output_type": "stream",
          "name": "stdout",
          "text": [
            "Downloading stroke-prediction-dataset, 69007 bytes compressed\n",
            "[==================================================] 69007 bytes downloaded\n",
            "Downloaded and uncompressed: stroke-prediction-dataset\n",
            "Data source import complete.\n"
          ]
        }
      ],
      "execution_count": 4
    },
    {
      "cell_type": "code",
      "source": [
        "import pandas as pd\n",
        "import numpy as np\n",
        "import seaborn as sns\n",
        "import matplotlib.pyplot as plt\n",
        "import plotly.express as px"
      ],
      "metadata": {
        "execution": {
          "iopub.status.busy": "2024-09-26T19:52:21.018653Z",
          "iopub.execute_input": "2024-09-26T19:52:21.019686Z",
          "iopub.status.idle": "2024-09-26T19:52:21.024943Z",
          "shell.execute_reply.started": "2024-09-26T19:52:21.01964Z",
          "shell.execute_reply": "2024-09-26T19:52:21.023875Z"
        },
        "trusted": true,
        "id": "PSes2S1v5RH6"
      },
      "execution_count": 5,
      "outputs": []
    },
    {
      "cell_type": "code",
      "source": [
        "df= pd.read_csv('/kaggle/input/stroke-prediction-dataset/healthcare-dataset-stroke-data.csv').iloc[:,1:]"
      ],
      "metadata": {
        "execution": {
          "iopub.status.busy": "2024-09-26T19:52:21.026628Z",
          "iopub.execute_input": "2024-09-26T19:52:21.026955Z",
          "iopub.status.idle": "2024-09-26T19:52:21.055802Z",
          "shell.execute_reply.started": "2024-09-26T19:52:21.02692Z",
          "shell.execute_reply": "2024-09-26T19:52:21.054575Z"
        },
        "trusted": true,
        "id": "YkukM6Y55RH7"
      },
      "execution_count": 6,
      "outputs": []
    },
    {
      "cell_type": "markdown",
      "source": [
        "# **Data Info:**"
      ],
      "metadata": {
        "id": "VKhvoUGK5RH8"
      }
    },
    {
      "cell_type": "code",
      "source": [
        "df.info()"
      ],
      "metadata": {
        "execution": {
          "iopub.status.busy": "2024-09-26T19:52:21.05767Z",
          "iopub.execute_input": "2024-09-26T19:52:21.058046Z",
          "iopub.status.idle": "2024-09-26T19:52:21.072854Z",
          "shell.execute_reply.started": "2024-09-26T19:52:21.05799Z",
          "shell.execute_reply": "2024-09-26T19:52:21.071698Z"
        },
        "trusted": true,
        "id": "4XI7gH8p5RH-",
        "outputId": "d734bb96-464d-419c-d37f-015959b12be9",
        "colab": {
          "base_uri": "https://localhost:8080/"
        }
      },
      "execution_count": 7,
      "outputs": [
        {
          "output_type": "stream",
          "name": "stdout",
          "text": [
            "<class 'pandas.core.frame.DataFrame'>\n",
            "RangeIndex: 5110 entries, 0 to 5109\n",
            "Data columns (total 11 columns):\n",
            " #   Column             Non-Null Count  Dtype  \n",
            "---  ------             --------------  -----  \n",
            " 0   gender             5110 non-null   object \n",
            " 1   age                5110 non-null   float64\n",
            " 2   hypertension       5110 non-null   int64  \n",
            " 3   heart_disease      5110 non-null   int64  \n",
            " 4   ever_married       5110 non-null   object \n",
            " 5   work_type          5110 non-null   object \n",
            " 6   Residence_type     5110 non-null   object \n",
            " 7   avg_glucose_level  5110 non-null   float64\n",
            " 8   bmi                4909 non-null   float64\n",
            " 9   smoking_status     5110 non-null   object \n",
            " 10  stroke             5110 non-null   int64  \n",
            "dtypes: float64(3), int64(3), object(5)\n",
            "memory usage: 439.3+ KB\n"
          ]
        }
      ]
    },
    {
      "cell_type": "code",
      "source": [
        "print(df.shape)\n",
        "df.head()"
      ],
      "metadata": {
        "execution": {
          "iopub.status.busy": "2024-09-26T19:52:21.074187Z",
          "iopub.execute_input": "2024-09-26T19:52:21.074608Z",
          "iopub.status.idle": "2024-09-26T19:52:21.096782Z",
          "shell.execute_reply.started": "2024-09-26T19:52:21.074568Z",
          "shell.execute_reply": "2024-09-26T19:52:21.095654Z"
        },
        "trusted": true,
        "id": "gUcq5oL15RIA",
        "outputId": "e1a97c9c-b81f-4e03-f4ab-a4693f3ee3e2",
        "colab": {
          "base_uri": "https://localhost:8080/",
          "height": 225
        }
      },
      "execution_count": 8,
      "outputs": [
        {
          "output_type": "stream",
          "name": "stdout",
          "text": [
            "(5110, 11)\n"
          ]
        },
        {
          "output_type": "execute_result",
          "data": {
            "text/plain": [
              "   gender   age  hypertension  heart_disease ever_married      work_type  \\\n",
              "0    Male  67.0             0              1          Yes        Private   \n",
              "1  Female  61.0             0              0          Yes  Self-employed   \n",
              "2    Male  80.0             0              1          Yes        Private   \n",
              "3  Female  49.0             0              0          Yes        Private   \n",
              "4  Female  79.0             1              0          Yes  Self-employed   \n",
              "\n",
              "  Residence_type  avg_glucose_level   bmi   smoking_status  stroke  \n",
              "0          Urban             228.69  36.6  formerly smoked       1  \n",
              "1          Rural             202.21   NaN     never smoked       1  \n",
              "2          Rural             105.92  32.5     never smoked       1  \n",
              "3          Urban             171.23  34.4           smokes       1  \n",
              "4          Rural             174.12  24.0     never smoked       1  "
            ],
            "text/html": [
              "\n",
              "  <div id=\"df-cf83cfc7-add7-4800-ac2e-c6ec9d5bc157\" class=\"colab-df-container\">\n",
              "    <div>\n",
              "<style scoped>\n",
              "    .dataframe tbody tr th:only-of-type {\n",
              "        vertical-align: middle;\n",
              "    }\n",
              "\n",
              "    .dataframe tbody tr th {\n",
              "        vertical-align: top;\n",
              "    }\n",
              "\n",
              "    .dataframe thead th {\n",
              "        text-align: right;\n",
              "    }\n",
              "</style>\n",
              "<table border=\"1\" class=\"dataframe\">\n",
              "  <thead>\n",
              "    <tr style=\"text-align: right;\">\n",
              "      <th></th>\n",
              "      <th>gender</th>\n",
              "      <th>age</th>\n",
              "      <th>hypertension</th>\n",
              "      <th>heart_disease</th>\n",
              "      <th>ever_married</th>\n",
              "      <th>work_type</th>\n",
              "      <th>Residence_type</th>\n",
              "      <th>avg_glucose_level</th>\n",
              "      <th>bmi</th>\n",
              "      <th>smoking_status</th>\n",
              "      <th>stroke</th>\n",
              "    </tr>\n",
              "  </thead>\n",
              "  <tbody>\n",
              "    <tr>\n",
              "      <th>0</th>\n",
              "      <td>Male</td>\n",
              "      <td>67.0</td>\n",
              "      <td>0</td>\n",
              "      <td>1</td>\n",
              "      <td>Yes</td>\n",
              "      <td>Private</td>\n",
              "      <td>Urban</td>\n",
              "      <td>228.69</td>\n",
              "      <td>36.6</td>\n",
              "      <td>formerly smoked</td>\n",
              "      <td>1</td>\n",
              "    </tr>\n",
              "    <tr>\n",
              "      <th>1</th>\n",
              "      <td>Female</td>\n",
              "      <td>61.0</td>\n",
              "      <td>0</td>\n",
              "      <td>0</td>\n",
              "      <td>Yes</td>\n",
              "      <td>Self-employed</td>\n",
              "      <td>Rural</td>\n",
              "      <td>202.21</td>\n",
              "      <td>NaN</td>\n",
              "      <td>never smoked</td>\n",
              "      <td>1</td>\n",
              "    </tr>\n",
              "    <tr>\n",
              "      <th>2</th>\n",
              "      <td>Male</td>\n",
              "      <td>80.0</td>\n",
              "      <td>0</td>\n",
              "      <td>1</td>\n",
              "      <td>Yes</td>\n",
              "      <td>Private</td>\n",
              "      <td>Rural</td>\n",
              "      <td>105.92</td>\n",
              "      <td>32.5</td>\n",
              "      <td>never smoked</td>\n",
              "      <td>1</td>\n",
              "    </tr>\n",
              "    <tr>\n",
              "      <th>3</th>\n",
              "      <td>Female</td>\n",
              "      <td>49.0</td>\n",
              "      <td>0</td>\n",
              "      <td>0</td>\n",
              "      <td>Yes</td>\n",
              "      <td>Private</td>\n",
              "      <td>Urban</td>\n",
              "      <td>171.23</td>\n",
              "      <td>34.4</td>\n",
              "      <td>smokes</td>\n",
              "      <td>1</td>\n",
              "    </tr>\n",
              "    <tr>\n",
              "      <th>4</th>\n",
              "      <td>Female</td>\n",
              "      <td>79.0</td>\n",
              "      <td>1</td>\n",
              "      <td>0</td>\n",
              "      <td>Yes</td>\n",
              "      <td>Self-employed</td>\n",
              "      <td>Rural</td>\n",
              "      <td>174.12</td>\n",
              "      <td>24.0</td>\n",
              "      <td>never smoked</td>\n",
              "      <td>1</td>\n",
              "    </tr>\n",
              "  </tbody>\n",
              "</table>\n",
              "</div>\n",
              "    <div class=\"colab-df-buttons\">\n",
              "\n",
              "  <div class=\"colab-df-container\">\n",
              "    <button class=\"colab-df-convert\" onclick=\"convertToInteractive('df-cf83cfc7-add7-4800-ac2e-c6ec9d5bc157')\"\n",
              "            title=\"Convert this dataframe to an interactive table.\"\n",
              "            style=\"display:none;\">\n",
              "\n",
              "  <svg xmlns=\"http://www.w3.org/2000/svg\" height=\"24px\" viewBox=\"0 -960 960 960\">\n",
              "    <path d=\"M120-120v-720h720v720H120Zm60-500h600v-160H180v160Zm220 220h160v-160H400v160Zm0 220h160v-160H400v160ZM180-400h160v-160H180v160Zm440 0h160v-160H620v160ZM180-180h160v-160H180v160Zm440 0h160v-160H620v160Z\"/>\n",
              "  </svg>\n",
              "    </button>\n",
              "\n",
              "  <style>\n",
              "    .colab-df-container {\n",
              "      display:flex;\n",
              "      gap: 12px;\n",
              "    }\n",
              "\n",
              "    .colab-df-convert {\n",
              "      background-color: #E8F0FE;\n",
              "      border: none;\n",
              "      border-radius: 50%;\n",
              "      cursor: pointer;\n",
              "      display: none;\n",
              "      fill: #1967D2;\n",
              "      height: 32px;\n",
              "      padding: 0 0 0 0;\n",
              "      width: 32px;\n",
              "    }\n",
              "\n",
              "    .colab-df-convert:hover {\n",
              "      background-color: #E2EBFA;\n",
              "      box-shadow: 0px 1px 2px rgba(60, 64, 67, 0.3), 0px 1px 3px 1px rgba(60, 64, 67, 0.15);\n",
              "      fill: #174EA6;\n",
              "    }\n",
              "\n",
              "    .colab-df-buttons div {\n",
              "      margin-bottom: 4px;\n",
              "    }\n",
              "\n",
              "    [theme=dark] .colab-df-convert {\n",
              "      background-color: #3B4455;\n",
              "      fill: #D2E3FC;\n",
              "    }\n",
              "\n",
              "    [theme=dark] .colab-df-convert:hover {\n",
              "      background-color: #434B5C;\n",
              "      box-shadow: 0px 1px 3px 1px rgba(0, 0, 0, 0.15);\n",
              "      filter: drop-shadow(0px 1px 2px rgba(0, 0, 0, 0.3));\n",
              "      fill: #FFFFFF;\n",
              "    }\n",
              "  </style>\n",
              "\n",
              "    <script>\n",
              "      const buttonEl =\n",
              "        document.querySelector('#df-cf83cfc7-add7-4800-ac2e-c6ec9d5bc157 button.colab-df-convert');\n",
              "      buttonEl.style.display =\n",
              "        google.colab.kernel.accessAllowed ? 'block' : 'none';\n",
              "\n",
              "      async function convertToInteractive(key) {\n",
              "        const element = document.querySelector('#df-cf83cfc7-add7-4800-ac2e-c6ec9d5bc157');\n",
              "        const dataTable =\n",
              "          await google.colab.kernel.invokeFunction('convertToInteractive',\n",
              "                                                    [key], {});\n",
              "        if (!dataTable) return;\n",
              "\n",
              "        const docLinkHtml = 'Like what you see? Visit the ' +\n",
              "          '<a target=\"_blank\" href=https://colab.research.google.com/notebooks/data_table.ipynb>data table notebook</a>'\n",
              "          + ' to learn more about interactive tables.';\n",
              "        element.innerHTML = '';\n",
              "        dataTable['output_type'] = 'display_data';\n",
              "        await google.colab.output.renderOutput(dataTable, element);\n",
              "        const docLink = document.createElement('div');\n",
              "        docLink.innerHTML = docLinkHtml;\n",
              "        element.appendChild(docLink);\n",
              "      }\n",
              "    </script>\n",
              "  </div>\n",
              "\n",
              "\n",
              "<div id=\"df-5548c15a-b1c2-44ef-b2c8-5499817be3d8\">\n",
              "  <button class=\"colab-df-quickchart\" onclick=\"quickchart('df-5548c15a-b1c2-44ef-b2c8-5499817be3d8')\"\n",
              "            title=\"Suggest charts\"\n",
              "            style=\"display:none;\">\n",
              "\n",
              "<svg xmlns=\"http://www.w3.org/2000/svg\" height=\"24px\"viewBox=\"0 0 24 24\"\n",
              "     width=\"24px\">\n",
              "    <g>\n",
              "        <path d=\"M19 3H5c-1.1 0-2 .9-2 2v14c0 1.1.9 2 2 2h14c1.1 0 2-.9 2-2V5c0-1.1-.9-2-2-2zM9 17H7v-7h2v7zm4 0h-2V7h2v10zm4 0h-2v-4h2v4z\"/>\n",
              "    </g>\n",
              "</svg>\n",
              "  </button>\n",
              "\n",
              "<style>\n",
              "  .colab-df-quickchart {\n",
              "      --bg-color: #E8F0FE;\n",
              "      --fill-color: #1967D2;\n",
              "      --hover-bg-color: #E2EBFA;\n",
              "      --hover-fill-color: #174EA6;\n",
              "      --disabled-fill-color: #AAA;\n",
              "      --disabled-bg-color: #DDD;\n",
              "  }\n",
              "\n",
              "  [theme=dark] .colab-df-quickchart {\n",
              "      --bg-color: #3B4455;\n",
              "      --fill-color: #D2E3FC;\n",
              "      --hover-bg-color: #434B5C;\n",
              "      --hover-fill-color: #FFFFFF;\n",
              "      --disabled-bg-color: #3B4455;\n",
              "      --disabled-fill-color: #666;\n",
              "  }\n",
              "\n",
              "  .colab-df-quickchart {\n",
              "    background-color: var(--bg-color);\n",
              "    border: none;\n",
              "    border-radius: 50%;\n",
              "    cursor: pointer;\n",
              "    display: none;\n",
              "    fill: var(--fill-color);\n",
              "    height: 32px;\n",
              "    padding: 0;\n",
              "    width: 32px;\n",
              "  }\n",
              "\n",
              "  .colab-df-quickchart:hover {\n",
              "    background-color: var(--hover-bg-color);\n",
              "    box-shadow: 0 1px 2px rgba(60, 64, 67, 0.3), 0 1px 3px 1px rgba(60, 64, 67, 0.15);\n",
              "    fill: var(--button-hover-fill-color);\n",
              "  }\n",
              "\n",
              "  .colab-df-quickchart-complete:disabled,\n",
              "  .colab-df-quickchart-complete:disabled:hover {\n",
              "    background-color: var(--disabled-bg-color);\n",
              "    fill: var(--disabled-fill-color);\n",
              "    box-shadow: none;\n",
              "  }\n",
              "\n",
              "  .colab-df-spinner {\n",
              "    border: 2px solid var(--fill-color);\n",
              "    border-color: transparent;\n",
              "    border-bottom-color: var(--fill-color);\n",
              "    animation:\n",
              "      spin 1s steps(1) infinite;\n",
              "  }\n",
              "\n",
              "  @keyframes spin {\n",
              "    0% {\n",
              "      border-color: transparent;\n",
              "      border-bottom-color: var(--fill-color);\n",
              "      border-left-color: var(--fill-color);\n",
              "    }\n",
              "    20% {\n",
              "      border-color: transparent;\n",
              "      border-left-color: var(--fill-color);\n",
              "      border-top-color: var(--fill-color);\n",
              "    }\n",
              "    30% {\n",
              "      border-color: transparent;\n",
              "      border-left-color: var(--fill-color);\n",
              "      border-top-color: var(--fill-color);\n",
              "      border-right-color: var(--fill-color);\n",
              "    }\n",
              "    40% {\n",
              "      border-color: transparent;\n",
              "      border-right-color: var(--fill-color);\n",
              "      border-top-color: var(--fill-color);\n",
              "    }\n",
              "    60% {\n",
              "      border-color: transparent;\n",
              "      border-right-color: var(--fill-color);\n",
              "    }\n",
              "    80% {\n",
              "      border-color: transparent;\n",
              "      border-right-color: var(--fill-color);\n",
              "      border-bottom-color: var(--fill-color);\n",
              "    }\n",
              "    90% {\n",
              "      border-color: transparent;\n",
              "      border-bottom-color: var(--fill-color);\n",
              "    }\n",
              "  }\n",
              "</style>\n",
              "\n",
              "  <script>\n",
              "    async function quickchart(key) {\n",
              "      const quickchartButtonEl =\n",
              "        document.querySelector('#' + key + ' button');\n",
              "      quickchartButtonEl.disabled = true;  // To prevent multiple clicks.\n",
              "      quickchartButtonEl.classList.add('colab-df-spinner');\n",
              "      try {\n",
              "        const charts = await google.colab.kernel.invokeFunction(\n",
              "            'suggestCharts', [key], {});\n",
              "      } catch (error) {\n",
              "        console.error('Error during call to suggestCharts:', error);\n",
              "      }\n",
              "      quickchartButtonEl.classList.remove('colab-df-spinner');\n",
              "      quickchartButtonEl.classList.add('colab-df-quickchart-complete');\n",
              "    }\n",
              "    (() => {\n",
              "      let quickchartButtonEl =\n",
              "        document.querySelector('#df-5548c15a-b1c2-44ef-b2c8-5499817be3d8 button');\n",
              "      quickchartButtonEl.style.display =\n",
              "        google.colab.kernel.accessAllowed ? 'block' : 'none';\n",
              "    })();\n",
              "  </script>\n",
              "</div>\n",
              "\n",
              "    </div>\n",
              "  </div>\n"
            ],
            "application/vnd.google.colaboratory.intrinsic+json": {
              "type": "dataframe",
              "variable_name": "df",
              "summary": "{\n  \"name\": \"df\",\n  \"rows\": 5110,\n  \"fields\": [\n    {\n      \"column\": \"gender\",\n      \"properties\": {\n        \"dtype\": \"category\",\n        \"num_unique_values\": 3,\n        \"samples\": [\n          \"Male\",\n          \"Female\",\n          \"Other\"\n        ],\n        \"semantic_type\": \"\",\n        \"description\": \"\"\n      }\n    },\n    {\n      \"column\": \"age\",\n      \"properties\": {\n        \"dtype\": \"number\",\n        \"std\": 22.61264672311349,\n        \"min\": 0.08,\n        \"max\": 82.0,\n        \"num_unique_values\": 104,\n        \"samples\": [\n          45.0,\n          24.0,\n          33.0\n        ],\n        \"semantic_type\": \"\",\n        \"description\": \"\"\n      }\n    },\n    {\n      \"column\": \"hypertension\",\n      \"properties\": {\n        \"dtype\": \"number\",\n        \"std\": 0,\n        \"min\": 0,\n        \"max\": 1,\n        \"num_unique_values\": 2,\n        \"samples\": [\n          1,\n          0\n        ],\n        \"semantic_type\": \"\",\n        \"description\": \"\"\n      }\n    },\n    {\n      \"column\": \"heart_disease\",\n      \"properties\": {\n        \"dtype\": \"number\",\n        \"std\": 0,\n        \"min\": 0,\n        \"max\": 1,\n        \"num_unique_values\": 2,\n        \"samples\": [\n          0,\n          1\n        ],\n        \"semantic_type\": \"\",\n        \"description\": \"\"\n      }\n    },\n    {\n      \"column\": \"ever_married\",\n      \"properties\": {\n        \"dtype\": \"category\",\n        \"num_unique_values\": 2,\n        \"samples\": [\n          \"No\",\n          \"Yes\"\n        ],\n        \"semantic_type\": \"\",\n        \"description\": \"\"\n      }\n    },\n    {\n      \"column\": \"work_type\",\n      \"properties\": {\n        \"dtype\": \"category\",\n        \"num_unique_values\": 5,\n        \"samples\": [\n          \"Self-employed\",\n          \"Never_worked\"\n        ],\n        \"semantic_type\": \"\",\n        \"description\": \"\"\n      }\n    },\n    {\n      \"column\": \"Residence_type\",\n      \"properties\": {\n        \"dtype\": \"category\",\n        \"num_unique_values\": 2,\n        \"samples\": [\n          \"Rural\",\n          \"Urban\"\n        ],\n        \"semantic_type\": \"\",\n        \"description\": \"\"\n      }\n    },\n    {\n      \"column\": \"avg_glucose_level\",\n      \"properties\": {\n        \"dtype\": \"number\",\n        \"std\": 45.28356015058198,\n        \"min\": 55.12,\n        \"max\": 271.74,\n        \"num_unique_values\": 3979,\n        \"samples\": [\n          178.29,\n          156.69\n        ],\n        \"semantic_type\": \"\",\n        \"description\": \"\"\n      }\n    },\n    {\n      \"column\": \"bmi\",\n      \"properties\": {\n        \"dtype\": \"number\",\n        \"std\": 7.854066729680164,\n        \"min\": 10.3,\n        \"max\": 97.6,\n        \"num_unique_values\": 418,\n        \"samples\": [\n          49.5,\n          18.5\n        ],\n        \"semantic_type\": \"\",\n        \"description\": \"\"\n      }\n    },\n    {\n      \"column\": \"smoking_status\",\n      \"properties\": {\n        \"dtype\": \"category\",\n        \"num_unique_values\": 4,\n        \"samples\": [\n          \"never smoked\",\n          \"Unknown\"\n        ],\n        \"semantic_type\": \"\",\n        \"description\": \"\"\n      }\n    },\n    {\n      \"column\": \"stroke\",\n      \"properties\": {\n        \"dtype\": \"number\",\n        \"std\": 0,\n        \"min\": 0,\n        \"max\": 1,\n        \"num_unique_values\": 2,\n        \"samples\": [\n          0,\n          1\n        ],\n        \"semantic_type\": \"\",\n        \"description\": \"\"\n      }\n    }\n  ]\n}"
            }
          },
          "metadata": {},
          "execution_count": 8
        }
      ]
    },
    {
      "cell_type": "code",
      "source": [
        "df.describe()"
      ],
      "metadata": {
        "execution": {
          "iopub.status.busy": "2024-09-26T19:52:21.099775Z",
          "iopub.execute_input": "2024-09-26T19:52:21.100375Z",
          "iopub.status.idle": "2024-09-26T19:52:21.130611Z",
          "shell.execute_reply.started": "2024-09-26T19:52:21.100332Z",
          "shell.execute_reply": "2024-09-26T19:52:21.129392Z"
        },
        "trusted": true,
        "id": "5aTHc1vx5RIB",
        "outputId": "459f0142-da5c-4783-c4ff-d35470fc1f8c",
        "colab": {
          "base_uri": "https://localhost:8080/",
          "height": 300
        }
      },
      "execution_count": 9,
      "outputs": [
        {
          "output_type": "execute_result",
          "data": {
            "text/plain": [
              "               age  hypertension  heart_disease  avg_glucose_level  \\\n",
              "count  5110.000000   5110.000000    5110.000000        5110.000000   \n",
              "mean     43.226614      0.097456       0.054012         106.147677   \n",
              "std      22.612647      0.296607       0.226063          45.283560   \n",
              "min       0.080000      0.000000       0.000000          55.120000   \n",
              "25%      25.000000      0.000000       0.000000          77.245000   \n",
              "50%      45.000000      0.000000       0.000000          91.885000   \n",
              "75%      61.000000      0.000000       0.000000         114.090000   \n",
              "max      82.000000      1.000000       1.000000         271.740000   \n",
              "\n",
              "               bmi       stroke  \n",
              "count  4909.000000  5110.000000  \n",
              "mean     28.893237     0.048728  \n",
              "std       7.854067     0.215320  \n",
              "min      10.300000     0.000000  \n",
              "25%      23.500000     0.000000  \n",
              "50%      28.100000     0.000000  \n",
              "75%      33.100000     0.000000  \n",
              "max      97.600000     1.000000  "
            ],
            "text/html": [
              "\n",
              "  <div id=\"df-b8334e28-0773-41cf-8373-4a7a0ed743f4\" class=\"colab-df-container\">\n",
              "    <div>\n",
              "<style scoped>\n",
              "    .dataframe tbody tr th:only-of-type {\n",
              "        vertical-align: middle;\n",
              "    }\n",
              "\n",
              "    .dataframe tbody tr th {\n",
              "        vertical-align: top;\n",
              "    }\n",
              "\n",
              "    .dataframe thead th {\n",
              "        text-align: right;\n",
              "    }\n",
              "</style>\n",
              "<table border=\"1\" class=\"dataframe\">\n",
              "  <thead>\n",
              "    <tr style=\"text-align: right;\">\n",
              "      <th></th>\n",
              "      <th>age</th>\n",
              "      <th>hypertension</th>\n",
              "      <th>heart_disease</th>\n",
              "      <th>avg_glucose_level</th>\n",
              "      <th>bmi</th>\n",
              "      <th>stroke</th>\n",
              "    </tr>\n",
              "  </thead>\n",
              "  <tbody>\n",
              "    <tr>\n",
              "      <th>count</th>\n",
              "      <td>5110.000000</td>\n",
              "      <td>5110.000000</td>\n",
              "      <td>5110.000000</td>\n",
              "      <td>5110.000000</td>\n",
              "      <td>4909.000000</td>\n",
              "      <td>5110.000000</td>\n",
              "    </tr>\n",
              "    <tr>\n",
              "      <th>mean</th>\n",
              "      <td>43.226614</td>\n",
              "      <td>0.097456</td>\n",
              "      <td>0.054012</td>\n",
              "      <td>106.147677</td>\n",
              "      <td>28.893237</td>\n",
              "      <td>0.048728</td>\n",
              "    </tr>\n",
              "    <tr>\n",
              "      <th>std</th>\n",
              "      <td>22.612647</td>\n",
              "      <td>0.296607</td>\n",
              "      <td>0.226063</td>\n",
              "      <td>45.283560</td>\n",
              "      <td>7.854067</td>\n",
              "      <td>0.215320</td>\n",
              "    </tr>\n",
              "    <tr>\n",
              "      <th>min</th>\n",
              "      <td>0.080000</td>\n",
              "      <td>0.000000</td>\n",
              "      <td>0.000000</td>\n",
              "      <td>55.120000</td>\n",
              "      <td>10.300000</td>\n",
              "      <td>0.000000</td>\n",
              "    </tr>\n",
              "    <tr>\n",
              "      <th>25%</th>\n",
              "      <td>25.000000</td>\n",
              "      <td>0.000000</td>\n",
              "      <td>0.000000</td>\n",
              "      <td>77.245000</td>\n",
              "      <td>23.500000</td>\n",
              "      <td>0.000000</td>\n",
              "    </tr>\n",
              "    <tr>\n",
              "      <th>50%</th>\n",
              "      <td>45.000000</td>\n",
              "      <td>0.000000</td>\n",
              "      <td>0.000000</td>\n",
              "      <td>91.885000</td>\n",
              "      <td>28.100000</td>\n",
              "      <td>0.000000</td>\n",
              "    </tr>\n",
              "    <tr>\n",
              "      <th>75%</th>\n",
              "      <td>61.000000</td>\n",
              "      <td>0.000000</td>\n",
              "      <td>0.000000</td>\n",
              "      <td>114.090000</td>\n",
              "      <td>33.100000</td>\n",
              "      <td>0.000000</td>\n",
              "    </tr>\n",
              "    <tr>\n",
              "      <th>max</th>\n",
              "      <td>82.000000</td>\n",
              "      <td>1.000000</td>\n",
              "      <td>1.000000</td>\n",
              "      <td>271.740000</td>\n",
              "      <td>97.600000</td>\n",
              "      <td>1.000000</td>\n",
              "    </tr>\n",
              "  </tbody>\n",
              "</table>\n",
              "</div>\n",
              "    <div class=\"colab-df-buttons\">\n",
              "\n",
              "  <div class=\"colab-df-container\">\n",
              "    <button class=\"colab-df-convert\" onclick=\"convertToInteractive('df-b8334e28-0773-41cf-8373-4a7a0ed743f4')\"\n",
              "            title=\"Convert this dataframe to an interactive table.\"\n",
              "            style=\"display:none;\">\n",
              "\n",
              "  <svg xmlns=\"http://www.w3.org/2000/svg\" height=\"24px\" viewBox=\"0 -960 960 960\">\n",
              "    <path d=\"M120-120v-720h720v720H120Zm60-500h600v-160H180v160Zm220 220h160v-160H400v160Zm0 220h160v-160H400v160ZM180-400h160v-160H180v160Zm440 0h160v-160H620v160ZM180-180h160v-160H180v160Zm440 0h160v-160H620v160Z\"/>\n",
              "  </svg>\n",
              "    </button>\n",
              "\n",
              "  <style>\n",
              "    .colab-df-container {\n",
              "      display:flex;\n",
              "      gap: 12px;\n",
              "    }\n",
              "\n",
              "    .colab-df-convert {\n",
              "      background-color: #E8F0FE;\n",
              "      border: none;\n",
              "      border-radius: 50%;\n",
              "      cursor: pointer;\n",
              "      display: none;\n",
              "      fill: #1967D2;\n",
              "      height: 32px;\n",
              "      padding: 0 0 0 0;\n",
              "      width: 32px;\n",
              "    }\n",
              "\n",
              "    .colab-df-convert:hover {\n",
              "      background-color: #E2EBFA;\n",
              "      box-shadow: 0px 1px 2px rgba(60, 64, 67, 0.3), 0px 1px 3px 1px rgba(60, 64, 67, 0.15);\n",
              "      fill: #174EA6;\n",
              "    }\n",
              "\n",
              "    .colab-df-buttons div {\n",
              "      margin-bottom: 4px;\n",
              "    }\n",
              "\n",
              "    [theme=dark] .colab-df-convert {\n",
              "      background-color: #3B4455;\n",
              "      fill: #D2E3FC;\n",
              "    }\n",
              "\n",
              "    [theme=dark] .colab-df-convert:hover {\n",
              "      background-color: #434B5C;\n",
              "      box-shadow: 0px 1px 3px 1px rgba(0, 0, 0, 0.15);\n",
              "      filter: drop-shadow(0px 1px 2px rgba(0, 0, 0, 0.3));\n",
              "      fill: #FFFFFF;\n",
              "    }\n",
              "  </style>\n",
              "\n",
              "    <script>\n",
              "      const buttonEl =\n",
              "        document.querySelector('#df-b8334e28-0773-41cf-8373-4a7a0ed743f4 button.colab-df-convert');\n",
              "      buttonEl.style.display =\n",
              "        google.colab.kernel.accessAllowed ? 'block' : 'none';\n",
              "\n",
              "      async function convertToInteractive(key) {\n",
              "        const element = document.querySelector('#df-b8334e28-0773-41cf-8373-4a7a0ed743f4');\n",
              "        const dataTable =\n",
              "          await google.colab.kernel.invokeFunction('convertToInteractive',\n",
              "                                                    [key], {});\n",
              "        if (!dataTable) return;\n",
              "\n",
              "        const docLinkHtml = 'Like what you see? Visit the ' +\n",
              "          '<a target=\"_blank\" href=https://colab.research.google.com/notebooks/data_table.ipynb>data table notebook</a>'\n",
              "          + ' to learn more about interactive tables.';\n",
              "        element.innerHTML = '';\n",
              "        dataTable['output_type'] = 'display_data';\n",
              "        await google.colab.output.renderOutput(dataTable, element);\n",
              "        const docLink = document.createElement('div');\n",
              "        docLink.innerHTML = docLinkHtml;\n",
              "        element.appendChild(docLink);\n",
              "      }\n",
              "    </script>\n",
              "  </div>\n",
              "\n",
              "\n",
              "<div id=\"df-4cb9f143-eb79-418a-93ec-4d1bae5edf44\">\n",
              "  <button class=\"colab-df-quickchart\" onclick=\"quickchart('df-4cb9f143-eb79-418a-93ec-4d1bae5edf44')\"\n",
              "            title=\"Suggest charts\"\n",
              "            style=\"display:none;\">\n",
              "\n",
              "<svg xmlns=\"http://www.w3.org/2000/svg\" height=\"24px\"viewBox=\"0 0 24 24\"\n",
              "     width=\"24px\">\n",
              "    <g>\n",
              "        <path d=\"M19 3H5c-1.1 0-2 .9-2 2v14c0 1.1.9 2 2 2h14c1.1 0 2-.9 2-2V5c0-1.1-.9-2-2-2zM9 17H7v-7h2v7zm4 0h-2V7h2v10zm4 0h-2v-4h2v4z\"/>\n",
              "    </g>\n",
              "</svg>\n",
              "  </button>\n",
              "\n",
              "<style>\n",
              "  .colab-df-quickchart {\n",
              "      --bg-color: #E8F0FE;\n",
              "      --fill-color: #1967D2;\n",
              "      --hover-bg-color: #E2EBFA;\n",
              "      --hover-fill-color: #174EA6;\n",
              "      --disabled-fill-color: #AAA;\n",
              "      --disabled-bg-color: #DDD;\n",
              "  }\n",
              "\n",
              "  [theme=dark] .colab-df-quickchart {\n",
              "      --bg-color: #3B4455;\n",
              "      --fill-color: #D2E3FC;\n",
              "      --hover-bg-color: #434B5C;\n",
              "      --hover-fill-color: #FFFFFF;\n",
              "      --disabled-bg-color: #3B4455;\n",
              "      --disabled-fill-color: #666;\n",
              "  }\n",
              "\n",
              "  .colab-df-quickchart {\n",
              "    background-color: var(--bg-color);\n",
              "    border: none;\n",
              "    border-radius: 50%;\n",
              "    cursor: pointer;\n",
              "    display: none;\n",
              "    fill: var(--fill-color);\n",
              "    height: 32px;\n",
              "    padding: 0;\n",
              "    width: 32px;\n",
              "  }\n",
              "\n",
              "  .colab-df-quickchart:hover {\n",
              "    background-color: var(--hover-bg-color);\n",
              "    box-shadow: 0 1px 2px rgba(60, 64, 67, 0.3), 0 1px 3px 1px rgba(60, 64, 67, 0.15);\n",
              "    fill: var(--button-hover-fill-color);\n",
              "  }\n",
              "\n",
              "  .colab-df-quickchart-complete:disabled,\n",
              "  .colab-df-quickchart-complete:disabled:hover {\n",
              "    background-color: var(--disabled-bg-color);\n",
              "    fill: var(--disabled-fill-color);\n",
              "    box-shadow: none;\n",
              "  }\n",
              "\n",
              "  .colab-df-spinner {\n",
              "    border: 2px solid var(--fill-color);\n",
              "    border-color: transparent;\n",
              "    border-bottom-color: var(--fill-color);\n",
              "    animation:\n",
              "      spin 1s steps(1) infinite;\n",
              "  }\n",
              "\n",
              "  @keyframes spin {\n",
              "    0% {\n",
              "      border-color: transparent;\n",
              "      border-bottom-color: var(--fill-color);\n",
              "      border-left-color: var(--fill-color);\n",
              "    }\n",
              "    20% {\n",
              "      border-color: transparent;\n",
              "      border-left-color: var(--fill-color);\n",
              "      border-top-color: var(--fill-color);\n",
              "    }\n",
              "    30% {\n",
              "      border-color: transparent;\n",
              "      border-left-color: var(--fill-color);\n",
              "      border-top-color: var(--fill-color);\n",
              "      border-right-color: var(--fill-color);\n",
              "    }\n",
              "    40% {\n",
              "      border-color: transparent;\n",
              "      border-right-color: var(--fill-color);\n",
              "      border-top-color: var(--fill-color);\n",
              "    }\n",
              "    60% {\n",
              "      border-color: transparent;\n",
              "      border-right-color: var(--fill-color);\n",
              "    }\n",
              "    80% {\n",
              "      border-color: transparent;\n",
              "      border-right-color: var(--fill-color);\n",
              "      border-bottom-color: var(--fill-color);\n",
              "    }\n",
              "    90% {\n",
              "      border-color: transparent;\n",
              "      border-bottom-color: var(--fill-color);\n",
              "    }\n",
              "  }\n",
              "</style>\n",
              "\n",
              "  <script>\n",
              "    async function quickchart(key) {\n",
              "      const quickchartButtonEl =\n",
              "        document.querySelector('#' + key + ' button');\n",
              "      quickchartButtonEl.disabled = true;  // To prevent multiple clicks.\n",
              "      quickchartButtonEl.classList.add('colab-df-spinner');\n",
              "      try {\n",
              "        const charts = await google.colab.kernel.invokeFunction(\n",
              "            'suggestCharts', [key], {});\n",
              "      } catch (error) {\n",
              "        console.error('Error during call to suggestCharts:', error);\n",
              "      }\n",
              "      quickchartButtonEl.classList.remove('colab-df-spinner');\n",
              "      quickchartButtonEl.classList.add('colab-df-quickchart-complete');\n",
              "    }\n",
              "    (() => {\n",
              "      let quickchartButtonEl =\n",
              "        document.querySelector('#df-4cb9f143-eb79-418a-93ec-4d1bae5edf44 button');\n",
              "      quickchartButtonEl.style.display =\n",
              "        google.colab.kernel.accessAllowed ? 'block' : 'none';\n",
              "    })();\n",
              "  </script>\n",
              "</div>\n",
              "\n",
              "    </div>\n",
              "  </div>\n"
            ],
            "application/vnd.google.colaboratory.intrinsic+json": {
              "type": "dataframe",
              "summary": "{\n  \"name\": \"df\",\n  \"rows\": 8,\n  \"fields\": [\n    {\n      \"column\": \"age\",\n      \"properties\": {\n        \"dtype\": \"number\",\n        \"std\": 1792.744047061404,\n        \"min\": 0.08,\n        \"max\": 5110.0,\n        \"num_unique_values\": 8,\n        \"samples\": [\n          43.226614481409,\n          45.0,\n          5110.0\n        ],\n        \"semantic_type\": \"\",\n        \"description\": \"\"\n      }\n    },\n    {\n      \"column\": \"hypertension\",\n      \"properties\": {\n        \"dtype\": \"number\",\n        \"std\": 1806.5874475501562,\n        \"min\": 0.0,\n        \"max\": 5110.0,\n        \"num_unique_values\": 5,\n        \"samples\": [\n          0.0974559686888454,\n          1.0,\n          0.29660667423379117\n        ],\n        \"semantic_type\": \"\",\n        \"description\": \"\"\n      }\n    },\n    {\n      \"column\": \"heart_disease\",\n      \"properties\": {\n        \"dtype\": \"number\",\n        \"std\": 1806.593204812832,\n        \"min\": 0.0,\n        \"max\": 5110.0,\n        \"num_unique_values\": 5,\n        \"samples\": [\n          0.05401174168297456,\n          1.0,\n          0.22606298750336543\n        ],\n        \"semantic_type\": \"\",\n        \"description\": \"\"\n      }\n    },\n    {\n      \"column\": \"avg_glucose_level\",\n      \"properties\": {\n        \"dtype\": \"number\",\n        \"std\": 1769.6002138244987,\n        \"min\": 45.28356015058198,\n        \"max\": 5110.0,\n        \"num_unique_values\": 8,\n        \"samples\": [\n          106.1476771037182,\n          91.88499999999999,\n          5110.0\n        ],\n        \"semantic_type\": \"\",\n        \"description\": \"\"\n      }\n    },\n    {\n      \"column\": \"bmi\",\n      \"properties\": {\n        \"dtype\": \"number\",\n        \"std\": 1724.2356567020183,\n        \"min\": 7.854066729680164,\n        \"max\": 4909.0,\n        \"num_unique_values\": 8,\n        \"samples\": [\n          28.893236911794666,\n          28.1,\n          4909.0\n        ],\n        \"semantic_type\": \"\",\n        \"description\": \"\"\n      }\n    },\n    {\n      \"column\": \"stroke\",\n      \"properties\": {\n        \"dtype\": \"number\",\n        \"std\": 1806.5940143142545,\n        \"min\": 0.0,\n        \"max\": 5110.0,\n        \"num_unique_values\": 5,\n        \"samples\": [\n          0.0487279843444227,\n          1.0,\n          0.2153198569802376\n        ],\n        \"semantic_type\": \"\",\n        \"description\": \"\"\n      }\n    }\n  ]\n}"
            }
          },
          "metadata": {},
          "execution_count": 9
        }
      ]
    },
    {
      "cell_type": "markdown",
      "source": [
        "# **Check Null values & Duplicated:**"
      ],
      "metadata": {
        "id": "VJtDC2Qt5RIE"
      }
    },
    {
      "cell_type": "code",
      "source": [
        "df.isnull().sum().sort_values(ascending=False).head() # will be handled later using knnimputer after encoding"
      ],
      "metadata": {
        "execution": {
          "iopub.status.busy": "2024-09-26T19:52:21.131853Z",
          "iopub.execute_input": "2024-09-26T19:52:21.13217Z",
          "iopub.status.idle": "2024-09-26T19:52:21.14459Z",
          "shell.execute_reply.started": "2024-09-26T19:52:21.132136Z",
          "shell.execute_reply": "2024-09-26T19:52:21.143411Z"
        },
        "trusted": true,
        "id": "MRolh3l45RIG",
        "outputId": "04416978-2fbe-4bba-f809-f0e901ccdafd",
        "colab": {
          "base_uri": "https://localhost:8080/",
          "height": 241
        }
      },
      "execution_count": 10,
      "outputs": [
        {
          "output_type": "execute_result",
          "data": {
            "text/plain": [
              "bmi              201\n",
              "gender             0\n",
              "age                0\n",
              "hypertension       0\n",
              "heart_disease      0\n",
              "dtype: int64"
            ],
            "text/html": [
              "<div>\n",
              "<style scoped>\n",
              "    .dataframe tbody tr th:only-of-type {\n",
              "        vertical-align: middle;\n",
              "    }\n",
              "\n",
              "    .dataframe tbody tr th {\n",
              "        vertical-align: top;\n",
              "    }\n",
              "\n",
              "    .dataframe thead th {\n",
              "        text-align: right;\n",
              "    }\n",
              "</style>\n",
              "<table border=\"1\" class=\"dataframe\">\n",
              "  <thead>\n",
              "    <tr style=\"text-align: right;\">\n",
              "      <th></th>\n",
              "      <th>0</th>\n",
              "    </tr>\n",
              "  </thead>\n",
              "  <tbody>\n",
              "    <tr>\n",
              "      <th>bmi</th>\n",
              "      <td>201</td>\n",
              "    </tr>\n",
              "    <tr>\n",
              "      <th>gender</th>\n",
              "      <td>0</td>\n",
              "    </tr>\n",
              "    <tr>\n",
              "      <th>age</th>\n",
              "      <td>0</td>\n",
              "    </tr>\n",
              "    <tr>\n",
              "      <th>hypertension</th>\n",
              "      <td>0</td>\n",
              "    </tr>\n",
              "    <tr>\n",
              "      <th>heart_disease</th>\n",
              "      <td>0</td>\n",
              "    </tr>\n",
              "  </tbody>\n",
              "</table>\n",
              "</div><br><label><b>dtype:</b> int64</label>"
            ]
          },
          "metadata": {},
          "execution_count": 10
        }
      ]
    },
    {
      "cell_type": "code",
      "source": [
        "sns.heatmap(df.isnull(), cbar=False, yticklabels=False)"
      ],
      "metadata": {
        "execution": {
          "iopub.status.busy": "2024-09-26T19:52:21.145631Z",
          "iopub.execute_input": "2024-09-26T19:52:21.145982Z",
          "iopub.status.idle": "2024-09-26T19:52:21.479977Z",
          "shell.execute_reply.started": "2024-09-26T19:52:21.145945Z",
          "shell.execute_reply": "2024-09-26T19:52:21.478625Z"
        },
        "trusted": true,
        "id": "A1NtFnd65RIH",
        "outputId": "64bd9c6b-fa53-41c3-edf7-4fd016ae0576",
        "colab": {
          "base_uri": "https://localhost:8080/",
          "height": 560
        }
      },
      "execution_count": 11,
      "outputs": [
        {
          "output_type": "execute_result",
          "data": {
            "text/plain": [
              "<Axes: >"
            ]
          },
          "metadata": {},
          "execution_count": 11
        },
        {
          "output_type": "display_data",
          "data": {
            "text/plain": [
              "<Figure size 640x480 with 1 Axes>"
            ],
            "image/png": "[encoded data removed]"
          },
          "metadata": {}
        }
      ]
    },
    {
      "cell_type": "code",
      "source": [
        "df.duplicated().sum() #no duplicated values"
      ],
      "metadata": {
        "execution": {
          "iopub.status.busy": "2024-09-26T19:52:21.482011Z",
          "iopub.execute_input": "2024-09-26T19:52:21.482526Z",
          "iopub.status.idle": "2024-09-26T19:52:21.495384Z",
          "shell.execute_reply.started": "2024-09-26T19:52:21.482467Z",
          "shell.execute_reply": "2024-09-26T19:52:21.494434Z"
        },
        "trusted": true,
        "id": "uR0vohaU5RII",
        "outputId": "edaa6ab0-0478-4132-a4c3-d203227a584e",
        "colab": {
          "base_uri": "https://localhost:8080/"
        }
      },
      "execution_count": 12,
      "outputs": [
        {
          "output_type": "execute_result",
          "data": {
            "text/plain": [
              "0"
            ]
          },
          "metadata": {},
          "execution_count": 12
        }
      ]
    },
    {
      "cell_type": "markdown",
      "source": [
        "# **Correlations**"
      ],
      "metadata": {
        "id": "V1zjaheC5RII"
      }
    },
    {
      "cell_type": "code",
      "source": [
        "# Select columns of type int or float\n",
        "obj_cols = df.select_dtypes(include=['int64', 'float64']).columns\n",
        "\n",
        "key = []\n",
        "vals = []\n",
        "\n",
        "# Iterate over numeric columns and compute correlation with 'RiskScore'\n",
        "for n in obj_cols:\n",
        "    if n=='stroke':\n",
        "        continue\n",
        "    key.append(n)\n",
        "    vals.append(abs(df['stroke'].corr(df[n])))\n",
        "    print(n,\": \",df['stroke'].corr(df[n]))\n",
        "\n",
        "# Plot the values\n",
        "plt.figure(figsize=(10,6))\n",
        "sns.barplot(x=key, y=vals)\n",
        "plt.xticks(rotation=90)  # Rotate x-axis labels if necessary\n",
        "plt.title('Correlation of Features with stroke')\n",
        "plt.ylabel('Absolute Correlation')\n",
        "plt.xlabel('Features')\n",
        "plt.show()"
      ],
      "metadata": {
        "execution": {
          "iopub.status.busy": "2024-09-26T19:52:21.497007Z",
          "iopub.execute_input": "2024-09-26T19:52:21.497937Z",
          "iopub.status.idle": "2024-09-26T19:52:21.808976Z",
          "shell.execute_reply.started": "2024-09-26T19:52:21.497883Z",
          "shell.execute_reply": "2024-09-26T19:52:21.807909Z"
        },
        "trusted": true,
        "id": "Z4FiGkfJ5RIJ",
        "outputId": "ca2c73cd-6c3a-4981-b5d6-7b7c08ad9b2a",
        "colab": {
          "base_uri": "https://localhost:8080/",
          "height": 768
        }
      },
      "execution_count": 13,
      "outputs": [
        {
          "output_type": "stream",
          "name": "stdout",
          "text": [
            "age :  0.24525734617097444\n",
            "hypertension :  0.1279038234664799\n",
            "heart_disease :  0.1349139969686925\n",
            "avg_glucose_level :  0.13194544082571003\n",
            "bmi :  0.04237366114923359\n"
          ]
        },
        {
          "output_type": "display_data",
          "data": {
            "text/plain": [
              "<Figure size 1000x600 with 1 Axes>"
            ],
            "image/png": "[encoded data removed]"
          },
          "metadata": {}
        }
      ]
    },
    {
      "cell_type": "code",
      "source": [
        "df.nunique().sort_values()"
      ],
      "metadata": {
        "execution": {
          "iopub.status.busy": "2024-09-26T19:52:21.810596Z",
          "iopub.execute_input": "2024-09-26T19:52:21.811041Z",
          "iopub.status.idle": "2024-09-26T19:52:21.826884Z",
          "shell.execute_reply.started": "2024-09-26T19:52:21.810989Z",
          "shell.execute_reply": "2024-09-26T19:52:21.825434Z"
        },
        "trusted": true,
        "id": "gQx5lzsV5RIJ",
        "outputId": "e7db8f40-35af-4783-c867-39e8f38d4dda",
        "colab": {
          "base_uri": "https://localhost:8080/",
          "height": 429
        }
      },
      "execution_count": 14,
      "outputs": [
        {
          "output_type": "execute_result",
          "data": {
            "text/plain": [
              "hypertension            2\n",
              "heart_disease           2\n",
              "ever_married            2\n",
              "Residence_type          2\n",
              "stroke                  2\n",
              "gender                  3\n",
              "smoking_status          4\n",
              "work_type               5\n",
              "age                   104\n",
              "bmi                   418\n",
              "avg_glucose_level    3979\n",
              "dtype: int64"
            ],
            "text/html": [
              "<div>\n",
              "<style scoped>\n",
              "    .dataframe tbody tr th:only-of-type {\n",
              "        vertical-align: middle;\n",
              "    }\n",
              "\n",
              "    .dataframe tbody tr th {\n",
              "        vertical-align: top;\n",
              "    }\n",
              "\n",
              "    .dataframe thead th {\n",
              "        text-align: right;\n",
              "    }\n",
              "</style>\n",
              "<table border=\"1\" class=\"dataframe\">\n",
              "  <thead>\n",
              "    <tr style=\"text-align: right;\">\n",
              "      <th></th>\n",
              "      <th>0</th>\n",
              "    </tr>\n",
              "  </thead>\n",
              "  <tbody>\n",
              "    <tr>\n",
              "      <th>hypertension</th>\n",
              "      <td>2</td>\n",
              "    </tr>\n",
              "    <tr>\n",
              "      <th>heart_disease</th>\n",
              "      <td>2</td>\n",
              "    </tr>\n",
              "    <tr>\n",
              "      <th>ever_married</th>\n",
              "      <td>2</td>\n",
              "    </tr>\n",
              "    <tr>\n",
              "      <th>Residence_type</th>\n",
              "      <td>2</td>\n",
              "    </tr>\n",
              "    <tr>\n",
              "      <th>stroke</th>\n",
              "      <td>2</td>\n",
              "    </tr>\n",
              "    <tr>\n",
              "      <th>gender</th>\n",
              "      <td>3</td>\n",
              "    </tr>\n",
              "    <tr>\n",
              "      <th>smoking_status</th>\n",
              "      <td>4</td>\n",
              "    </tr>\n",
              "    <tr>\n",
              "      <th>work_type</th>\n",
              "      <td>5</td>\n",
              "    </tr>\n",
              "    <tr>\n",
              "      <th>age</th>\n",
              "      <td>104</td>\n",
              "    </tr>\n",
              "    <tr>\n",
              "      <th>bmi</th>\n",
              "      <td>418</td>\n",
              "    </tr>\n",
              "    <tr>\n",
              "      <th>avg_glucose_level</th>\n",
              "      <td>3979</td>\n",
              "    </tr>\n",
              "  </tbody>\n",
              "</table>\n",
              "</div><br><label><b>dtype:</b> int64</label>"
            ]
          },
          "metadata": {},
          "execution_count": 14
        }
      ]
    },
    {
      "cell_type": "markdown",
      "source": [
        "# **Plots before balancing:**"
      ],
      "metadata": {
        "id": "9rvl71135RIK"
      }
    },
    {
      "cell_type": "markdown",
      "source": [
        "The plot would not reflect a good view as the data is unbalanced"
      ],
      "metadata": {
        "id": "rDvt5wk75RIK"
      }
    },
    {
      "cell_type": "code",
      "source": [
        "df.columns"
      ],
      "metadata": {
        "execution": {
          "iopub.status.busy": "2024-09-26T19:52:21.832166Z",
          "iopub.execute_input": "2024-09-26T19:52:21.83282Z",
          "iopub.status.idle": "2024-09-26T19:52:21.839834Z",
          "shell.execute_reply.started": "2024-09-26T19:52:21.832778Z",
          "shell.execute_reply": "2024-09-26T19:52:21.838843Z"
        },
        "trusted": true,
        "id": "VloG-uih5RIL",
        "outputId": "db4ebd92-3d7d-4c58-9733-97b4b37659cd",
        "colab": {
          "base_uri": "https://localhost:8080/"
        }
      },
      "execution_count": 15,
      "outputs": [
        {
          "output_type": "execute_result",
          "data": {
            "text/plain": [
              "Index(['gender', 'age', 'hypertension', 'heart_disease', 'ever_married',\n",
              "       'work_type', 'Residence_type', 'avg_glucose_level', 'bmi',\n",
              "       'smoking_status', 'stroke'],\n",
              "      dtype='object')"
            ]
          },
          "metadata": {},
          "execution_count": 15
        }
      ]
    },
    {
      "cell_type": "code",
      "source": [
        "df['stroke']=np.where(df['stroke'] == 1,'Had Stroke','No Stroke')\n",
        "sns.countplot(x=df['heart_disease'],hue=df['stroke'])"
      ],
      "metadata": {
        "execution": {
          "iopub.status.busy": "2024-09-26T19:52:21.841091Z",
          "iopub.execute_input": "2024-09-26T19:52:21.841506Z",
          "iopub.status.idle": "2024-09-26T19:52:22.109481Z",
          "shell.execute_reply.started": "2024-09-26T19:52:21.841463Z",
          "shell.execute_reply": "2024-09-26T19:52:22.108454Z"
        },
        "trusted": true,
        "id": "3RwA5Ann5RIL",
        "outputId": "ff381652-1697-4008-94a7-1f28f3e1a566",
        "colab": {
          "base_uri": "https://localhost:8080/",
          "height": 468
        }
      },
      "execution_count": 16,
      "outputs": [
        {
          "output_type": "execute_result",
          "data": {
            "text/plain": [
              "<Axes: xlabel='heart_disease', ylabel='count'>"
            ]
          },
          "metadata": {},
          "execution_count": 16
        },
        {
          "output_type": "display_data",
          "data": {
            "text/plain": [
              "<Figure size 640x480 with 1 Axes>"
            ],
            "image/png": "[encoded data removed]"
          },
          "metadata": {}
        }
      ]
    },
    {
      "cell_type": "code",
      "source": [
        "sns.countplot(x=df['hypertension'],hue=df['stroke'])"
      ],
      "metadata": {
        "execution": {
          "iopub.status.busy": "2024-09-26T19:52:22.111198Z",
          "iopub.execute_input": "2024-09-26T19:52:22.112029Z",
          "iopub.status.idle": "2024-09-26T19:52:22.377213Z",
          "shell.execute_reply.started": "2024-09-26T19:52:22.111974Z",
          "shell.execute_reply": "2024-09-26T19:52:22.376066Z"
        },
        "trusted": true,
        "id": "ZV9G8ChX5RIM",
        "outputId": "edc25b98-504f-463c-dc27-94c17e17df6d",
        "colab": {
          "base_uri": "https://localhost:8080/",
          "height": 467
        }
      },
      "execution_count": 17,
      "outputs": [
        {
          "output_type": "execute_result",
          "data": {
            "text/plain": [
              "<Axes: xlabel='hypertension', ylabel='count'>"
            ]
          },
          "metadata": {},
          "execution_count": 17
        },
        {
          "output_type": "display_data",
          "data": {
            "text/plain": [
              "<Figure size 640x480 with 1 Axes>"
            ],
            "image/png": "[encoded data removed]"
          },
          "metadata": {}
        }
      ]
    },
    {
      "cell_type": "code",
      "source": [
        "df['stroke']=np.where(df['stroke'] == 'Had Stroke',1,0) # return it back to numeric values\n"
      ],
      "metadata": {
        "execution": {
          "iopub.status.busy": "2024-09-26T19:52:22.378646Z",
          "iopub.execute_input": "2024-09-26T19:52:22.379013Z",
          "iopub.status.idle": "2024-09-26T19:52:22.38582Z",
          "shell.execute_reply.started": "2024-09-26T19:52:22.378974Z",
          "shell.execute_reply": "2024-09-26T19:52:22.38472Z"
        },
        "trusted": true,
        "id": "rMMAYTu95RIM"
      },
      "execution_count": 18,
      "outputs": []
    },
    {
      "cell_type": "markdown",
      "source": [
        "# **Encoding:**"
      ],
      "metadata": {
        "id": "ZVUF3SVP5RIN"
      }
    },
    {
      "cell_type": "code",
      "source": [
        "from sklearn.preprocessing import LabelEncoder\n",
        "obj_cols=df.select_dtypes('object').columns\n",
        "obj_cols"
      ],
      "metadata": {
        "execution": {
          "iopub.status.busy": "2024-09-26T19:52:22.387441Z",
          "iopub.execute_input": "2024-09-26T19:52:22.38795Z",
          "iopub.status.idle": "2024-09-26T19:52:22.400832Z",
          "shell.execute_reply.started": "2024-09-26T19:52:22.387898Z",
          "shell.execute_reply": "2024-09-26T19:52:22.399517Z"
        },
        "trusted": true,
        "id": "g7NSKXnc5RIN",
        "outputId": "c436eee9-a5c1-4c2f-92db-113e33286080",
        "colab": {
          "base_uri": "https://localhost:8080/"
        }
      },
      "execution_count": 19,
      "outputs": [
        {
          "output_type": "execute_result",
          "data": {
            "text/plain": [
              "Index(['gender', 'ever_married', 'work_type', 'Residence_type',\n",
              "       'smoking_status'],\n",
              "      dtype='object')"
            ]
          },
          "metadata": {},
          "execution_count": 19
        }
      ]
    },
    {
      "cell_type": "code",
      "source": [
        "for c in obj_cols:\n",
        "    lb =LabelEncoder()\n",
        "    df.loc[:,c]= lb.fit_transform(df[c])\n",
        "df.head(3)"
      ],
      "metadata": {
        "execution": {
          "iopub.status.busy": "2024-09-26T19:52:22.402307Z",
          "iopub.execute_input": "2024-09-26T19:52:22.402717Z",
          "iopub.status.idle": "2024-09-26T19:52:22.432374Z",
          "shell.execute_reply.started": "2024-09-26T19:52:22.402678Z",
          "shell.execute_reply": "2024-09-26T19:52:22.431204Z"
        },
        "trusted": true,
        "id": "N5Oh5Bns5RIN",
        "outputId": "1a9d3d8c-ee99-4a76-bc53-2c064b4a7933",
        "colab": {
          "base_uri": "https://localhost:8080/",
          "height": 143
        }
      },
      "execution_count": 20,
      "outputs": [
        {
          "output_type": "execute_result",
          "data": {
            "text/plain": [
              "  gender   age  hypertension  heart_disease ever_married work_type  \\\n",
              "0      1  67.0             0              1            1         2   \n",
              "1      0  61.0             0              0            1         3   \n",
              "2      1  80.0             0              1            1         2   \n",
              "\n",
              "  Residence_type  avg_glucose_level   bmi smoking_status  stroke  \n",
              "0              1             228.69  36.6              1       1  \n",
              "1              0             202.21   NaN              2       1  \n",
              "2              0             105.92  32.5              2       1  "
            ],
            "text/html": [
              "\n",
              "  <div id=\"df-5b8a288e-1bbc-44dd-afa4-3f3d5edd5069\" class=\"colab-df-container\">\n",
              "    <div>\n",
              "<style scoped>\n",
              "    .dataframe tbody tr th:only-of-type {\n",
              "        vertical-align: middle;\n",
              "    }\n",
              "\n",
              "    .dataframe tbody tr th {\n",
              "        vertical-align: top;\n",
              "    }\n",
              "\n",
              "    .dataframe thead th {\n",
              "        text-align: right;\n",
              "    }\n",
              "</style>\n",
              "<table border=\"1\" class=\"dataframe\">\n",
              "  <thead>\n",
              "    <tr style=\"text-align: right;\">\n",
              "      <th></th>\n",
              "      <th>gender</th>\n",
              "      <th>age</th>\n",
              "      <th>hypertension</th>\n",
              "      <th>heart_disease</th>\n",
              "      <th>ever_married</th>\n",
              "      <th>work_type</th>\n",
              "      <th>Residence_type</th>\n",
              "      <th>avg_glucose_level</th>\n",
              "      <th>bmi</th>\n",
              "      <th>smoking_status</th>\n",
              "      <th>stroke</th>\n",
              "    </tr>\n",
              "  </thead>\n",
              "  <tbody>\n",
              "    <tr>\n",
              "      <th>0</th>\n",
              "      <td>1</td>\n",
              "      <td>67.0</td>\n",
              "      <td>0</td>\n",
              "      <td>1</td>\n",
              "      <td>1</td>\n",
              "      <td>2</td>\n",
              "      <td>1</td>\n",
              "      <td>228.69</td>\n",
              "      <td>36.6</td>\n",
              "      <td>1</td>\n",
              "      <td>1</td>\n",
              "    </tr>\n",
              "    <tr>\n",
              "      <th>1</th>\n",
              "      <td>0</td>\n",
              "      <td>61.0</td>\n",
              "      <td>0</td>\n",
              "      <td>0</td>\n",
              "      <td>1</td>\n",
              "      <td>3</td>\n",
              "      <td>0</td>\n",
              "      <td>202.21</td>\n",
              "      <td>NaN</td>\n",
              "      <td>2</td>\n",
              "      <td>1</td>\n",
              "    </tr>\n",
              "    <tr>\n",
              "      <th>2</th>\n",
              "      <td>1</td>\n",
              "      <td>80.0</td>\n",
              "      <td>0</td>\n",
              "      <td>1</td>\n",
              "      <td>1</td>\n",
              "      <td>2</td>\n",
              "      <td>0</td>\n",
              "      <td>105.92</td>\n",
              "      <td>32.5</td>\n",
              "      <td>2</td>\n",
              "      <td>1</td>\n",
              "    </tr>\n",
              "  </tbody>\n",
              "</table>\n",
              "</div>\n",
              "    <div class=\"colab-df-buttons\">\n",
              "\n",
              "  <div class=\"colab-df-container\">\n",
              "    <button class=\"colab-df-convert\" onclick=\"convertToInteractive('df-5b8a288e-1bbc-44dd-afa4-3f3d5edd5069')\"\n",
              "            title=\"Convert this dataframe to an interactive table.\"\n",
              "            style=\"display:none;\">\n",
              "\n",
              "  <svg xmlns=\"http://www.w3.org/2000/svg\" height=\"24px\" viewBox=\"0 -960 960 960\">\n",
              "    <path d=\"M120-120v-720h720v720H120Zm60-500h600v-160H180v160Zm220 220h160v-160H400v160Zm0 220h160v-160H400v160ZM180-400h160v-160H180v160Zm440 0h160v-160H620v160ZM180-180h160v-160H180v160Zm440 0h160v-160H620v160Z\"/>\n",
              "  </svg>\n",
              "    </button>\n",
              "\n",
              "  <style>\n",
              "    .colab-df-container {\n",
              "      display:flex;\n",
              "      gap: 12px;\n",
              "    }\n",
              "\n",
              "    .colab-df-convert {\n",
              "      background-color: #E8F0FE;\n",
              "      border: none;\n",
              "      border-radius: 50%;\n",
              "      cursor: pointer;\n",
              "      display: none;\n",
              "      fill: #1967D2;\n",
              "      height: 32px;\n",
              "      padding: 0 0 0 0;\n",
              "      width: 32px;\n",
              "    }\n",
              "\n",
              "    .colab-df-convert:hover {\n",
              "      background-color: #E2EBFA;\n",
              "      box-shadow: 0px 1px 2px rgba(60, 64, 67, 0.3), 0px 1px 3px 1px rgba(60, 64, 67, 0.15);\n",
              "      fill: #174EA6;\n",
              "    }\n",
              "\n",
              "    .colab-df-buttons div {\n",
              "      margin-bottom: 4px;\n",
              "    }\n",
              "\n",
              "    [theme=dark] .colab-df-convert {\n",
              "      background-color: #3B4455;\n",
              "      fill: #D2E3FC;\n",
              "    }\n",
              "\n",
              "    [theme=dark] .colab-df-convert:hover {\n",
              "      background-color: #434B5C;\n",
              "      box-shadow: 0px 1px 3px 1px rgba(0, 0, 0, 0.15);\n",
              "      filter: drop-shadow(0px 1px 2px rgba(0, 0, 0, 0.3));\n",
              "      fill: #FFFFFF;\n",
              "    }\n",
              "  </style>\n",
              "\n",
              "    <script>\n",
              "      const buttonEl =\n",
              "        document.querySelector('#df-5b8a288e-1bbc-44dd-afa4-3f3d5edd5069 button.colab-df-convert');\n",
              "      buttonEl.style.display =\n",
              "        google.colab.kernel.accessAllowed ? 'block' : 'none';\n",
              "\n",
              "      async function convertToInteractive(key) {\n",
              "        const element = document.querySelector('#df-5b8a288e-1bbc-44dd-afa4-3f3d5edd5069');\n",
              "        const dataTable =\n",
              "          await google.colab.kernel.invokeFunction('convertToInteractive',\n",
              "                                                    [key], {});\n",
              "        if (!dataTable) return;\n",
              "\n",
              "        const docLinkHtml = 'Like what you see? Visit the ' +\n",
              "          '<a target=\"_blank\" href=https://colab.research.google.com/notebooks/data_table.ipynb>data table notebook</a>'\n",
              "          + ' to learn more about interactive tables.';\n",
              "        element.innerHTML = '';\n",
              "        dataTable['output_type'] = 'display_data';\n",
              "        await google.colab.output.renderOutput(dataTable, element);\n",
              "        const docLink = document.createElement('div');\n",
              "        docLink.innerHTML = docLinkHtml;\n",
              "        element.appendChild(docLink);\n",
              "      }\n",
              "    </script>\n",
              "  </div>\n",
              "\n",
              "\n",
              "<div id=\"df-c4fd1df5-30d5-4925-9d99-d7fae3c07c5d\">\n",
              "  <button class=\"colab-df-quickchart\" onclick=\"quickchart('df-c4fd1df5-30d5-4925-9d99-d7fae3c07c5d')\"\n",
              "            title=\"Suggest charts\"\n",
              "            style=\"display:none;\">\n",
              "\n",
              "<svg xmlns=\"http://www.w3.org/2000/svg\" height=\"24px\"viewBox=\"0 0 24 24\"\n",
              "     width=\"24px\">\n",
              "    <g>\n",
              "        <path d=\"M19 3H5c-1.1 0-2 .9-2 2v14c0 1.1.9 2 2 2h14c1.1 0 2-.9 2-2V5c0-1.1-.9-2-2-2zM9 17H7v-7h2v7zm4 0h-2V7h2v10zm4 0h-2v-4h2v4z\"/>\n",
              "    </g>\n",
              "</svg>\n",
              "  </button>\n",
              "\n",
              "<style>\n",
              "  .colab-df-quickchart {\n",
              "      --bg-color: #E8F0FE;\n",
              "      --fill-color: #1967D2;\n",
              "      --hover-bg-color: #E2EBFA;\n",
              "      --hover-fill-color: #174EA6;\n",
              "      --disabled-fill-color: #AAA;\n",
              "      --disabled-bg-color: #DDD;\n",
              "  }\n",
              "\n",
              "  [theme=dark] .colab-df-quickchart {\n",
              "      --bg-color: #3B4455;\n",
              "      --fill-color: #D2E3FC;\n",
              "      --hover-bg-color: #434B5C;\n",
              "      --hover-fill-color: #FFFFFF;\n",
              "      --disabled-bg-color: #3B4455;\n",
              "      --disabled-fill-color: #666;\n",
              "  }\n",
              "\n",
              "  .colab-df-quickchart {\n",
              "    background-color: var(--bg-color);\n",
              "    border: none;\n",
              "    border-radius: 50%;\n",
              "    cursor: pointer;\n",
              "    display: none;\n",
              "    fill: var(--fill-color);\n",
              "    height: 32px;\n",
              "    padding: 0;\n",
              "    width: 32px;\n",
              "  }\n",
              "\n",
              "  .colab-df-quickchart:hover {\n",
              "    background-color: var(--hover-bg-color);\n",
              "    box-shadow: 0 1px 2px rgba(60, 64, 67, 0.3), 0 1px 3px 1px rgba(60, 64, 67, 0.15);\n",
              "    fill: var(--button-hover-fill-color);\n",
              "  }\n",
              "\n",
              "  .colab-df-quickchart-complete:disabled,\n",
              "  .colab-df-quickchart-complete:disabled:hover {\n",
              "    background-color: var(--disabled-bg-color);\n",
              "    fill: var(--disabled-fill-color);\n",
              "    box-shadow: none;\n",
              "  }\n",
              "\n",
              "  .colab-df-spinner {\n",
              "    border: 2px solid var(--fill-color);\n",
              "    border-color: transparent;\n",
              "    border-bottom-color: var(--fill-color);\n",
              "    animation:\n",
              "      spin 1s steps(1) infinite;\n",
              "  }\n",
              "\n",
              "  @keyframes spin {\n",
              "    0% {\n",
              "      border-color: transparent;\n",
              "      border-bottom-color: var(--fill-color);\n",
              "      border-left-color: var(--fill-color);\n",
              "    }\n",
              "    20% {\n",
              "      border-color: transparent;\n",
              "      border-left-color: var(--fill-color);\n",
              "      border-top-color: var(--fill-color);\n",
              "    }\n",
              "    30% {\n",
              "      border-color: transparent;\n",
              "      border-left-color: var(--fill-color);\n",
              "      border-top-color: var(--fill-color);\n",
              "      border-right-color: var(--fill-color);\n",
              "    }\n",
              "    40% {\n",
              "      border-color: transparent;\n",
              "      border-right-color: var(--fill-color);\n",
              "      border-top-color: var(--fill-color);\n",
              "    }\n",
              "    60% {\n",
              "      border-color: transparent;\n",
              "      border-right-color: var(--fill-color);\n",
              "    }\n",
              "    80% {\n",
              "      border-color: transparent;\n",
              "      border-right-color: var(--fill-color);\n",
              "      border-bottom-color: var(--fill-color);\n",
              "    }\n",
              "    90% {\n",
              "      border-color: transparent;\n",
              "      border-bottom-color: var(--fill-color);\n",
              "    }\n",
              "  }\n",
              "</style>\n",
              "\n",
              "  <script>\n",
              "    async function quickchart(key) {\n",
              "      const quickchartButtonEl =\n",
              "        document.querySelector('#' + key + ' button');\n",
              "      quickchartButtonEl.disabled = true;  // To prevent multiple clicks.\n",
              "      quickchartButtonEl.classList.add('colab-df-spinner');\n",
              "      try {\n",
              "        const charts = await google.colab.kernel.invokeFunction(\n",
              "            'suggestCharts', [key], {});\n",
              "      } catch (error) {\n",
              "        console.error('Error during call to suggestCharts:', error);\n",
              "      }\n",
              "      quickchartButtonEl.classList.remove('colab-df-spinner');\n",
              "      quickchartButtonEl.classList.add('colab-df-quickchart-complete');\n",
              "    }\n",
              "    (() => {\n",
              "      let quickchartButtonEl =\n",
              "        document.querySelector('#df-c4fd1df5-30d5-4925-9d99-d7fae3c07c5d button');\n",
              "      quickchartButtonEl.style.display =\n",
              "        google.colab.kernel.accessAllowed ? 'block' : 'none';\n",
              "    })();\n",
              "  </script>\n",
              "</div>\n",
              "\n",
              "    </div>\n",
              "  </div>\n"
            ],
            "application/vnd.google.colaboratory.intrinsic+json": {
              "type": "dataframe",
              "variable_name": "df",
              "summary": "{\n  \"name\": \"df\",\n  \"rows\": 5110,\n  \"fields\": [\n    {\n      \"column\": \"gender\",\n      \"properties\": {\n        \"dtype\": \"date\",\n        \"min\": 0,\n        \"max\": 2,\n        \"num_unique_values\": 3,\n        \"samples\": [\n          1,\n          0,\n          2\n        ],\n        \"semantic_type\": \"\",\n        \"description\": \"\"\n      }\n    },\n    {\n      \"column\": \"age\",\n      \"properties\": {\n        \"dtype\": \"number\",\n        \"std\": 22.61264672311349,\n        \"min\": 0.08,\n        \"max\": 82.0,\n        \"num_unique_values\": 104,\n        \"samples\": [\n          45.0,\n          24.0,\n          33.0\n        ],\n        \"semantic_type\": \"\",\n        \"description\": \"\"\n      }\n    },\n    {\n      \"column\": \"hypertension\",\n      \"properties\": {\n        \"dtype\": \"number\",\n        \"std\": 0,\n        \"min\": 0,\n        \"max\": 1,\n        \"num_unique_values\": 2,\n        \"samples\": [\n          1,\n          0\n        ],\n        \"semantic_type\": \"\",\n        \"description\": \"\"\n      }\n    },\n    {\n      \"column\": \"heart_disease\",\n      \"properties\": {\n        \"dtype\": \"number\",\n        \"std\": 0,\n        \"min\": 0,\n        \"max\": 1,\n        \"num_unique_values\": 2,\n        \"samples\": [\n          0,\n          1\n        ],\n        \"semantic_type\": \"\",\n        \"description\": \"\"\n      }\n    },\n    {\n      \"column\": \"ever_married\",\n      \"properties\": {\n        \"dtype\": \"date\",\n        \"min\": 0,\n        \"max\": 1,\n        \"num_unique_values\": 2,\n        \"samples\": [\n          0,\n          1\n        ],\n        \"semantic_type\": \"\",\n        \"description\": \"\"\n      }\n    },\n    {\n      \"column\": \"work_type\",\n      \"properties\": {\n        \"dtype\": \"date\",\n        \"min\": 0,\n        \"max\": 4,\n        \"num_unique_values\": 5,\n        \"samples\": [\n          3,\n          1\n        ],\n        \"semantic_type\": \"\",\n        \"description\": \"\"\n      }\n    },\n    {\n      \"column\": \"Residence_type\",\n      \"properties\": {\n        \"dtype\": \"date\",\n        \"min\": 0,\n        \"max\": 1,\n        \"num_unique_values\": 2,\n        \"samples\": [\n          0,\n          1\n        ],\n        \"semantic_type\": \"\",\n        \"description\": \"\"\n      }\n    },\n    {\n      \"column\": \"avg_glucose_level\",\n      \"properties\": {\n        \"dtype\": \"number\",\n        \"std\": 45.28356015058198,\n        \"min\": 55.12,\n        \"max\": 271.74,\n        \"num_unique_values\": 3979,\n        \"samples\": [\n          178.29,\n          156.69\n        ],\n        \"semantic_type\": \"\",\n        \"description\": \"\"\n      }\n    },\n    {\n      \"column\": \"bmi\",\n      \"properties\": {\n        \"dtype\": \"number\",\n        \"std\": 7.854066729680164,\n        \"min\": 10.3,\n        \"max\": 97.6,\n        \"num_unique_values\": 418,\n        \"samples\": [\n          49.5,\n          18.5\n        ],\n        \"semantic_type\": \"\",\n        \"description\": \"\"\n      }\n    },\n    {\n      \"column\": \"smoking_status\",\n      \"properties\": {\n        \"dtype\": \"date\",\n        \"min\": 0,\n        \"max\": 3,\n        \"num_unique_values\": 4,\n        \"samples\": [\n          2,\n          0\n        ],\n        \"semantic_type\": \"\",\n        \"description\": \"\"\n      }\n    },\n    {\n      \"column\": \"stroke\",\n      \"properties\": {\n        \"dtype\": \"number\",\n        \"std\": 0,\n        \"min\": 0,\n        \"max\": 1,\n        \"num_unique_values\": 2,\n        \"samples\": [\n          0,\n          1\n        ],\n        \"semantic_type\": \"\",\n        \"description\": \"\"\n      }\n    }\n  ]\n}"
            }
          },
          "metadata": {},
          "execution_count": 20
        }
      ]
    },
    {
      "cell_type": "markdown",
      "source": [
        "# **Handling Nan values:**"
      ],
      "metadata": {
        "id": "l8-febFB5RIO"
      }
    },
    {
      "cell_type": "code",
      "source": [
        "from sklearn.impute import KNNImputer\n",
        "imputer = KNNImputer(n_neighbors=5)\n",
        "df['bmi']=imputer.fit_transform(df[['bmi']])\n",
        "df.isnull().sum().sort_values(ascending=False).head()"
      ],
      "metadata": {
        "execution": {
          "iopub.status.busy": "2024-09-26T19:52:22.433736Z",
          "iopub.execute_input": "2024-09-26T19:52:22.434121Z",
          "iopub.status.idle": "2024-09-26T19:52:22.53103Z",
          "shell.execute_reply.started": "2024-09-26T19:52:22.434084Z",
          "shell.execute_reply": "2024-09-26T19:52:22.529553Z"
        },
        "trusted": true,
        "id": "qwYa3f015RIO",
        "outputId": "cdc9e68c-d75b-46f1-c9e0-70cde4c9c731",
        "colab": {
          "base_uri": "https://localhost:8080/",
          "height": 241
        }
      },
      "execution_count": 21,
      "outputs": [
        {
          "output_type": "execute_result",
          "data": {
            "text/plain": [
              "gender           0\n",
              "age              0\n",
              "hypertension     0\n",
              "heart_disease    0\n",
              "ever_married     0\n",
              "dtype: int64"
            ],
            "text/html": [
              "<div>\n",
              "<style scoped>\n",
              "    .dataframe tbody tr th:only-of-type {\n",
              "        vertical-align: middle;\n",
              "    }\n",
              "\n",
              "    .dataframe tbody tr th {\n",
              "        vertical-align: top;\n",
              "    }\n",
              "\n",
              "    .dataframe thead th {\n",
              "        text-align: right;\n",
              "    }\n",
              "</style>\n",
              "<table border=\"1\" class=\"dataframe\">\n",
              "  <thead>\n",
              "    <tr style=\"text-align: right;\">\n",
              "      <th></th>\n",
              "      <th>0</th>\n",
              "    </tr>\n",
              "  </thead>\n",
              "  <tbody>\n",
              "    <tr>\n",
              "      <th>gender</th>\n",
              "      <td>0</td>\n",
              "    </tr>\n",
              "    <tr>\n",
              "      <th>age</th>\n",
              "      <td>0</td>\n",
              "    </tr>\n",
              "    <tr>\n",
              "      <th>hypertension</th>\n",
              "      <td>0</td>\n",
              "    </tr>\n",
              "    <tr>\n",
              "      <th>heart_disease</th>\n",
              "      <td>0</td>\n",
              "    </tr>\n",
              "    <tr>\n",
              "      <th>ever_married</th>\n",
              "      <td>0</td>\n",
              "    </tr>\n",
              "  </tbody>\n",
              "</table>\n",
              "</div><br><label><b>dtype:</b> int64</label>"
            ]
          },
          "metadata": {},
          "execution_count": 21
        }
      ]
    },
    {
      "cell_type": "markdown",
      "source": [
        "# **Data splitting and scaling:**"
      ],
      "metadata": {
        "id": "4d92J7GA5RIO"
      }
    },
    {
      "cell_type": "code",
      "source": [
        "from sklearn.model_selection import train_test_split\n",
        "from sklearn.preprocessing import MinMaxScaler"
      ],
      "metadata": {
        "execution": {
          "iopub.status.busy": "2024-09-26T19:52:22.533268Z",
          "iopub.execute_input": "2024-09-26T19:52:22.534204Z",
          "iopub.status.idle": "2024-09-26T19:52:22.540649Z",
          "shell.execute_reply.started": "2024-09-26T19:52:22.53413Z",
          "shell.execute_reply": "2024-09-26T19:52:22.539292Z"
        },
        "trusted": true,
        "id": "pT8C6nOH5RIP"
      },
      "execution_count": 22,
      "outputs": []
    },
    {
      "cell_type": "code",
      "source": [
        "X=df.drop(['stroke'],axis=1)\n",
        "y=df['stroke']"
      ],
      "metadata": {
        "execution": {
          "iopub.status.busy": "2024-09-26T19:52:22.542717Z",
          "iopub.execute_input": "2024-09-26T19:52:22.543618Z",
          "iopub.status.idle": "2024-09-26T19:52:22.555622Z",
          "shell.execute_reply.started": "2024-09-26T19:52:22.543546Z",
          "shell.execute_reply": "2024-09-26T19:52:22.55422Z"
        },
        "trusted": true,
        "id": "Rcd8BdYz5RIP"
      },
      "execution_count": 23,
      "outputs": []
    },
    {
      "cell_type": "code",
      "source": [
        "X_train , X_test, y_train , y_test= train_test_split (X,y, shuffle= True,\n",
        "                                                      random_state=42 , test_size=0.3)"
      ],
      "metadata": {
        "execution": {
          "iopub.status.busy": "2024-09-26T19:52:22.558356Z",
          "iopub.execute_input": "2024-09-26T19:52:22.560067Z",
          "iopub.status.idle": "2024-09-26T19:52:22.574163Z",
          "shell.execute_reply.started": "2024-09-26T19:52:22.559991Z",
          "shell.execute_reply": "2024-09-26T19:52:22.572317Z"
        },
        "trusted": true,
        "id": "tAbFKdSy5RIP"
      },
      "execution_count": 24,
      "outputs": []
    },
    {
      "cell_type": "code",
      "source": [
        "scaler= MinMaxScaler(feature_range=(0,1))\n",
        "scaler.fit(X)\n",
        "X_train= scaler.transform(X_train)\n",
        "X_test= scaler.transform(X_test)"
      ],
      "metadata": {
        "execution": {
          "iopub.status.busy": "2024-09-26T19:52:22.576477Z",
          "iopub.execute_input": "2024-09-26T19:52:22.577975Z",
          "iopub.status.idle": "2024-09-26T19:52:22.606908Z",
          "shell.execute_reply.started": "2024-09-26T19:52:22.577903Z",
          "shell.execute_reply": "2024-09-26T19:52:22.605463Z"
        },
        "trusted": true,
        "id": "0tehQ-Ue5RIQ"
      },
      "execution_count": 25,
      "outputs": []
    },
    {
      "cell_type": "markdown",
      "source": [
        "# **Applying models:**"
      ],
      "metadata": {
        "id": "5wVkJp4P5RIQ"
      }
    },
    {
      "cell_type": "code",
      "source": [
        "from sklearn.ensemble import RandomForestClassifier\n",
        "from sklearn.tree import DecisionTreeClassifier\n",
        "from sklearn.linear_model import LogisticRegression\n",
        "from sklearn.metrics import classification_report\n",
        "from sklearn import metrics\n",
        "from sklearn.metrics import precision_score,accuracy_score,recall_score , f1_score\n",
        "from sklearn import svm\n",
        "from sklearn.neighbors import KNeighborsClassifier\n",
        "from sklearn.naive_bayes import GaussianNB"
      ],
      "metadata": {
        "execution": {
          "iopub.status.busy": "2024-09-26T19:52:22.608546Z",
          "iopub.execute_input": "2024-09-26T19:52:22.608935Z",
          "iopub.status.idle": "2024-09-26T19:52:22.615481Z",
          "shell.execute_reply.started": "2024-09-26T19:52:22.608894Z",
          "shell.execute_reply": "2024-09-26T19:52:22.614379Z"
        },
        "trusted": true,
        "id": "heMOg9lg5RIR"
      },
      "execution_count": 26,
      "outputs": []
    },
    {
      "cell_type": "code",
      "source": [
        "mod ={\n",
        "'LogisticRegression' : LogisticRegression(random_state=42),\n",
        "'DecisionTreeClassifier' : DecisionTreeClassifier(criterion= 'entropy',max_depth=None),\n",
        "'RandomForestClassifier' : RandomForestClassifier(n_estimators=20, criterion ='gini',max_depth=None),\n",
        "'svm': svm.LinearSVC(),\n",
        "'KNN': KNeighborsClassifier(n_neighbors=5),\n",
        "'Naive_bayes': GaussianNB()\n",
        "}"
      ],
      "metadata": {
        "execution": {
          "iopub.status.busy": "2024-09-26T19:52:22.616764Z",
          "iopub.execute_input": "2024-09-26T19:52:22.617589Z",
          "iopub.status.idle": "2024-09-26T19:52:22.631707Z",
          "shell.execute_reply.started": "2024-09-26T19:52:22.61754Z",
          "shell.execute_reply": "2024-09-26T19:52:22.630535Z"
        },
        "trusted": true,
        "id": "Clz_ZCEa5RIR"
      },
      "execution_count": 27,
      "outputs": []
    },
    {
      "cell_type": "code",
      "source": [
        "calcs= {\n",
        "'Models':['LogisticRegression','DecisionTreeClassifier','RandomForestClassifier','svm',\n",
        "'KNN','Naive_bayes'],\n",
        "'score_train':[],\n",
        "'score_test':[],\n",
        "'accuracy_score':[],\n",
        "'recall':[],\n",
        "'precision':[],\n",
        "'f1_score':[],\n",
        "'cnf_matrix':[]\n",
        "}"
      ],
      "metadata": {
        "execution": {
          "iopub.status.busy": "2024-09-26T19:52:22.633013Z",
          "iopub.execute_input": "2024-09-26T19:52:22.633428Z",
          "iopub.status.idle": "2024-09-26T19:52:22.642715Z",
          "shell.execute_reply.started": "2024-09-26T19:52:22.633389Z",
          "shell.execute_reply": "2024-09-26T19:52:22.641672Z"
        },
        "trusted": true,
        "id": "fL_59upa5RIR"
      },
      "execution_count": 28,
      "outputs": []
    },
    {
      "cell_type": "code",
      "source": [
        "y_pred=[]\n",
        "k=0\n",
        "for n in mod :\n",
        "    mod[n].fit(X_train,y_train)\n",
        "    y_pred.append(mod[n].predict(X_test))\n",
        "    calcs['accuracy_score'].append( accuracy_score(y_test,y_pred[k]) )\n",
        "    calcs['recall'].append( recall_score(y_test,y_pred[k],average='weighted'))\n",
        "    calcs['precision'].append( precision_score(y_test,y_pred[k],average='weighted') )\n",
        "    calcs['score_train'].append( mod[n].score(X_train,y_train) )\n",
        "    calcs['score_test'].append( mod[n].score(X_test,y_test) )\n",
        "    calcs['f1_score'].append(f1_score(y_test, y_pred[k], average='weighted'))\n",
        "    calcs['cnf_matrix'].append( metrics.confusion_matrix(y_test, y_pred[k]) )\n",
        "    k=k+1\n",
        "calcs"
      ],
      "metadata": {
        "execution": {
          "iopub.status.busy": "2024-09-26T19:52:22.644051Z",
          "iopub.execute_input": "2024-09-26T19:52:22.644431Z",
          "iopub.status.idle": "2024-09-26T19:52:23.705634Z",
          "shell.execute_reply.started": "2024-09-26T19:52:22.644392Z",
          "shell.execute_reply": "2024-09-26T19:52:23.704549Z"
        },
        "trusted": true,
        "id": "QdiRoIeM5RIS",
        "outputId": "d202fe66-92f9-4445-e9ed-ffa3542f976c",
        "colab": {
          "base_uri": "https://localhost:8080/"
        }
      },
      "execution_count": 29,
      "outputs": [
        {
          "output_type": "stream",
          "name": "stderr",
          "text": [
            "/usr/local/lib/python3.10/dist-packages/sklearn/metrics/_classification.py:1531: UndefinedMetricWarning: Precision is ill-defined and being set to 0.0 in labels with no predicted samples. Use `zero_division` parameter to control this behavior.\n",
            "  _warn_prf(average, modifier, f\"{metric.capitalize()} is\", len(result))\n",
            "/usr/local/lib/python3.10/dist-packages/sklearn/metrics/_classification.py:1531: UndefinedMetricWarning: Precision is ill-defined and being set to 0.0 in labels with no predicted samples. Use `zero_division` parameter to control this behavior.\n",
            "  _warn_prf(average, modifier, f\"{metric.capitalize()} is\", len(result))\n"
          ]
        },
        {
          "output_type": "execute_result",
          "data": {
            "text/plain": [
              "{'Models': ['LogisticRegression',\n",
              "  'DecisionTreeClassifier',\n",
              "  'RandomForestClassifier',\n",
              "  'svm',\n",
              "  'KNN',\n",
              "  'Naive_bayes'],\n",
              " 'score_train': [0.9552697791445345,\n",
              "  1.0,\n",
              "  0.9972043611965334,\n",
              "  0.9552697791445345,\n",
              "  0.9580654179480012,\n",
              "  0.8714006150405368],\n",
              " 'score_test': [0.9419439008480104,\n",
              "  0.9054142204827136,\n",
              "  0.9406392694063926,\n",
              "  0.9419439008480104,\n",
              "  0.9406392694063926,\n",
              "  0.8649706457925636],\n",
              " 'accuracy_score': [0.9419439008480104,\n",
              "  0.9054142204827136,\n",
              "  0.9406392694063926,\n",
              "  0.9419439008480104,\n",
              "  0.9406392694063926,\n",
              "  0.8649706457925636],\n",
              " 'recall': [0.9419439008480104,\n",
              "  0.9054142204827136,\n",
              "  0.9406392694063926,\n",
              "  0.9419439008480104,\n",
              "  0.9406392694063926,\n",
              "  0.8649706457925636],\n",
              " 'precision': [0.8872583123447664,\n",
              "  0.9038986801596351,\n",
              "  0.8871868746066827,\n",
              "  0.8872583123447664,\n",
              "  0.9022453270260505,\n",
              "  0.9157712363508552],\n",
              " 'f1_score': [0.9137836700198367,\n",
              "  0.9046525612135464,\n",
              "  0.9131314991750125,\n",
              "  0.9137836700198367,\n",
              "  0.9143606347241539,\n",
              "  0.8869647322999251],\n",
              " 'cnf_matrix': [array([[1444,    0],\n",
              "         [  89,    0]]),\n",
              "  array([[1373,   71],\n",
              "         [  74,   15]]),\n",
              "  array([[1442,    2],\n",
              "         [  89,    0]]),\n",
              "  array([[1444,    0],\n",
              "         [  89,    0]]),\n",
              "  array([[1441,    3],\n",
              "         [  88,    1]]),\n",
              "  array([[1290,  154],\n",
              "         [  53,   36]])]}"
            ]
          },
          "metadata": {},
          "execution_count": 29
        }
      ]
    },
    {
      "cell_type": "code",
      "source": [
        "models = pd.DataFrame(calcs)\n",
        "models.sort_values(by='score_test',ascending=False).style.background_gradient(cmap='YlGn')"
      ],
      "metadata": {
        "execution": {
          "iopub.status.busy": "2024-09-26T19:52:23.707388Z",
          "iopub.execute_input": "2024-09-26T19:52:23.708224Z",
          "iopub.status.idle": "2024-09-26T19:52:23.73633Z",
          "shell.execute_reply.started": "2024-09-26T19:52:23.708169Z",
          "shell.execute_reply": "2024-09-26T19:52:23.735333Z"
        },
        "trusted": true,
        "id": "CSMiVsZC5RIS",
        "outputId": "c3c99773-dd96-436d-ac04-ebb0c130dd8c",
        "colab": {
          "base_uri": "https://localhost:8080/",
          "height": 237
        }
      },
      "execution_count": 30,
      "outputs": [
        {
          "output_type": "execute_result",
          "data": {
            "text/plain": [
              "<pandas.io.formats.style.Styler at 0x78a4fe7eb9a0>"
            ],
            "text/html": [
              "<style type=\"text/css\">\n",
              "#T_03c4f_row0_col1, #T_03c4f_row1_col1 {\n",
              "  background-color: #3ba358;\n",
              "  color: #f1f1f1;\n",
              "}\n",
              "#T_03c4f_row0_col2, #T_03c4f_row0_col3, #T_03c4f_row0_col4, #T_03c4f_row1_col2, #T_03c4f_row1_col3, #T_03c4f_row1_col4, #T_03c4f_row3_col6, #T_03c4f_row4_col1, #T_03c4f_row5_col5 {\n",
              "  background-color: #004529;\n",
              "  color: #f1f1f1;\n",
              "}\n",
              "#T_03c4f_row0_col5, #T_03c4f_row1_col5, #T_03c4f_row2_col5, #T_03c4f_row5_col1, #T_03c4f_row5_col2, #T_03c4f_row5_col3, #T_03c4f_row5_col4, #T_03c4f_row5_col6 {\n",
              "  background-color: #ffffe5;\n",
              "  color: #000000;\n",
              "}\n",
              "#T_03c4f_row0_col6, #T_03c4f_row1_col6, #T_03c4f_row2_col1 {\n",
              "  background-color: #004a2b;\n",
              "  color: #f1f1f1;\n",
              "}\n",
              "#T_03c4f_row2_col2, #T_03c4f_row2_col3, #T_03c4f_row2_col4, #T_03c4f_row3_col2, #T_03c4f_row3_col3, #T_03c4f_row3_col4 {\n",
              "  background-color: #00492b;\n",
              "  color: #f1f1f1;\n",
              "}\n",
              "#T_03c4f_row2_col6 {\n",
              "  background-color: #00512e;\n",
              "  color: #f1f1f1;\n",
              "}\n",
              "#T_03c4f_row3_col1 {\n",
              "  background-color: #359c53;\n",
              "  color: #f1f1f1;\n",
              "}\n",
              "#T_03c4f_row3_col5, #T_03c4f_row4_col2, #T_03c4f_row4_col3, #T_03c4f_row4_col4 {\n",
              "  background-color: #6dc073;\n",
              "  color: #000000;\n",
              "}\n",
              "#T_03c4f_row4_col5 {\n",
              "  background-color: #53b466;\n",
              "  color: #f1f1f1;\n",
              "}\n",
              "#T_03c4f_row4_col6 {\n",
              "  background-color: #3ca458;\n",
              "  color: #f1f1f1;\n",
              "}\n",
              "</style>\n",
              "<table id=\"T_03c4f\" class=\"dataframe\">\n",
              "  <thead>\n",
              "    <tr>\n",
              "      <th class=\"blank level0\" >&nbsp;</th>\n",
              "      <th id=\"T_03c4f_level0_col0\" class=\"col_heading level0 col0\" >Models</th>\n",
              "      <th id=\"T_03c4f_level0_col1\" class=\"col_heading level0 col1\" >score_train</th>\n",
              "      <th id=\"T_03c4f_level0_col2\" class=\"col_heading level0 col2\" >score_test</th>\n",
              "      <th id=\"T_03c4f_level0_col3\" class=\"col_heading level0 col3\" >accuracy_score</th>\n",
              "      <th id=\"T_03c4f_level0_col4\" class=\"col_heading level0 col4\" >recall</th>\n",
              "      <th id=\"T_03c4f_level0_col5\" class=\"col_heading level0 col5\" >precision</th>\n",
              "      <th id=\"T_03c4f_level0_col6\" class=\"col_heading level0 col6\" >f1_score</th>\n",
              "      <th id=\"T_03c4f_level0_col7\" class=\"col_heading level0 col7\" >cnf_matrix</th>\n",
              "    </tr>\n",
              "  </thead>\n",
              "  <tbody>\n",
              "    <tr>\n",
              "      <th id=\"T_03c4f_level0_row0\" class=\"row_heading level0 row0\" >0</th>\n",
              "      <td id=\"T_03c4f_row0_col0\" class=\"data row0 col0\" >LogisticRegression</td>\n",
              "      <td id=\"T_03c4f_row0_col1\" class=\"data row0 col1\" >0.955270</td>\n",
              "      <td id=\"T_03c4f_row0_col2\" class=\"data row0 col2\" >0.941944</td>\n",
              "      <td id=\"T_03c4f_row0_col3\" class=\"data row0 col3\" >0.941944</td>\n",
              "      <td id=\"T_03c4f_row0_col4\" class=\"data row0 col4\" >0.941944</td>\n",
              "      <td id=\"T_03c4f_row0_col5\" class=\"data row0 col5\" >0.887258</td>\n",
              "      <td id=\"T_03c4f_row0_col6\" class=\"data row0 col6\" >0.913784</td>\n",
              "      <td id=\"T_03c4f_row0_col7\" class=\"data row0 col7\" >[[1444    0]\n",
              " [  89    0]]</td>\n",
              "    </tr>\n",
              "    <tr>\n",
              "      <th id=\"T_03c4f_level0_row1\" class=\"row_heading level0 row1\" >3</th>\n",
              "      <td id=\"T_03c4f_row1_col0\" class=\"data row1 col0\" >svm</td>\n",
              "      <td id=\"T_03c4f_row1_col1\" class=\"data row1 col1\" >0.955270</td>\n",
              "      <td id=\"T_03c4f_row1_col2\" class=\"data row1 col2\" >0.941944</td>\n",
              "      <td id=\"T_03c4f_row1_col3\" class=\"data row1 col3\" >0.941944</td>\n",
              "      <td id=\"T_03c4f_row1_col4\" class=\"data row1 col4\" >0.941944</td>\n",
              "      <td id=\"T_03c4f_row1_col5\" class=\"data row1 col5\" >0.887258</td>\n",
              "      <td id=\"T_03c4f_row1_col6\" class=\"data row1 col6\" >0.913784</td>\n",
              "      <td id=\"T_03c4f_row1_col7\" class=\"data row1 col7\" >[[1444    0]\n",
              " [  89    0]]</td>\n",
              "    </tr>\n",
              "    <tr>\n",
              "      <th id=\"T_03c4f_level0_row2\" class=\"row_heading level0 row2\" >2</th>\n",
              "      <td id=\"T_03c4f_row2_col0\" class=\"data row2 col0\" >RandomForestClassifier</td>\n",
              "      <td id=\"T_03c4f_row2_col1\" class=\"data row2 col1\" >0.997204</td>\n",
              "      <td id=\"T_03c4f_row2_col2\" class=\"data row2 col2\" >0.940639</td>\n",
              "      <td id=\"T_03c4f_row2_col3\" class=\"data row2 col3\" >0.940639</td>\n",
              "      <td id=\"T_03c4f_row2_col4\" class=\"data row2 col4\" >0.940639</td>\n",
              "      <td id=\"T_03c4f_row2_col5\" class=\"data row2 col5\" >0.887187</td>\n",
              "      <td id=\"T_03c4f_row2_col6\" class=\"data row2 col6\" >0.913131</td>\n",
              "      <td id=\"T_03c4f_row2_col7\" class=\"data row2 col7\" >[[1442    2]\n",
              " [  89    0]]</td>\n",
              "    </tr>\n",
              "    <tr>\n",
              "      <th id=\"T_03c4f_level0_row3\" class=\"row_heading level0 row3\" >4</th>\n",
              "      <td id=\"T_03c4f_row3_col0\" class=\"data row3 col0\" >KNN</td>\n",
              "      <td id=\"T_03c4f_row3_col1\" class=\"data row3 col1\" >0.958065</td>\n",
              "      <td id=\"T_03c4f_row3_col2\" class=\"data row3 col2\" >0.940639</td>\n",
              "      <td id=\"T_03c4f_row3_col3\" class=\"data row3 col3\" >0.940639</td>\n",
              "      <td id=\"T_03c4f_row3_col4\" class=\"data row3 col4\" >0.940639</td>\n",
              "      <td id=\"T_03c4f_row3_col5\" class=\"data row3 col5\" >0.902245</td>\n",
              "      <td id=\"T_03c4f_row3_col6\" class=\"data row3 col6\" >0.914361</td>\n",
              "      <td id=\"T_03c4f_row3_col7\" class=\"data row3 col7\" >[[1441    3]\n",
              " [  88    1]]</td>\n",
              "    </tr>\n",
              "    <tr>\n",
              "      <th id=\"T_03c4f_level0_row4\" class=\"row_heading level0 row4\" >1</th>\n",
              "      <td id=\"T_03c4f_row4_col0\" class=\"data row4 col0\" >DecisionTreeClassifier</td>\n",
              "      <td id=\"T_03c4f_row4_col1\" class=\"data row4 col1\" >1.000000</td>\n",
              "      <td id=\"T_03c4f_row4_col2\" class=\"data row4 col2\" >0.905414</td>\n",
              "      <td id=\"T_03c4f_row4_col3\" class=\"data row4 col3\" >0.905414</td>\n",
              "      <td id=\"T_03c4f_row4_col4\" class=\"data row4 col4\" >0.905414</td>\n",
              "      <td id=\"T_03c4f_row4_col5\" class=\"data row4 col5\" >0.903899</td>\n",
              "      <td id=\"T_03c4f_row4_col6\" class=\"data row4 col6\" >0.904653</td>\n",
              "      <td id=\"T_03c4f_row4_col7\" class=\"data row4 col7\" >[[1373   71]\n",
              " [  74   15]]</td>\n",
              "    </tr>\n",
              "    <tr>\n",
              "      <th id=\"T_03c4f_level0_row5\" class=\"row_heading level0 row5\" >5</th>\n",
              "      <td id=\"T_03c4f_row5_col0\" class=\"data row5 col0\" >Naive_bayes</td>\n",
              "      <td id=\"T_03c4f_row5_col1\" class=\"data row5 col1\" >0.871401</td>\n",
              "      <td id=\"T_03c4f_row5_col2\" class=\"data row5 col2\" >0.864971</td>\n",
              "      <td id=\"T_03c4f_row5_col3\" class=\"data row5 col3\" >0.864971</td>\n",
              "      <td id=\"T_03c4f_row5_col4\" class=\"data row5 col4\" >0.864971</td>\n",
              "      <td id=\"T_03c4f_row5_col5\" class=\"data row5 col5\" >0.915771</td>\n",
              "      <td id=\"T_03c4f_row5_col6\" class=\"data row5 col6\" >0.886965</td>\n",
              "      <td id=\"T_03c4f_row5_col7\" class=\"data row5 col7\" >[[1290  154]\n",
              " [  53   36]]</td>\n",
              "    </tr>\n",
              "  </tbody>\n",
              "</table>\n"
            ]
          },
          "metadata": {},
          "execution_count": 30
        }
      ]
    },
    {
      "cell_type": "code",
      "source": [
        "models=models.rename(index={0: 'LogisticRegression', 1:'DecisionTreeClassifier', 2:'RandomForestClassifier',\n",
        "                    3:'svm', 4:'KNN', 5:'Naive_bayes'})\n",
        "# Plotting\n",
        "models.plot(kind='bar', figsize=(10, 6))\n",
        "\n",
        "# Customizing the plot\n",
        "\n",
        "plt.xlabel('Model')\n",
        "plt.ylabel('Score')\n",
        "plt.title('Models Accuracy Scores')\n",
        "plt.ylim(0,1.3)\n",
        "plt.xticks(rotation=45)  # Rotate model names for better readability\n",
        "plt.tight_layout()  # Adjust layout to fit labels\n",
        "plt.grid(True)\n",
        "# Display the plot\n",
        "plt.show()"
      ],
      "metadata": {
        "execution": {
          "iopub.status.busy": "2024-09-26T19:52:23.738021Z",
          "iopub.execute_input": "2024-09-26T19:52:23.738485Z",
          "iopub.status.idle": "2024-09-26T19:52:24.304833Z",
          "shell.execute_reply.started": "2024-09-26T19:52:23.738433Z",
          "shell.execute_reply": "2024-09-26T19:52:24.303678Z"
        },
        "trusted": true,
        "id": "mP-0YufK5RIT",
        "outputId": "23cc4295-d7b7-4b71-c675-f17cdfc9729c",
        "colab": {
          "base_uri": "https://localhost:8080/",
          "height": 607
        }
      },
      "execution_count": 31,
      "outputs": [
        {
          "output_type": "display_data",
          "data": {
            "text/plain": [
              "<Figure size 1000x600 with 1 Axes>"
            ],
            "image/png": "[encoded data removed]"
          },
          "metadata": {}
        }
      ]
    },
    {
      "cell_type": "code",
      "source": [
        "target_names = ['Had stroke', 'NO stroke']\n",
        "for n in range(0,6):\n",
        "    print(\"For \",models.index[n],\":\\n\\n\",classification_report(y_test, y_pred[n], target_names=target_names))"
      ],
      "metadata": {
        "execution": {
          "iopub.status.busy": "2024-09-26T19:52:24.310138Z",
          "iopub.execute_input": "2024-09-26T19:52:24.310538Z",
          "iopub.status.idle": "2024-09-26T19:52:24.374207Z",
          "shell.execute_reply.started": "2024-09-26T19:52:24.310491Z",
          "shell.execute_reply": "2024-09-26T19:52:24.373153Z"
        },
        "trusted": true,
        "id": "SXyP4Olb5RIT",
        "outputId": "2ed18996-9e21-433f-f9e7-c2d2698b8eb6",
        "colab": {
          "base_uri": "https://localhost:8080/"
        }
      },
      "execution_count": 32,
      "outputs": [
        {
          "output_type": "stream",
          "name": "stdout",
          "text": [
            "For  LogisticRegression :\n",
            "\n",
            "               precision    recall  f1-score   support\n",
            "\n",
            "  Had stroke       0.94      1.00      0.97      1444\n",
            "   NO stroke       0.00      0.00      0.00        89\n",
            "\n",
            "    accuracy                           0.94      1533\n",
            "   macro avg       0.47      0.50      0.49      1533\n",
            "weighted avg       0.89      0.94      0.91      1533\n",
            "\n",
            "For  DecisionTreeClassifier :\n",
            "\n",
            "               precision    recall  f1-score   support\n",
            "\n",
            "  Had stroke       0.95      0.95      0.95      1444\n",
            "   NO stroke       0.17      0.17      0.17        89\n",
            "\n",
            "    accuracy                           0.91      1533\n",
            "   macro avg       0.56      0.56      0.56      1533\n",
            "weighted avg       0.90      0.91      0.90      1533\n",
            "\n",
            "For  RandomForestClassifier :\n",
            "\n",
            "               precision    recall  f1-score   support\n",
            "\n",
            "  Had stroke       0.94      1.00      0.97      1444\n",
            "   NO stroke       0.00      0.00      0.00        89\n",
            "\n",
            "    accuracy                           0.94      1533\n",
            "   macro avg       0.47      0.50      0.48      1533\n",
            "weighted avg       0.89      0.94      0.91      1533\n",
            "\n",
            "For  svm :\n",
            "\n",
            "               precision    recall  f1-score   support\n",
            "\n",
            "  Had stroke       0.94      1.00      0.97      1444\n",
            "   NO stroke       0.00      0.00      0.00        89\n",
            "\n",
            "    accuracy                           0.94      1533\n",
            "   macro avg       0.47      0.50      0.49      1533\n",
            "weighted avg       0.89      0.94      0.91      1533\n",
            "\n",
            "For  KNN :\n",
            "\n",
            "               precision    recall  f1-score   support\n",
            "\n",
            "  Had stroke       0.94      1.00      0.97      1444\n",
            "   NO stroke       0.25      0.01      0.02        89\n",
            "\n",
            "    accuracy                           0.94      1533\n",
            "   macro avg       0.60      0.50      0.50      1533\n",
            "weighted avg       0.90      0.94      0.91      1533\n",
            "\n",
            "For  Naive_bayes :\n",
            "\n",
            "               precision    recall  f1-score   support\n",
            "\n",
            "  Had stroke       0.96      0.89      0.93      1444\n",
            "   NO stroke       0.19      0.40      0.26        89\n",
            "\n",
            "    accuracy                           0.86      1533\n",
            "   macro avg       0.58      0.65      0.59      1533\n",
            "weighted avg       0.92      0.86      0.89      1533\n",
            "\n"
          ]
        },
        {
          "output_type": "stream",
          "name": "stderr",
          "text": [
            "/usr/local/lib/python3.10/dist-packages/sklearn/metrics/_classification.py:1531: UndefinedMetricWarning: Precision is ill-defined and being set to 0.0 in labels with no predicted samples. Use `zero_division` parameter to control this behavior.\n",
            "  _warn_prf(average, modifier, f\"{metric.capitalize()} is\", len(result))\n",
            "/usr/local/lib/python3.10/dist-packages/sklearn/metrics/_classification.py:1531: UndefinedMetricWarning: Precision is ill-defined and being set to 0.0 in labels with no predicted samples. Use `zero_division` parameter to control this behavior.\n",
            "  _warn_prf(average, modifier, f\"{metric.capitalize()} is\", len(result))\n",
            "/usr/local/lib/python3.10/dist-packages/sklearn/metrics/_classification.py:1531: UndefinedMetricWarning: Precision is ill-defined and being set to 0.0 in labels with no predicted samples. Use `zero_division` parameter to control this behavior.\n",
            "  _warn_prf(average, modifier, f\"{metric.capitalize()} is\", len(result))\n",
            "/usr/local/lib/python3.10/dist-packages/sklearn/metrics/_classification.py:1531: UndefinedMetricWarning: Precision is ill-defined and being set to 0.0 in labels with no predicted samples. Use `zero_division` parameter to control this behavior.\n",
            "  _warn_prf(average, modifier, f\"{metric.capitalize()} is\", len(result))\n",
            "/usr/local/lib/python3.10/dist-packages/sklearn/metrics/_classification.py:1531: UndefinedMetricWarning: Precision is ill-defined and being set to 0.0 in labels with no predicted samples. Use `zero_division` parameter to control this behavior.\n",
            "  _warn_prf(average, modifier, f\"{metric.capitalize()} is\", len(result))\n",
            "/usr/local/lib/python3.10/dist-packages/sklearn/metrics/_classification.py:1531: UndefinedMetricWarning: Precision is ill-defined and being set to 0.0 in labels with no predicted samples. Use `zero_division` parameter to control this behavior.\n",
            "  _warn_prf(average, modifier, f\"{metric.capitalize()} is\", len(result))\n"
          ]
        }
      ]
    },
    {
      "cell_type": "markdown",
      "source": [
        "Well the results is very high, but the data seems like unbalanced, so let's balance it and see if we can get better accuarcy or not"
      ],
      "metadata": {
        "id": "hb5ggQBD5RIU"
      }
    },
    {
      "cell_type": "markdown",
      "source": [
        "# **Balance the Data:**"
      ],
      "metadata": {
        "id": "B435fCoT5RIc"
      }
    },
    {
      "cell_type": "code",
      "source": [
        "y.value_counts().plot.bar() # before"
      ],
      "metadata": {
        "execution": {
          "iopub.status.busy": "2024-09-26T19:52:24.376122Z",
          "iopub.execute_input": "2024-09-26T19:52:24.376623Z",
          "iopub.status.idle": "2024-09-26T19:52:24.55318Z",
          "shell.execute_reply.started": "2024-09-26T19:52:24.376549Z",
          "shell.execute_reply": "2024-09-26T19:52:24.55209Z"
        },
        "trusted": true,
        "id": "yNxUWVy15RIc",
        "outputId": "f292f833-37f5-4448-895d-506bb5f7d0f7",
        "colab": {
          "base_uri": "https://localhost:8080/",
          "height": 462
        }
      },
      "execution_count": 33,
      "outputs": [
        {
          "output_type": "execute_result",
          "data": {
            "text/plain": [
              "<Axes: xlabel='stroke'>"
            ]
          },
          "metadata": {},
          "execution_count": 33
        },
        {
          "output_type": "display_data",
          "data": {
            "text/plain": [
              "<Figure size 640x480 with 1 Axes>"
            ],
            "image/png": "[encoded data removed]"
          },
          "metadata": {}
        }
      ]
    },
    {
      "cell_type": "code",
      "source": [
        "from imblearn.over_sampling import SMOTE\n",
        "sm=SMOTE(random_state=42)"
      ],
      "metadata": {
        "execution": {
          "iopub.status.busy": "2024-09-26T19:52:24.554845Z",
          "iopub.execute_input": "2024-09-26T19:52:24.555327Z",
          "iopub.status.idle": "2024-09-26T19:52:24.560739Z",
          "shell.execute_reply.started": "2024-09-26T19:52:24.555275Z",
          "shell.execute_reply": "2024-09-26T19:52:24.559643Z"
        },
        "trusted": true,
        "id": "LG-6_1qX5RIc"
      },
      "execution_count": 34,
      "outputs": []
    },
    {
      "cell_type": "code",
      "source": [
        "X_b,y_b=sm.fit_resample(X,y)"
      ],
      "metadata": {
        "execution": {
          "iopub.status.busy": "2024-09-26T19:52:24.561998Z",
          "iopub.execute_input": "2024-09-26T19:52:24.562372Z",
          "iopub.status.idle": "2024-09-26T19:52:24.590607Z",
          "shell.execute_reply.started": "2024-09-26T19:52:24.562326Z",
          "shell.execute_reply": "2024-09-26T19:52:24.589409Z"
        },
        "trusted": true,
        "id": "IFRPDHhc5RId"
      },
      "execution_count": 35,
      "outputs": []
    },
    {
      "cell_type": "code",
      "source": [
        "y_b.value_counts().plot.bar() # after"
      ],
      "metadata": {
        "execution": {
          "iopub.status.busy": "2024-09-26T19:52:24.592094Z",
          "iopub.execute_input": "2024-09-26T19:52:24.592599Z",
          "iopub.status.idle": "2024-09-26T19:52:24.768689Z",
          "shell.execute_reply.started": "2024-09-26T19:52:24.592535Z",
          "shell.execute_reply": "2024-09-26T19:52:24.76745Z"
        },
        "trusted": true,
        "id": "g725FcbC5RId",
        "outputId": "b17cb66b-08d6-4395-fecc-c450e01a3f96",
        "colab": {
          "base_uri": "https://localhost:8080/",
          "height": 462
        }
      },
      "execution_count": 36,
      "outputs": [
        {
          "output_type": "execute_result",
          "data": {
            "text/plain": [
              "<Axes: xlabel='stroke'>"
            ]
          },
          "metadata": {},
          "execution_count": 36
        },
        {
          "output_type": "display_data",
          "data": {
            "text/plain": [
              "<Figure size 640x480 with 1 Axes>"
            ],
            "image/png": "[encoded data removed]"
          },
          "metadata": {}
        }
      ]
    },
    {
      "cell_type": "code",
      "source": [
        "X_b=pd.DataFrame(X_b)\n",
        "y_b=pd.DataFrame(y_b)\n",
        "y_b['stroke']"
      ],
      "metadata": {
        "execution": {
          "iopub.status.busy": "2024-09-26T19:52:24.76993Z",
          "iopub.execute_input": "2024-09-26T19:52:24.770271Z",
          "iopub.status.idle": "2024-09-26T19:52:24.776411Z",
          "shell.execute_reply.started": "2024-09-26T19:52:24.770221Z",
          "shell.execute_reply": "2024-09-26T19:52:24.775275Z"
        },
        "trusted": true,
        "id": "nENayGvb5RId",
        "outputId": "e3f96e1c-cd34-414b-9031-f7de389737f7",
        "colab": {
          "base_uri": "https://localhost:8080/",
          "height": 458
        }
      },
      "execution_count": 37,
      "outputs": [
        {
          "output_type": "execute_result",
          "data": {
            "text/plain": [
              "0       1\n",
              "1       1\n",
              "2       1\n",
              "3       1\n",
              "4       1\n",
              "       ..\n",
              "9717    1\n",
              "9718    1\n",
              "9719    1\n",
              "9720    1\n",
              "9721    1\n",
              "Name: stroke, Length: 9722, dtype: int64"
            ],
            "text/html": [
              "<div>\n",
              "<style scoped>\n",
              "    .dataframe tbody tr th:only-of-type {\n",
              "        vertical-align: middle;\n",
              "    }\n",
              "\n",
              "    .dataframe tbody tr th {\n",
              "        vertical-align: top;\n",
              "    }\n",
              "\n",
              "    .dataframe thead th {\n",
              "        text-align: right;\n",
              "    }\n",
              "</style>\n",
              "<table border=\"1\" class=\"dataframe\">\n",
              "  <thead>\n",
              "    <tr style=\"text-align: right;\">\n",
              "      <th></th>\n",
              "      <th>stroke</th>\n",
              "    </tr>\n",
              "  </thead>\n",
              "  <tbody>\n",
              "    <tr>\n",
              "      <th>0</th>\n",
              "      <td>1</td>\n",
              "    </tr>\n",
              "    <tr>\n",
              "      <th>1</th>\n",
              "      <td>1</td>\n",
              "    </tr>\n",
              "    <tr>\n",
              "      <th>2</th>\n",
              "      <td>1</td>\n",
              "    </tr>\n",
              "    <tr>\n",
              "      <th>3</th>\n",
              "      <td>1</td>\n",
              "    </tr>\n",
              "    <tr>\n",
              "      <th>4</th>\n",
              "      <td>1</td>\n",
              "    </tr>\n",
              "    <tr>\n",
              "      <th>...</th>\n",
              "      <td>...</td>\n",
              "    </tr>\n",
              "    <tr>\n",
              "      <th>9717</th>\n",
              "      <td>1</td>\n",
              "    </tr>\n",
              "    <tr>\n",
              "      <th>9718</th>\n",
              "      <td>1</td>\n",
              "    </tr>\n",
              "    <tr>\n",
              "      <th>9719</th>\n",
              "      <td>1</td>\n",
              "    </tr>\n",
              "    <tr>\n",
              "      <th>9720</th>\n",
              "      <td>1</td>\n",
              "    </tr>\n",
              "    <tr>\n",
              "      <th>9721</th>\n",
              "      <td>1</td>\n",
              "    </tr>\n",
              "  </tbody>\n",
              "</table>\n",
              "<p>9722 rows × 1 columns</p>\n",
              "</div><br><label><b>dtype:</b> int64</label>"
            ]
          },
          "metadata": {},
          "execution_count": 37
        }
      ]
    },
    {
      "cell_type": "markdown",
      "source": [
        "# **Plots after balancing:**"
      ],
      "metadata": {
        "id": "zN53v50g5RId"
      }
    },
    {
      "cell_type": "code",
      "source": [
        "y_b['stroke']=np.where(y_b['stroke'] == 1,'Had Stroke','No Stroke')\n",
        "sns.countplot(x=X_b['heart_disease'],hue=y_b['stroke'])"
      ],
      "metadata": {
        "id": "vkiO9_Ax5RIe",
        "outputId": "eb584eba-2184-475f-95d1-587b7ff81676",
        "colab": {
          "base_uri": "https://localhost:8080/",
          "height": 468
        }
      },
      "execution_count": 38,
      "outputs": [
        {
          "output_type": "execute_result",
          "data": {
            "text/plain": [
              "<Axes: xlabel='heart_disease', ylabel='count'>"
            ]
          },
          "metadata": {},
          "execution_count": 38
        },
        {
          "output_type": "display_data",
          "data": {
            "text/plain": [
              "<Figure size 640x480 with 1 Axes>"
            ],
            "image/png": "[encoded data removed]"
          },
          "metadata": {}
        }
      ]
    },
    {
      "cell_type": "code",
      "source": [
        "sns.countplot(x=X_b['hypertension'],hue=y_b['stroke'])"
      ],
      "metadata": {
        "id": "inztLLG96eO-",
        "outputId": "bfa58405-24c6-4bcc-da1f-43884a0da863",
        "colab": {
          "base_uri": "https://localhost:8080/",
          "height": 467
        }
      },
      "execution_count": 39,
      "outputs": [
        {
          "output_type": "execute_result",
          "data": {
            "text/plain": [
              "<Axes: xlabel='hypertension', ylabel='count'>"
            ]
          },
          "metadata": {},
          "execution_count": 39
        },
        {
          "output_type": "display_data",
          "data": {
            "text/plain": [
              "<Figure size 640x480 with 1 Axes>"
            ],
            "image/png": "[encoded data removed]"
          },
          "metadata": {}
        }
      ]
    },
    {
      "cell_type": "code",
      "source": [
        "y_b['stroke']=np.where(y_b['stroke'] == 'Had Stroke',1,0)\n",
        "y_b['stroke'].nunique()"
      ],
      "metadata": {
        "id": "W2A_UGZv62tC",
        "outputId": "a9789cbb-4338-49cc-e144-cbe952e490fa",
        "colab": {
          "base_uri": "https://localhost:8080/"
        }
      },
      "execution_count": 40,
      "outputs": [
        {
          "output_type": "execute_result",
          "data": {
            "text/plain": [
              "2"
            ]
          },
          "metadata": {},
          "execution_count": 40
        }
      ]
    },
    {
      "cell_type": "markdown",
      "source": [
        "# **Applying models after balancing:**"
      ],
      "metadata": {
        "id": "sRiweJvF7lIr"
      }
    },
    {
      "cell_type": "code",
      "source": [
        "X_b.head()"
      ],
      "metadata": {
        "id": "ODT4GLaL8ECr",
        "outputId": "379e71c2-8eec-4826-b98f-ce4ddc089e2d",
        "colab": {
          "base_uri": "https://localhost:8080/",
          "height": 206
        }
      },
      "execution_count": 41,
      "outputs": [
        {
          "output_type": "execute_result",
          "data": {
            "text/plain": [
              "  gender   age  hypertension  heart_disease ever_married work_type  \\\n",
              "0    1.0  67.0             0              1          1.0       2.0   \n",
              "1    0.0  61.0             0              0          1.0       3.0   \n",
              "2    1.0  80.0             0              1          1.0       2.0   \n",
              "3    0.0  49.0             0              0          1.0       2.0   \n",
              "4    0.0  79.0             1              0          1.0       3.0   \n",
              "\n",
              "  Residence_type  avg_glucose_level        bmi smoking_status  \n",
              "0            1.0             228.69  36.600000            1.0  \n",
              "1            0.0             202.21  28.893237            2.0  \n",
              "2            0.0             105.92  32.500000            2.0  \n",
              "3            1.0             171.23  34.400000            3.0  \n",
              "4            0.0             174.12  24.000000            2.0  "
            ],
            "text/html": [
              "\n",
              "  <div id=\"df-a66b7f24-9935-436d-b7f0-e00fcf65ec57\" class=\"colab-df-container\">\n",
              "    <div>\n",
              "<style scoped>\n",
              "    .dataframe tbody tr th:only-of-type {\n",
              "        vertical-align: middle;\n",
              "    }\n",
              "\n",
              "    .dataframe tbody tr th {\n",
              "        vertical-align: top;\n",
              "    }\n",
              "\n",
              "    .dataframe thead th {\n",
              "        text-align: right;\n",
              "    }\n",
              "</style>\n",
              "<table border=\"1\" class=\"dataframe\">\n",
              "  <thead>\n",
              "    <tr style=\"text-align: right;\">\n",
              "      <th></th>\n",
              "      <th>gender</th>\n",
              "      <th>age</th>\n",
              "      <th>hypertension</th>\n",
              "      <th>heart_disease</th>\n",
              "      <th>ever_married</th>\n",
              "      <th>work_type</th>\n",
              "      <th>Residence_type</th>\n",
              "      <th>avg_glucose_level</th>\n",
              "      <th>bmi</th>\n",
              "      <th>smoking_status</th>\n",
              "    </tr>\n",
              "  </thead>\n",
              "  <tbody>\n",
              "    <tr>\n",
              "      <th>0</th>\n",
              "      <td>1.0</td>\n",
              "      <td>67.0</td>\n",
              "      <td>0</td>\n",
              "      <td>1</td>\n",
              "      <td>1.0</td>\n",
              "      <td>2.0</td>\n",
              "      <td>1.0</td>\n",
              "      <td>228.69</td>\n",
              "      <td>36.600000</td>\n",
              "      <td>1.0</td>\n",
              "    </tr>\n",
              "    <tr>\n",
              "      <th>1</th>\n",
              "      <td>0.0</td>\n",
              "      <td>61.0</td>\n",
              "      <td>0</td>\n",
              "      <td>0</td>\n",
              "      <td>1.0</td>\n",
              "      <td>3.0</td>\n",
              "      <td>0.0</td>\n",
              "      <td>202.21</td>\n",
              "      <td>28.893237</td>\n",
              "      <td>2.0</td>\n",
              "    </tr>\n",
              "    <tr>\n",
              "      <th>2</th>\n",
              "      <td>1.0</td>\n",
              "      <td>80.0</td>\n",
              "      <td>0</td>\n",
              "      <td>1</td>\n",
              "      <td>1.0</td>\n",
              "      <td>2.0</td>\n",
              "      <td>0.0</td>\n",
              "      <td>105.92</td>\n",
              "      <td>32.500000</td>\n",
              "      <td>2.0</td>\n",
              "    </tr>\n",
              "    <tr>\n",
              "      <th>3</th>\n",
              "      <td>0.0</td>\n",
              "      <td>49.0</td>\n",
              "      <td>0</td>\n",
              "      <td>0</td>\n",
              "      <td>1.0</td>\n",
              "      <td>2.0</td>\n",
              "      <td>1.0</td>\n",
              "      <td>171.23</td>\n",
              "      <td>34.400000</td>\n",
              "      <td>3.0</td>\n",
              "    </tr>\n",
              "    <tr>\n",
              "      <th>4</th>\n",
              "      <td>0.0</td>\n",
              "      <td>79.0</td>\n",
              "      <td>1</td>\n",
              "      <td>0</td>\n",
              "      <td>1.0</td>\n",
              "      <td>3.0</td>\n",
              "      <td>0.0</td>\n",
              "      <td>174.12</td>\n",
              "      <td>24.000000</td>\n",
              "      <td>2.0</td>\n",
              "    </tr>\n",
              "  </tbody>\n",
              "</table>\n",
              "</div>\n",
              "    <div class=\"colab-df-buttons\">\n",
              "\n",
              "  <div class=\"colab-df-container\">\n",
              "    <button class=\"colab-df-convert\" onclick=\"convertToInteractive('df-a66b7f24-9935-436d-b7f0-e00fcf65ec57')\"\n",
              "            title=\"Convert this dataframe to an interactive table.\"\n",
              "            style=\"display:none;\">\n",
              "\n",
              "  <svg xmlns=\"http://www.w3.org/2000/svg\" height=\"24px\" viewBox=\"0 -960 960 960\">\n",
              "    <path d=\"M120-120v-720h720v720H120Zm60-500h600v-160H180v160Zm220 220h160v-160H400v160Zm0 220h160v-160H400v160ZM180-400h160v-160H180v160Zm440 0h160v-160H620v160ZM180-180h160v-160H180v160Zm440 0h160v-160H620v160Z\"/>\n",
              "  </svg>\n",
              "    </button>\n",
              "\n",
              "  <style>\n",
              "    .colab-df-container {\n",
              "      display:flex;\n",
              "      gap: 12px;\n",
              "    }\n",
              "\n",
              "    .colab-df-convert {\n",
              "      background-color: #E8F0FE;\n",
              "      border: none;\n",
              "      border-radius: 50%;\n",
              "      cursor: pointer;\n",
              "      display: none;\n",
              "      fill: #1967D2;\n",
              "      height: 32px;\n",
              "      padding: 0 0 0 0;\n",
              "      width: 32px;\n",
              "    }\n",
              "\n",
              "    .colab-df-convert:hover {\n",
              "      background-color: #E2EBFA;\n",
              "      box-shadow: 0px 1px 2px rgba(60, 64, 67, 0.3), 0px 1px 3px 1px rgba(60, 64, 67, 0.15);\n",
              "      fill: #174EA6;\n",
              "    }\n",
              "\n",
              "    .colab-df-buttons div {\n",
              "      margin-bottom: 4px;\n",
              "    }\n",
              "\n",
              "    [theme=dark] .colab-df-convert {\n",
              "      background-color: #3B4455;\n",
              "      fill: #D2E3FC;\n",
              "    }\n",
              "\n",
              "    [theme=dark] .colab-df-convert:hover {\n",
              "      background-color: #434B5C;\n",
              "      box-shadow: 0px 1px 3px 1px rgba(0, 0, 0, 0.15);\n",
              "      filter: drop-shadow(0px 1px 2px rgba(0, 0, 0, 0.3));\n",
              "      fill: #FFFFFF;\n",
              "    }\n",
              "  </style>\n",
              "\n",
              "    <script>\n",
              "      const buttonEl =\n",
              "        document.querySelector('#df-a66b7f24-9935-436d-b7f0-e00fcf65ec57 button.colab-df-convert');\n",
              "      buttonEl.style.display =\n",
              "        google.colab.kernel.accessAllowed ? 'block' : 'none';\n",
              "\n",
              "      async function convertToInteractive(key) {\n",
              "        const element = document.querySelector('#df-a66b7f24-9935-436d-b7f0-e00fcf65ec57');\n",
              "        const dataTable =\n",
              "          await google.colab.kernel.invokeFunction('convertToInteractive',\n",
              "                                                    [key], {});\n",
              "        if (!dataTable) return;\n",
              "\n",
              "        const docLinkHtml = 'Like what you see? Visit the ' +\n",
              "          '<a target=\"_blank\" href=https://colab.research.google.com/notebooks/data_table.ipynb>data table notebook</a>'\n",
              "          + ' to learn more about interactive tables.';\n",
              "        element.innerHTML = '';\n",
              "        dataTable['output_type'] = 'display_data';\n",
              "        await google.colab.output.renderOutput(dataTable, element);\n",
              "        const docLink = document.createElement('div');\n",
              "        docLink.innerHTML = docLinkHtml;\n",
              "        element.appendChild(docLink);\n",
              "      }\n",
              "    </script>\n",
              "  </div>\n",
              "\n",
              "\n",
              "<div id=\"df-3e74e4fa-e41b-445f-b33f-dad6ffb526cc\">\n",
              "  <button class=\"colab-df-quickchart\" onclick=\"quickchart('df-3e74e4fa-e41b-445f-b33f-dad6ffb526cc')\"\n",
              "            title=\"Suggest charts\"\n",
              "            style=\"display:none;\">\n",
              "\n",
              "<svg xmlns=\"http://www.w3.org/2000/svg\" height=\"24px\"viewBox=\"0 0 24 24\"\n",
              "     width=\"24px\">\n",
              "    <g>\n",
              "        <path d=\"M19 3H5c-1.1 0-2 .9-2 2v14c0 1.1.9 2 2 2h14c1.1 0 2-.9 2-2V5c0-1.1-.9-2-2-2zM9 17H7v-7h2v7zm4 0h-2V7h2v10zm4 0h-2v-4h2v4z\"/>\n",
              "    </g>\n",
              "</svg>\n",
              "  </button>\n",
              "\n",
              "<style>\n",
              "  .colab-df-quickchart {\n",
              "      --bg-color: #E8F0FE;\n",
              "      --fill-color: #1967D2;\n",
              "      --hover-bg-color: #E2EBFA;\n",
              "      --hover-fill-color: #174EA6;\n",
              "      --disabled-fill-color: #AAA;\n",
              "      --disabled-bg-color: #DDD;\n",
              "  }\n",
              "\n",
              "  [theme=dark] .colab-df-quickchart {\n",
              "      --bg-color: #3B4455;\n",
              "      --fill-color: #D2E3FC;\n",
              "      --hover-bg-color: #434B5C;\n",
              "      --hover-fill-color: #FFFFFF;\n",
              "      --disabled-bg-color: #3B4455;\n",
              "      --disabled-fill-color: #666;\n",
              "  }\n",
              "\n",
              "  .colab-df-quickchart {\n",
              "    background-color: var(--bg-color);\n",
              "    border: none;\n",
              "    border-radius: 50%;\n",
              "    cursor: pointer;\n",
              "    display: none;\n",
              "    fill: var(--fill-color);\n",
              "    height: 32px;\n",
              "    padding: 0;\n",
              "    width: 32px;\n",
              "  }\n",
              "\n",
              "  .colab-df-quickchart:hover {\n",
              "    background-color: var(--hover-bg-color);\n",
              "    box-shadow: 0 1px 2px rgba(60, 64, 67, 0.3), 0 1px 3px 1px rgba(60, 64, 67, 0.15);\n",
              "    fill: var(--button-hover-fill-color);\n",
              "  }\n",
              "\n",
              "  .colab-df-quickchart-complete:disabled,\n",
              "  .colab-df-quickchart-complete:disabled:hover {\n",
              "    background-color: var(--disabled-bg-color);\n",
              "    fill: var(--disabled-fill-color);\n",
              "    box-shadow: none;\n",
              "  }\n",
              "\n",
              "  .colab-df-spinner {\n",
              "    border: 2px solid var(--fill-color);\n",
              "    border-color: transparent;\n",
              "    border-bottom-color: var(--fill-color);\n",
              "    animation:\n",
              "      spin 1s steps(1) infinite;\n",
              "  }\n",
              "\n",
              "  @keyframes spin {\n",
              "    0% {\n",
              "      border-color: transparent;\n",
              "      border-bottom-color: var(--fill-color);\n",
              "      border-left-color: var(--fill-color);\n",
              "    }\n",
              "    20% {\n",
              "      border-color: transparent;\n",
              "      border-left-color: var(--fill-color);\n",
              "      border-top-color: var(--fill-color);\n",
              "    }\n",
              "    30% {\n",
              "      border-color: transparent;\n",
              "      border-left-color: var(--fill-color);\n",
              "      border-top-color: var(--fill-color);\n",
              "      border-right-color: var(--fill-color);\n",
              "    }\n",
              "    40% {\n",
              "      border-color: transparent;\n",
              "      border-right-color: var(--fill-color);\n",
              "      border-top-color: var(--fill-color);\n",
              "    }\n",
              "    60% {\n",
              "      border-color: transparent;\n",
              "      border-right-color: var(--fill-color);\n",
              "    }\n",
              "    80% {\n",
              "      border-color: transparent;\n",
              "      border-right-color: var(--fill-color);\n",
              "      border-bottom-color: var(--fill-color);\n",
              "    }\n",
              "    90% {\n",
              "      border-color: transparent;\n",
              "      border-bottom-color: var(--fill-color);\n",
              "    }\n",
              "  }\n",
              "</style>\n",
              "\n",
              "  <script>\n",
              "    async function quickchart(key) {\n",
              "      const quickchartButtonEl =\n",
              "        document.querySelector('#' + key + ' button');\n",
              "      quickchartButtonEl.disabled = true;  // To prevent multiple clicks.\n",
              "      quickchartButtonEl.classList.add('colab-df-spinner');\n",
              "      try {\n",
              "        const charts = await google.colab.kernel.invokeFunction(\n",
              "            'suggestCharts', [key], {});\n",
              "      } catch (error) {\n",
              "        console.error('Error during call to suggestCharts:', error);\n",
              "      }\n",
              "      quickchartButtonEl.classList.remove('colab-df-spinner');\n",
              "      quickchartButtonEl.classList.add('colab-df-quickchart-complete');\n",
              "    }\n",
              "    (() => {\n",
              "      let quickchartButtonEl =\n",
              "        document.querySelector('#df-3e74e4fa-e41b-445f-b33f-dad6ffb526cc button');\n",
              "      quickchartButtonEl.style.display =\n",
              "        google.colab.kernel.accessAllowed ? 'block' : 'none';\n",
              "    })();\n",
              "  </script>\n",
              "</div>\n",
              "\n",
              "    </div>\n",
              "  </div>\n"
            ],
            "application/vnd.google.colaboratory.intrinsic+json": {
              "type": "dataframe",
              "variable_name": "X_b",
              "summary": "{\n  \"name\": \"X_b\",\n  \"rows\": 9722,\n  \"fields\": [\n    {\n      \"column\": \"gender\",\n      \"properties\": {\n        \"dtype\": \"date\",\n        \"min\": 0.0,\n        \"max\": 2.0,\n        \"num_unique_values\": 2147,\n        \"samples\": [\n          0.697054832109916,\n          0.6340805645864246,\n          0.25034026738138604\n        ],\n        \"semantic_type\": \"\",\n        \"description\": \"\"\n      }\n    },\n    {\n      \"column\": \"age\",\n      \"properties\": {\n        \"dtype\": \"number\",\n        \"std\": 22.146083028431914,\n        \"min\": 0.08,\n        \"max\": 82.0,\n        \"num_unique_values\": 4259,\n        \"samples\": [\n          54.483475557183745,\n          57.79312853796306,\n          53.075114853981994\n        ],\n        \"semantic_type\": \"\",\n        \"description\": \"\"\n      }\n    },\n    {\n      \"column\": \"hypertension\",\n      \"properties\": {\n        \"dtype\": \"number\",\n        \"std\": 0,\n        \"min\": 0,\n        \"max\": 1,\n        \"num_unique_values\": 2,\n        \"samples\": [\n          1,\n          0\n        ],\n        \"semantic_type\": \"\",\n        \"description\": \"\"\n      }\n    },\n    {\n      \"column\": \"heart_disease\",\n      \"properties\": {\n        \"dtype\": \"number\",\n        \"std\": 0,\n        \"min\": 0,\n        \"max\": 1,\n        \"num_unique_values\": 2,\n        \"samples\": [\n          0,\n          1\n        ],\n        \"semantic_type\": \"\",\n        \"description\": \"\"\n      }\n    },\n    {\n      \"column\": \"ever_married\",\n      \"properties\": {\n        \"dtype\": \"date\",\n        \"min\": 0.0,\n        \"max\": 1.0,\n        \"num_unique_values\": 895,\n        \"samples\": [\n          0.00800814067378286,\n          0.8183005094393818\n        ],\n        \"semantic_type\": \"\",\n        \"description\": \"\"\n      }\n    },\n    {\n      \"column\": \"work_type\",\n      \"properties\": {\n        \"dtype\": \"date\",\n        \"min\": 0.0,\n        \"max\": 4.0,\n        \"num_unique_values\": 2342,\n        \"samples\": [\n          0.580736424972041,\n          2.154857574078821\n        ],\n        \"semantic_type\": \"\",\n        \"description\": \"\"\n      }\n    },\n    {\n      \"column\": \"Residence_type\",\n      \"properties\": {\n        \"dtype\": \"date\",\n        \"min\": 0.0,\n        \"max\": 1.0,\n        \"num_unique_values\": 2256,\n        \"samples\": [\n          0.2914151386760486,\n          0.8942993961206993\n        ],\n        \"semantic_type\": \"\",\n        \"description\": \"\"\n      }\n    },\n    {\n      \"column\": \"avg_glucose_level\",\n      \"properties\": {\n        \"dtype\": \"number\",\n        \"std\": 55.12021150909619,\n        \"min\": 55.12,\n        \"max\": 271.74,\n        \"num_unique_values\": 8591,\n        \"samples\": [\n          119.88,\n          66.3\n        ],\n        \"semantic_type\": \"\",\n        \"description\": \"\"\n      }\n    },\n    {\n      \"column\": \"bmi\",\n      \"properties\": {\n        \"dtype\": \"number\",\n        \"std\": 6.592823156234258,\n        \"min\": 10.3,\n        \"max\": 97.6,\n        \"num_unique_values\": 4723,\n        \"samples\": [\n          26.777197998309884,\n          31.305032696477294\n        ],\n        \"semantic_type\": \"\",\n        \"description\": \"\"\n      }\n    },\n    {\n      \"column\": \"smoking_status\",\n      \"properties\": {\n        \"dtype\": \"date\",\n        \"min\": 0.0,\n        \"max\": 3.0,\n        \"num_unique_values\": 3156,\n        \"samples\": [\n          1.2770693277613963,\n          0.17964531586413168\n        ],\n        \"semantic_type\": \"\",\n        \"description\": \"\"\n      }\n    }\n  ]\n}"
            }
          },
          "metadata": {},
          "execution_count": 41
        }
      ]
    },
    {
      "cell_type": "code",
      "source": [
        "# splitting new data:\n",
        "X_trainb , X_testb, y_trainb , y_testb= train_test_split (X_b,y_b, shuffle= True,\n",
        "                                                      random_state=42 , test_size=0.3)"
      ],
      "metadata": {
        "id": "CqI3FQOC6rZv"
      },
      "execution_count": 42,
      "outputs": []
    },
    {
      "cell_type": "code",
      "source": [
        "#Scaling new data:\n",
        "scaler= MinMaxScaler(feature_range=(0,1))\n",
        "scaler.fit(X_b)\n",
        "X_trainb= scaler.transform(X_trainb)\n",
        "X_testb= scaler.transform(X_testb)"
      ],
      "metadata": {
        "id": "f_Uu_gn-8LDp"
      },
      "execution_count": 43,
      "outputs": []
    },
    {
      "cell_type": "code",
      "source": [
        "mod_B ={\n",
        "'LogisticRegression' : LogisticRegression(random_state=42),\n",
        "'DecisionTreeClassifier' : DecisionTreeClassifier(criterion= 'entropy',max_depth=None),\n",
        "'RandomForestClassifier' : RandomForestClassifier(n_estimators=20, criterion ='gini',max_depth=None),\n",
        "'svm': svm.LinearSVC(),\n",
        "'KNN': KNeighborsClassifier(n_neighbors=5),\n",
        "'Naive_bayes': GaussianNB()\n",
        "}"
      ],
      "metadata": {
        "id": "4ys3BIxO9BdL"
      },
      "execution_count": 44,
      "outputs": []
    },
    {
      "cell_type": "code",
      "source": [
        "calcs_B= {\n",
        "'Models':['LogisticRegression','DecisionTreeClassifier','RandomForestClassifier','svm',\n",
        "'KNN','Naive_bayes'],\n",
        "'score_train':[],\n",
        "'score_test':[],\n",
        "'accuracy_score':[],\n",
        "'recall':[],\n",
        "'precision':[],\n",
        "'f1_score':[],\n",
        "'cnf_matrix':[]\n",
        "}"
      ],
      "metadata": {
        "id": "2rpZq5CF8_Tw"
      },
      "execution_count": 45,
      "outputs": []
    },
    {
      "cell_type": "code",
      "source": [
        "y_pred_B=[]\n",
        "k=0\n",
        "for n in mod_B :\n",
        "    mod_B[n].fit(X_trainb,y_trainb)\n",
        "    y_pred_B.append(mod_B[n].predict(X_testb))\n",
        "    calcs_B['accuracy_score'].append( accuracy_score(y_testb,y_pred_B[k]) )\n",
        "    calcs_B['recall'].append( recall_score(y_testb,y_pred_B[k],average='weighted'))\n",
        "    calcs_B['precision'].append( precision_score(y_testb,y_pred_B[k],average='weighted') )\n",
        "    calcs_B['score_train'].append( mod_B[n].score(X_trainb,y_trainb) )\n",
        "    calcs_B['score_test'].append( mod_B[n].score(X_testb,y_testb) )\n",
        "    calcs_B['f1_score'].append(f1_score(y_testb, y_pred_B[k], average='weighted'))\n",
        "    calcs_B['cnf_matrix'].append( metrics.confusion_matrix(y_testb, y_pred_B[k]) )\n",
        "    k=k+1\n",
        "calcs_B"
      ],
      "metadata": {
        "id": "KrmIoJeD89q6",
        "outputId": "8c0ff3dc-5d87-4857-e0c0-2e34ae7308de",
        "colab": {
          "base_uri": "https://localhost:8080/"
        }
      },
      "execution_count": 46,
      "outputs": [
        {
          "output_type": "stream",
          "name": "stderr",
          "text": [
            "/usr/local/lib/python3.10/dist-packages/sklearn/utils/validation.py:1339: DataConversionWarning: A column-vector y was passed when a 1d array was expected. Please change the shape of y to (n_samples, ), for example using ravel().\n",
            "  y = column_or_1d(y, warn=True)\n",
            "/usr/local/lib/python3.10/dist-packages/sklearn/base.py:1473: DataConversionWarning: A column-vector y was passed when a 1d array was expected. Please change the shape of y to (n_samples,), for example using ravel().\n",
            "  return fit_method(estimator, *args, **kwargs)\n",
            "/usr/local/lib/python3.10/dist-packages/sklearn/utils/validation.py:1339: DataConversionWarning: A column-vector y was passed when a 1d array was expected. Please change the shape of y to (n_samples, ), for example using ravel().\n",
            "  y = column_or_1d(y, warn=True)\n",
            "/usr/local/lib/python3.10/dist-packages/sklearn/neighbors/_classification.py:238: DataConversionWarning: A column-vector y was passed when a 1d array was expected. Please change the shape of y to (n_samples,), for example using ravel().\n",
            "  return self._fit(X, y)\n",
            "/usr/local/lib/python3.10/dist-packages/sklearn/utils/validation.py:1339: DataConversionWarning: A column-vector y was passed when a 1d array was expected. Please change the shape of y to (n_samples, ), for example using ravel().\n",
            "  y = column_or_1d(y, warn=True)\n"
          ]
        },
        {
          "output_type": "execute_result",
          "data": {
            "text/plain": [
              "{'Models': ['LogisticRegression',\n",
              "  'DecisionTreeClassifier',\n",
              "  'RandomForestClassifier',\n",
              "  'svm',\n",
              "  'KNN',\n",
              "  'Naive_bayes'],\n",
              " 'score_train': [0.7785451873622337,\n",
              "  1.0,\n",
              "  0.9995591476855253,\n",
              "  0.7779573842762675,\n",
              "  0.9423952975753123,\n",
              "  0.7616458486407054],\n",
              " 'score_test': [0.780939321220432,\n",
              "  0.9348645869043538,\n",
              "  0.9653753856702091,\n",
              "  0.7843675008570449,\n",
              "  0.9012684264655468,\n",
              "  0.7658553308193349],\n",
              " 'accuracy_score': [0.780939321220432,\n",
              "  0.9348645869043538,\n",
              "  0.9653753856702091,\n",
              "  0.7843675008570449,\n",
              "  0.9012684264655468,\n",
              "  0.7658553308193349],\n",
              " 'recall': [0.780939321220432,\n",
              "  0.9348645869043538,\n",
              "  0.9653753856702091,\n",
              "  0.7843675008570449,\n",
              "  0.9012684264655468,\n",
              "  0.7658553308193349],\n",
              " 'precision': [0.7820232847788092,\n",
              "  0.9349040163002577,\n",
              "  0.9661922829091979,\n",
              "  0.7860677603086913,\n",
              "  0.9029358091810068,\n",
              "  0.7765194918299931],\n",
              " 'f1_score': [0.7807188702366228,\n",
              "  0.93486276495617,\n",
              "  0.965360983045386,\n",
              "  0.7840347914120094,\n",
              "  0.9011625100462496,\n",
              "  0.7635421736808111],\n",
              " 'cnf_matrix': [array([[1092,  365],\n",
              "         [ 274, 1186]]),\n",
              "  array([[1355,  102],\n",
              "         [  88, 1372]]),\n",
              "  array([[1437,   20],\n",
              "         [  81, 1379]]),\n",
              "  array([[1086,  371],\n",
              "         [ 258, 1202]]),\n",
              "  array([[1266,  191],\n",
              "         [  97, 1363]]),\n",
              "  array([[ 972,  485],\n",
              "         [ 198, 1262]])]}"
            ]
          },
          "metadata": {},
          "execution_count": 46
        }
      ]
    },
    {
      "cell_type": "code",
      "source": [
        "models_B = pd.DataFrame(calcs_B)\n",
        "models_B.sort_values(by='score_test',ascending=False).style.background_gradient(cmap='YlGn')"
      ],
      "metadata": {
        "id": "kbzd7gl986vC",
        "outputId": "4d322803-051b-47fc-e131-549c62ae2f59",
        "colab": {
          "base_uri": "https://localhost:8080/",
          "height": 237
        }
      },
      "execution_count": 47,
      "outputs": [
        {
          "output_type": "execute_result",
          "data": {
            "text/plain": [
              "<pandas.io.formats.style.Styler at 0x78a4fdcaf760>"
            ],
            "text/html": [
              "<style type=\"text/css\">\n",
              "#T_f401a_row0_col1, #T_f401a_row0_col2, #T_f401a_row0_col3, #T_f401a_row0_col4, #T_f401a_row0_col5, #T_f401a_row0_col6, #T_f401a_row1_col1 {\n",
              "  background-color: #004529;\n",
              "  color: #f1f1f1;\n",
              "}\n",
              "#T_f401a_row1_col2, #T_f401a_row1_col3, #T_f401a_row1_col4 {\n",
              "  background-color: #086e3a;\n",
              "  color: #f1f1f1;\n",
              "}\n",
              "#T_f401a_row1_col5 {\n",
              "  background-color: #0b713b;\n",
              "  color: #f1f1f1;\n",
              "}\n",
              "#T_f401a_row1_col6 {\n",
              "  background-color: #076d39;\n",
              "  color: #f1f1f1;\n",
              "}\n",
              "#T_f401a_row2_col1 {\n",
              "  background-color: #208242;\n",
              "  color: #f1f1f1;\n",
              "}\n",
              "#T_f401a_row2_col2, #T_f401a_row2_col3, #T_f401a_row2_col4 {\n",
              "  background-color: #349a52;\n",
              "  color: #f1f1f1;\n",
              "}\n",
              "#T_f401a_row2_col5 {\n",
              "  background-color: #379e54;\n",
              "  color: #f1f1f1;\n",
              "}\n",
              "#T_f401a_row2_col6 {\n",
              "  background-color: #339951;\n",
              "  color: #f1f1f1;\n",
              "}\n",
              "#T_f401a_row3_col1 {\n",
              "  background-color: #fbfdce;\n",
              "  color: #000000;\n",
              "}\n",
              "#T_f401a_row3_col2, #T_f401a_row3_col3, #T_f401a_row3_col4 {\n",
              "  background-color: #f9fdc5;\n",
              "  color: #000000;\n",
              "}\n",
              "#T_f401a_row3_col5 {\n",
              "  background-color: #fcfed4;\n",
              "  color: #000000;\n",
              "}\n",
              "#T_f401a_row3_col6 {\n",
              "  background-color: #f9fdc2;\n",
              "  color: #000000;\n",
              "}\n",
              "#T_f401a_row4_col1 {\n",
              "  background-color: #fafdcc;\n",
              "  color: #000000;\n",
              "}\n",
              "#T_f401a_row4_col2, #T_f401a_row4_col3, #T_f401a_row4_col4 {\n",
              "  background-color: #fafdcb;\n",
              "  color: #000000;\n",
              "}\n",
              "#T_f401a_row4_col5 {\n",
              "  background-color: #fdfedb;\n",
              "  color: #000000;\n",
              "}\n",
              "#T_f401a_row4_col6 {\n",
              "  background-color: #fafdc8;\n",
              "  color: #000000;\n",
              "}\n",
              "#T_f401a_row5_col1, #T_f401a_row5_col2, #T_f401a_row5_col3, #T_f401a_row5_col4, #T_f401a_row5_col5, #T_f401a_row5_col6 {\n",
              "  background-color: #ffffe5;\n",
              "  color: #000000;\n",
              "}\n",
              "</style>\n",
              "<table id=\"T_f401a\" class=\"dataframe\">\n",
              "  <thead>\n",
              "    <tr>\n",
              "      <th class=\"blank level0\" >&nbsp;</th>\n",
              "      <th id=\"T_f401a_level0_col0\" class=\"col_heading level0 col0\" >Models</th>\n",
              "      <th id=\"T_f401a_level0_col1\" class=\"col_heading level0 col1\" >score_train</th>\n",
              "      <th id=\"T_f401a_level0_col2\" class=\"col_heading level0 col2\" >score_test</th>\n",
              "      <th id=\"T_f401a_level0_col3\" class=\"col_heading level0 col3\" >accuracy_score</th>\n",
              "      <th id=\"T_f401a_level0_col4\" class=\"col_heading level0 col4\" >recall</th>\n",
              "      <th id=\"T_f401a_level0_col5\" class=\"col_heading level0 col5\" >precision</th>\n",
              "      <th id=\"T_f401a_level0_col6\" class=\"col_heading level0 col6\" >f1_score</th>\n",
              "      <th id=\"T_f401a_level0_col7\" class=\"col_heading level0 col7\" >cnf_matrix</th>\n",
              "    </tr>\n",
              "  </thead>\n",
              "  <tbody>\n",
              "    <tr>\n",
              "      <th id=\"T_f401a_level0_row0\" class=\"row_heading level0 row0\" >2</th>\n",
              "      <td id=\"T_f401a_row0_col0\" class=\"data row0 col0\" >RandomForestClassifier</td>\n",
              "      <td id=\"T_f401a_row0_col1\" class=\"data row0 col1\" >0.999559</td>\n",
              "      <td id=\"T_f401a_row0_col2\" class=\"data row0 col2\" >0.965375</td>\n",
              "      <td id=\"T_f401a_row0_col3\" class=\"data row0 col3\" >0.965375</td>\n",
              "      <td id=\"T_f401a_row0_col4\" class=\"data row0 col4\" >0.965375</td>\n",
              "      <td id=\"T_f401a_row0_col5\" class=\"data row0 col5\" >0.966192</td>\n",
              "      <td id=\"T_f401a_row0_col6\" class=\"data row0 col6\" >0.965361</td>\n",
              "      <td id=\"T_f401a_row0_col7\" class=\"data row0 col7\" >[[1437   20]\n",
              " [  81 1379]]</td>\n",
              "    </tr>\n",
              "    <tr>\n",
              "      <th id=\"T_f401a_level0_row1\" class=\"row_heading level0 row1\" >1</th>\n",
              "      <td id=\"T_f401a_row1_col0\" class=\"data row1 col0\" >DecisionTreeClassifier</td>\n",
              "      <td id=\"T_f401a_row1_col1\" class=\"data row1 col1\" >1.000000</td>\n",
              "      <td id=\"T_f401a_row1_col2\" class=\"data row1 col2\" >0.934865</td>\n",
              "      <td id=\"T_f401a_row1_col3\" class=\"data row1 col3\" >0.934865</td>\n",
              "      <td id=\"T_f401a_row1_col4\" class=\"data row1 col4\" >0.934865</td>\n",
              "      <td id=\"T_f401a_row1_col5\" class=\"data row1 col5\" >0.934904</td>\n",
              "      <td id=\"T_f401a_row1_col6\" class=\"data row1 col6\" >0.934863</td>\n",
              "      <td id=\"T_f401a_row1_col7\" class=\"data row1 col7\" >[[1355  102]\n",
              " [  88 1372]]</td>\n",
              "    </tr>\n",
              "    <tr>\n",
              "      <th id=\"T_f401a_level0_row2\" class=\"row_heading level0 row2\" >4</th>\n",
              "      <td id=\"T_f401a_row2_col0\" class=\"data row2 col0\" >KNN</td>\n",
              "      <td id=\"T_f401a_row2_col1\" class=\"data row2 col1\" >0.942395</td>\n",
              "      <td id=\"T_f401a_row2_col2\" class=\"data row2 col2\" >0.901268</td>\n",
              "      <td id=\"T_f401a_row2_col3\" class=\"data row2 col3\" >0.901268</td>\n",
              "      <td id=\"T_f401a_row2_col4\" class=\"data row2 col4\" >0.901268</td>\n",
              "      <td id=\"T_f401a_row2_col5\" class=\"data row2 col5\" >0.902936</td>\n",
              "      <td id=\"T_f401a_row2_col6\" class=\"data row2 col6\" >0.901163</td>\n",
              "      <td id=\"T_f401a_row2_col7\" class=\"data row2 col7\" >[[1266  191]\n",
              " [  97 1363]]</td>\n",
              "    </tr>\n",
              "    <tr>\n",
              "      <th id=\"T_f401a_level0_row3\" class=\"row_heading level0 row3\" >3</th>\n",
              "      <td id=\"T_f401a_row3_col0\" class=\"data row3 col0\" >svm</td>\n",
              "      <td id=\"T_f401a_row3_col1\" class=\"data row3 col1\" >0.777957</td>\n",
              "      <td id=\"T_f401a_row3_col2\" class=\"data row3 col2\" >0.784368</td>\n",
              "      <td id=\"T_f401a_row3_col3\" class=\"data row3 col3\" >0.784368</td>\n",
              "      <td id=\"T_f401a_row3_col4\" class=\"data row3 col4\" >0.784368</td>\n",
              "      <td id=\"T_f401a_row3_col5\" class=\"data row3 col5\" >0.786068</td>\n",
              "      <td id=\"T_f401a_row3_col6\" class=\"data row3 col6\" >0.784035</td>\n",
              "      <td id=\"T_f401a_row3_col7\" class=\"data row3 col7\" >[[1086  371]\n",
              " [ 258 1202]]</td>\n",
              "    </tr>\n",
              "    <tr>\n",
              "      <th id=\"T_f401a_level0_row4\" class=\"row_heading level0 row4\" >0</th>\n",
              "      <td id=\"T_f401a_row4_col0\" class=\"data row4 col0\" >LogisticRegression</td>\n",
              "      <td id=\"T_f401a_row4_col1\" class=\"data row4 col1\" >0.778545</td>\n",
              "      <td id=\"T_f401a_row4_col2\" class=\"data row4 col2\" >0.780939</td>\n",
              "      <td id=\"T_f401a_row4_col3\" class=\"data row4 col3\" >0.780939</td>\n",
              "      <td id=\"T_f401a_row4_col4\" class=\"data row4 col4\" >0.780939</td>\n",
              "      <td id=\"T_f401a_row4_col5\" class=\"data row4 col5\" >0.782023</td>\n",
              "      <td id=\"T_f401a_row4_col6\" class=\"data row4 col6\" >0.780719</td>\n",
              "      <td id=\"T_f401a_row4_col7\" class=\"data row4 col7\" >[[1092  365]\n",
              " [ 274 1186]]</td>\n",
              "    </tr>\n",
              "    <tr>\n",
              "      <th id=\"T_f401a_level0_row5\" class=\"row_heading level0 row5\" >5</th>\n",
              "      <td id=\"T_f401a_row5_col0\" class=\"data row5 col0\" >Naive_bayes</td>\n",
              "      <td id=\"T_f401a_row5_col1\" class=\"data row5 col1\" >0.761646</td>\n",
              "      <td id=\"T_f401a_row5_col2\" class=\"data row5 col2\" >0.765855</td>\n",
              "      <td id=\"T_f401a_row5_col3\" class=\"data row5 col3\" >0.765855</td>\n",
              "      <td id=\"T_f401a_row5_col4\" class=\"data row5 col4\" >0.765855</td>\n",
              "      <td id=\"T_f401a_row5_col5\" class=\"data row5 col5\" >0.776519</td>\n",
              "      <td id=\"T_f401a_row5_col6\" class=\"data row5 col6\" >0.763542</td>\n",
              "      <td id=\"T_f401a_row5_col7\" class=\"data row5 col7\" >[[ 972  485]\n",
              " [ 198 1262]]</td>\n",
              "    </tr>\n",
              "  </tbody>\n",
              "</table>\n"
            ]
          },
          "metadata": {},
          "execution_count": 47
        }
      ]
    },
    {
      "cell_type": "code",
      "source": [
        "models = pd.DataFrame(calcs) # for comparison\n",
        "models.sort_values(by='score_test',ascending=False).style.background_gradient(cmap='YlGn')"
      ],
      "metadata": {
        "id": "xjuthPnXBPUq",
        "outputId": "97400ad6-34cf-473d-d45d-484e0720093a",
        "colab": {
          "base_uri": "https://localhost:8080/",
          "height": 237
        }
      },
      "execution_count": 48,
      "outputs": [
        {
          "output_type": "execute_result",
          "data": {
            "text/plain": [
              "<pandas.io.formats.style.Styler at 0x78a4fdd97d00>"
            ],
            "text/html": [
              "<style type=\"text/css\">\n",
              "#T_01032_row0_col1, #T_01032_row1_col1 {\n",
              "  background-color: #3ba358;\n",
              "  color: #f1f1f1;\n",
              "}\n",
              "#T_01032_row0_col2, #T_01032_row0_col3, #T_01032_row0_col4, #T_01032_row1_col2, #T_01032_row1_col3, #T_01032_row1_col4, #T_01032_row3_col6, #T_01032_row4_col1, #T_01032_row5_col5 {\n",
              "  background-color: #004529;\n",
              "  color: #f1f1f1;\n",
              "}\n",
              "#T_01032_row0_col5, #T_01032_row1_col5, #T_01032_row2_col5, #T_01032_row5_col1, #T_01032_row5_col2, #T_01032_row5_col3, #T_01032_row5_col4, #T_01032_row5_col6 {\n",
              "  background-color: #ffffe5;\n",
              "  color: #000000;\n",
              "}\n",
              "#T_01032_row0_col6, #T_01032_row1_col6, #T_01032_row2_col1 {\n",
              "  background-color: #004a2b;\n",
              "  color: #f1f1f1;\n",
              "}\n",
              "#T_01032_row2_col2, #T_01032_row2_col3, #T_01032_row2_col4, #T_01032_row3_col2, #T_01032_row3_col3, #T_01032_row3_col4 {\n",
              "  background-color: #00492b;\n",
              "  color: #f1f1f1;\n",
              "}\n",
              "#T_01032_row2_col6 {\n",
              "  background-color: #00512e;\n",
              "  color: #f1f1f1;\n",
              "}\n",
              "#T_01032_row3_col1 {\n",
              "  background-color: #359c53;\n",
              "  color: #f1f1f1;\n",
              "}\n",
              "#T_01032_row3_col5, #T_01032_row4_col2, #T_01032_row4_col3, #T_01032_row4_col4 {\n",
              "  background-color: #6dc073;\n",
              "  color: #000000;\n",
              "}\n",
              "#T_01032_row4_col5 {\n",
              "  background-color: #53b466;\n",
              "  color: #f1f1f1;\n",
              "}\n",
              "#T_01032_row4_col6 {\n",
              "  background-color: #3ca458;\n",
              "  color: #f1f1f1;\n",
              "}\n",
              "</style>\n",
              "<table id=\"T_01032\" class=\"dataframe\">\n",
              "  <thead>\n",
              "    <tr>\n",
              "      <th class=\"blank level0\" >&nbsp;</th>\n",
              "      <th id=\"T_01032_level0_col0\" class=\"col_heading level0 col0\" >Models</th>\n",
              "      <th id=\"T_01032_level0_col1\" class=\"col_heading level0 col1\" >score_train</th>\n",
              "      <th id=\"T_01032_level0_col2\" class=\"col_heading level0 col2\" >score_test</th>\n",
              "      <th id=\"T_01032_level0_col3\" class=\"col_heading level0 col3\" >accuracy_score</th>\n",
              "      <th id=\"T_01032_level0_col4\" class=\"col_heading level0 col4\" >recall</th>\n",
              "      <th id=\"T_01032_level0_col5\" class=\"col_heading level0 col5\" >precision</th>\n",
              "      <th id=\"T_01032_level0_col6\" class=\"col_heading level0 col6\" >f1_score</th>\n",
              "      <th id=\"T_01032_level0_col7\" class=\"col_heading level0 col7\" >cnf_matrix</th>\n",
              "    </tr>\n",
              "  </thead>\n",
              "  <tbody>\n",
              "    <tr>\n",
              "      <th id=\"T_01032_level0_row0\" class=\"row_heading level0 row0\" >0</th>\n",
              "      <td id=\"T_01032_row0_col0\" class=\"data row0 col0\" >LogisticRegression</td>\n",
              "      <td id=\"T_01032_row0_col1\" class=\"data row0 col1\" >0.955270</td>\n",
              "      <td id=\"T_01032_row0_col2\" class=\"data row0 col2\" >0.941944</td>\n",
              "      <td id=\"T_01032_row0_col3\" class=\"data row0 col3\" >0.941944</td>\n",
              "      <td id=\"T_01032_row0_col4\" class=\"data row0 col4\" >0.941944</td>\n",
              "      <td id=\"T_01032_row0_col5\" class=\"data row0 col5\" >0.887258</td>\n",
              "      <td id=\"T_01032_row0_col6\" class=\"data row0 col6\" >0.913784</td>\n",
              "      <td id=\"T_01032_row0_col7\" class=\"data row0 col7\" >[[1444    0]\n",
              " [  89    0]]</td>\n",
              "    </tr>\n",
              "    <tr>\n",
              "      <th id=\"T_01032_level0_row1\" class=\"row_heading level0 row1\" >3</th>\n",
              "      <td id=\"T_01032_row1_col0\" class=\"data row1 col0\" >svm</td>\n",
              "      <td id=\"T_01032_row1_col1\" class=\"data row1 col1\" >0.955270</td>\n",
              "      <td id=\"T_01032_row1_col2\" class=\"data row1 col2\" >0.941944</td>\n",
              "      <td id=\"T_01032_row1_col3\" class=\"data row1 col3\" >0.941944</td>\n",
              "      <td id=\"T_01032_row1_col4\" class=\"data row1 col4\" >0.941944</td>\n",
              "      <td id=\"T_01032_row1_col5\" class=\"data row1 col5\" >0.887258</td>\n",
              "      <td id=\"T_01032_row1_col6\" class=\"data row1 col6\" >0.913784</td>\n",
              "      <td id=\"T_01032_row1_col7\" class=\"data row1 col7\" >[[1444    0]\n",
              " [  89    0]]</td>\n",
              "    </tr>\n",
              "    <tr>\n",
              "      <th id=\"T_01032_level0_row2\" class=\"row_heading level0 row2\" >2</th>\n",
              "      <td id=\"T_01032_row2_col0\" class=\"data row2 col0\" >RandomForestClassifier</td>\n",
              "      <td id=\"T_01032_row2_col1\" class=\"data row2 col1\" >0.997204</td>\n",
              "      <td id=\"T_01032_row2_col2\" class=\"data row2 col2\" >0.940639</td>\n",
              "      <td id=\"T_01032_row2_col3\" class=\"data row2 col3\" >0.940639</td>\n",
              "      <td id=\"T_01032_row2_col4\" class=\"data row2 col4\" >0.940639</td>\n",
              "      <td id=\"T_01032_row2_col5\" class=\"data row2 col5\" >0.887187</td>\n",
              "      <td id=\"T_01032_row2_col6\" class=\"data row2 col6\" >0.913131</td>\n",
              "      <td id=\"T_01032_row2_col7\" class=\"data row2 col7\" >[[1442    2]\n",
              " [  89    0]]</td>\n",
              "    </tr>\n",
              "    <tr>\n",
              "      <th id=\"T_01032_level0_row3\" class=\"row_heading level0 row3\" >4</th>\n",
              "      <td id=\"T_01032_row3_col0\" class=\"data row3 col0\" >KNN</td>\n",
              "      <td id=\"T_01032_row3_col1\" class=\"data row3 col1\" >0.958065</td>\n",
              "      <td id=\"T_01032_row3_col2\" class=\"data row3 col2\" >0.940639</td>\n",
              "      <td id=\"T_01032_row3_col3\" class=\"data row3 col3\" >0.940639</td>\n",
              "      <td id=\"T_01032_row3_col4\" class=\"data row3 col4\" >0.940639</td>\n",
              "      <td id=\"T_01032_row3_col5\" class=\"data row3 col5\" >0.902245</td>\n",
              "      <td id=\"T_01032_row3_col6\" class=\"data row3 col6\" >0.914361</td>\n",
              "      <td id=\"T_01032_row3_col7\" class=\"data row3 col7\" >[[1441    3]\n",
              " [  88    1]]</td>\n",
              "    </tr>\n",
              "    <tr>\n",
              "      <th id=\"T_01032_level0_row4\" class=\"row_heading level0 row4\" >1</th>\n",
              "      <td id=\"T_01032_row4_col0\" class=\"data row4 col0\" >DecisionTreeClassifier</td>\n",
              "      <td id=\"T_01032_row4_col1\" class=\"data row4 col1\" >1.000000</td>\n",
              "      <td id=\"T_01032_row4_col2\" class=\"data row4 col2\" >0.905414</td>\n",
              "      <td id=\"T_01032_row4_col3\" class=\"data row4 col3\" >0.905414</td>\n",
              "      <td id=\"T_01032_row4_col4\" class=\"data row4 col4\" >0.905414</td>\n",
              "      <td id=\"T_01032_row4_col5\" class=\"data row4 col5\" >0.903899</td>\n",
              "      <td id=\"T_01032_row4_col6\" class=\"data row4 col6\" >0.904653</td>\n",
              "      <td id=\"T_01032_row4_col7\" class=\"data row4 col7\" >[[1373   71]\n",
              " [  74   15]]</td>\n",
              "    </tr>\n",
              "    <tr>\n",
              "      <th id=\"T_01032_level0_row5\" class=\"row_heading level0 row5\" >5</th>\n",
              "      <td id=\"T_01032_row5_col0\" class=\"data row5 col0\" >Naive_bayes</td>\n",
              "      <td id=\"T_01032_row5_col1\" class=\"data row5 col1\" >0.871401</td>\n",
              "      <td id=\"T_01032_row5_col2\" class=\"data row5 col2\" >0.864971</td>\n",
              "      <td id=\"T_01032_row5_col3\" class=\"data row5 col3\" >0.864971</td>\n",
              "      <td id=\"T_01032_row5_col4\" class=\"data row5 col4\" >0.864971</td>\n",
              "      <td id=\"T_01032_row5_col5\" class=\"data row5 col5\" >0.915771</td>\n",
              "      <td id=\"T_01032_row5_col6\" class=\"data row5 col6\" >0.886965</td>\n",
              "      <td id=\"T_01032_row5_col7\" class=\"data row5 col7\" >[[1290  154]\n",
              " [  53   36]]</td>\n",
              "    </tr>\n",
              "  </tbody>\n",
              "</table>\n"
            ]
          },
          "metadata": {},
          "execution_count": 48
        }
      ]
    },
    {
      "cell_type": "code",
      "source": [
        "models_B=models_B.rename(index={0: 'LogisticRegression', 1:'DecisionTreeClassifier', 2:'RandomForestClassifier',\n",
        "                    3:'svm', 4:'KNN', 5:'Naive_bayes'})\n",
        "# Plotting\n",
        "models.plot(kind='bar', figsize=(10, 6))\n",
        "\n",
        "# Customizing the plot\n",
        "\n",
        "plt.xlabel('Model')\n",
        "plt.ylabel('Score')\n",
        "plt.title('Models Accuracy Scores')\n",
        "plt.ylim(0,1.3)\n",
        "plt.xticks(rotation=45)  # Rotate model names for better readability\n",
        "plt.tight_layout()  # Adjust layout to fit labels\n",
        "plt.grid(True)\n",
        "# Display the plot\n",
        "plt.show()"
      ],
      "metadata": {
        "id": "DYW_7RcK8zy5",
        "outputId": "5d3d1fc0-a9f1-42ad-d8b3-363e98eb1eaa",
        "colab": {
          "base_uri": "https://localhost:8080/",
          "height": 607
        }
      },
      "execution_count": 49,
      "outputs": [
        {
          "output_type": "display_data",
          "data": {
            "text/plain": [
              "<Figure size 1000x600 with 1 Axes>"
            ],
            "image/png": "[encoded data removed]"
          },
          "metadata": {}
        }
      ]
    },
    {
      "cell_type": "code",
      "source": [
        "target_names = ['Had stroke', 'NO stroke']\n",
        "for n in range(0,6):\n",
        "    print(\"For \",models_B.index[n],\":\\n\\n\",classification_report(y_testb, y_pred_B[n], target_names=target_names))"
      ],
      "metadata": {
        "id": "UGnuUWIY8Z8F",
        "outputId": "2d6cc1f8-3f38-492d-c0a8-f3645b0c8cf4",
        "colab": {
          "base_uri": "https://localhost:8080/"
        }
      },
      "execution_count": 50,
      "outputs": [
        {
          "output_type": "stream",
          "name": "stdout",
          "text": [
            "For  LogisticRegression :\n",
            "\n",
            "               precision    recall  f1-score   support\n",
            "\n",
            "  Had stroke       0.80      0.75      0.77      1457\n",
            "   NO stroke       0.76      0.81      0.79      1460\n",
            "\n",
            "    accuracy                           0.78      2917\n",
            "   macro avg       0.78      0.78      0.78      2917\n",
            "weighted avg       0.78      0.78      0.78      2917\n",
            "\n",
            "For  DecisionTreeClassifier :\n",
            "\n",
            "               precision    recall  f1-score   support\n",
            "\n",
            "  Had stroke       0.94      0.93      0.93      1457\n",
            "   NO stroke       0.93      0.94      0.94      1460\n",
            "\n",
            "    accuracy                           0.93      2917\n",
            "   macro avg       0.93      0.93      0.93      2917\n",
            "weighted avg       0.93      0.93      0.93      2917\n",
            "\n",
            "For  RandomForestClassifier :\n",
            "\n",
            "               precision    recall  f1-score   support\n",
            "\n",
            "  Had stroke       0.95      0.99      0.97      1457\n",
            "   NO stroke       0.99      0.94      0.96      1460\n",
            "\n",
            "    accuracy                           0.97      2917\n",
            "   macro avg       0.97      0.97      0.97      2917\n",
            "weighted avg       0.97      0.97      0.97      2917\n",
            "\n",
            "For  svm :\n",
            "\n",
            "               precision    recall  f1-score   support\n",
            "\n",
            "  Had stroke       0.81      0.75      0.78      1457\n",
            "   NO stroke       0.76      0.82      0.79      1460\n",
            "\n",
            "    accuracy                           0.78      2917\n",
            "   macro avg       0.79      0.78      0.78      2917\n",
            "weighted avg       0.79      0.78      0.78      2917\n",
            "\n",
            "For  KNN :\n",
            "\n",
            "               precision    recall  f1-score   support\n",
            "\n",
            "  Had stroke       0.93      0.87      0.90      1457\n",
            "   NO stroke       0.88      0.93      0.90      1460\n",
            "\n",
            "    accuracy                           0.90      2917\n",
            "   macro avg       0.90      0.90      0.90      2917\n",
            "weighted avg       0.90      0.90      0.90      2917\n",
            "\n",
            "For  Naive_bayes :\n",
            "\n",
            "               precision    recall  f1-score   support\n",
            "\n",
            "  Had stroke       0.83      0.67      0.74      1457\n",
            "   NO stroke       0.72      0.86      0.79      1460\n",
            "\n",
            "    accuracy                           0.77      2917\n",
            "   macro avg       0.78      0.77      0.76      2917\n",
            "weighted avg       0.78      0.77      0.76      2917\n",
            "\n"
          ]
        }
      ]
    },
    {
      "cell_type": "markdown",
      "source": [
        "# **Apply Deep Model:**"
      ],
      "metadata": {
        "id": "sWLCpka2CMcr"
      }
    },
    {
      "cell_type": "code",
      "source": [
        "import tensorflow as tf\n",
        "from tensorflow import keras"
      ],
      "metadata": {
        "id": "m-q5WMXUAzw7"
      },
      "execution_count": 51,
      "outputs": []
    },
    {
      "cell_type": "code",
      "source": [
        "# Define the model\n",
        "ker = keras.Sequential()\n",
        "ker.add(keras.layers.Dense(32,  activation=\"relu\", input_shape = X_trainb.shape[1:]))\n",
        "ker.add(keras.layers.Dense(16, activation=\"relu\"))\n",
        "ker.add(keras.layers.Dense(1, activation=\"sigmoid\"))"
      ],
      "metadata": {
        "id": "cUPi9MyADdLv"
      },
      "execution_count": 53,
      "outputs": []
    },
    {
      "cell_type": "code",
      "source": [
        "# Compiling the model\n",
        "ker.compile(loss=\"binary_crossentropy\", optimizer=\"adam\", metrics=[\"accuracy\"])\n",
        "\n",
        "# Training and evaluating the model\n",
        "history = ker.fit(X_trainb, y_trainb, epochs=100, batch_size=64, validation_split=0.2)"
      ],
      "metadata": {
        "colab": {
          "base_uri": "https://localhost:8080/"
        },
        "id": "CmH3RjP-DkFJ",
        "outputId": "9d1c80a9-4513-4c4a-96a5-e00e2ed3f6e1"
      },
      "execution_count": 55,
      "outputs": [
        {
          "output_type": "stream",
          "name": "stdout",
          "text": [
            "Epoch 1/100\n",
            "\u001b[1m86/86\u001b[0m \u001b[32m━━━━━━━━━━━━━━━━━━━━\u001b[0m\u001b[37m\u001b[0m \u001b[1m2s\u001b[0m 4ms/step - accuracy: 0.5653 - loss: 0.6860 - val_accuracy: 0.7127 - val_loss: 0.6066\n",
            "Epoch 2/100\n",
            "\u001b[1m86/86\u001b[0m \u001b[32m━━━━━━━━━━━━━━━━━━━━\u001b[0m\u001b[37m\u001b[0m \u001b[1m0s\u001b[0m 2ms/step - accuracy: 0.7141 - loss: 0.5939 - val_accuracy: 0.7656 - val_loss: 0.5119\n",
            "Epoch 3/100\n",
            "\u001b[1m86/86\u001b[0m \u001b[32m━━━━━━━━━━━━━━━━━━━━\u001b[0m\u001b[37m\u001b[0m \u001b[1m0s\u001b[0m 2ms/step - accuracy: 0.7614 - loss: 0.5134 - val_accuracy: 0.8016 - val_loss: 0.4545\n",
            "Epoch 4/100\n",
            "\u001b[1m86/86\u001b[0m \u001b[32m━━━━━━━━━━━━━━━━━━━━\u001b[0m\u001b[37m\u001b[0m \u001b[1m0s\u001b[0m 3ms/step - accuracy: 0.7868 - loss: 0.4624 - val_accuracy: 0.8222 - val_loss: 0.4239\n",
            "Epoch 5/100\n",
            "\u001b[1m86/86\u001b[0m \u001b[32m━━━━━━━━━━━━━━━━━━━━\u001b[0m\u001b[37m\u001b[0m \u001b[1m0s\u001b[0m 3ms/step - accuracy: 0.8116 - loss: 0.4299 - val_accuracy: 0.8347 - val_loss: 0.4008\n",
            "Epoch 6/100\n",
            "\u001b[1m86/86\u001b[0m \u001b[32m━━━━━━━━━━━━━━━━━━━━\u001b[0m\u001b[37m\u001b[0m \u001b[1m0s\u001b[0m 3ms/step - accuracy: 0.8101 - loss: 0.4265 - val_accuracy: 0.8347 - val_loss: 0.3891\n",
            "Epoch 7/100\n",
            "\u001b[1m86/86\u001b[0m \u001b[32m━━━━━━━━━━━━━━━━━━━━\u001b[0m\u001b[37m\u001b[0m \u001b[1m0s\u001b[0m 3ms/step - accuracy: 0.8146 - loss: 0.4050 - val_accuracy: 0.8332 - val_loss: 0.3835\n",
            "Epoch 8/100\n",
            "\u001b[1m86/86\u001b[0m \u001b[32m━━━━━━━━━━━━━━━━━━━━\u001b[0m\u001b[37m\u001b[0m \u001b[1m0s\u001b[0m 2ms/step - accuracy: 0.8213 - loss: 0.3960 - val_accuracy: 0.8413 - val_loss: 0.3777\n",
            "Epoch 9/100\n",
            "\u001b[1m86/86\u001b[0m \u001b[32m━━━━━━━━━━━━━━━━━━━━\u001b[0m\u001b[37m\u001b[0m \u001b[1m0s\u001b[0m 3ms/step - accuracy: 0.8129 - loss: 0.4086 - val_accuracy: 0.8369 - val_loss: 0.3690\n",
            "Epoch 10/100\n",
            "\u001b[1m86/86\u001b[0m \u001b[32m━━━━━━━━━━━━━━━━━━━━\u001b[0m\u001b[37m\u001b[0m \u001b[1m0s\u001b[0m 3ms/step - accuracy: 0.8260 - loss: 0.3919 - val_accuracy: 0.8406 - val_loss: 0.3664\n",
            "Epoch 11/100\n",
            "\u001b[1m86/86\u001b[0m \u001b[32m━━━━━━━━━━━━━━━━━━━━\u001b[0m\u001b[37m\u001b[0m \u001b[1m0s\u001b[0m 3ms/step - accuracy: 0.8191 - loss: 0.3834 - val_accuracy: 0.8369 - val_loss: 0.3611\n",
            "Epoch 12/100\n",
            "\u001b[1m86/86\u001b[0m \u001b[32m━━━━━━━━━━━━━━━━━━━━\u001b[0m\u001b[37m\u001b[0m \u001b[1m0s\u001b[0m 3ms/step - accuracy: 0.8303 - loss: 0.3762 - val_accuracy: 0.8479 - val_loss: 0.3544\n",
            "Epoch 13/100\n",
            "\u001b[1m86/86\u001b[0m \u001b[32m━━━━━━━━━━━━━━━━━━━━\u001b[0m\u001b[37m\u001b[0m \u001b[1m0s\u001b[0m 2ms/step - accuracy: 0.8340 - loss: 0.3664 - val_accuracy: 0.8391 - val_loss: 0.3530\n",
            "Epoch 14/100\n",
            "\u001b[1m86/86\u001b[0m \u001b[32m━━━━━━━━━━━━━━━━━━━━\u001b[0m\u001b[37m\u001b[0m \u001b[1m0s\u001b[0m 3ms/step - accuracy: 0.8362 - loss: 0.3647 - val_accuracy: 0.8479 - val_loss: 0.3484\n",
            "Epoch 15/100\n",
            "\u001b[1m86/86\u001b[0m \u001b[32m━━━━━━━━━━━━━━━━━━━━\u001b[0m\u001b[37m\u001b[0m \u001b[1m0s\u001b[0m 3ms/step - accuracy: 0.8385 - loss: 0.3540 - val_accuracy: 0.8406 - val_loss: 0.3495\n",
            "Epoch 16/100\n",
            "\u001b[1m86/86\u001b[0m \u001b[32m━━━━━━━━━━━━━━━━━━━━\u001b[0m\u001b[37m\u001b[0m \u001b[1m0s\u001b[0m 3ms/step - accuracy: 0.8279 - loss: 0.3673 - val_accuracy: 0.8442 - val_loss: 0.3501\n",
            "Epoch 17/100\n",
            "\u001b[1m86/86\u001b[0m \u001b[32m━━━━━━━━━━━━━━━━━━━━\u001b[0m\u001b[37m\u001b[0m \u001b[1m0s\u001b[0m 2ms/step - accuracy: 0.8414 - loss: 0.3589 - val_accuracy: 0.8530 - val_loss: 0.3389\n",
            "Epoch 18/100\n",
            "\u001b[1m86/86\u001b[0m \u001b[32m━━━━━━━━━━━━━━━━━━━━\u001b[0m\u001b[37m\u001b[0m \u001b[1m0s\u001b[0m 4ms/step - accuracy: 0.8384 - loss: 0.3518 - val_accuracy: 0.8486 - val_loss: 0.3380\n",
            "Epoch 19/100\n",
            "\u001b[1m86/86\u001b[0m \u001b[32m━━━━━━━━━━━━━━━━━━━━\u001b[0m\u001b[37m\u001b[0m \u001b[1m0s\u001b[0m 4ms/step - accuracy: 0.8487 - loss: 0.3398 - val_accuracy: 0.8538 - val_loss: 0.3347\n",
            "Epoch 20/100\n",
            "\u001b[1m86/86\u001b[0m \u001b[32m━━━━━━━━━━━━━━━━━━━━\u001b[0m\u001b[37m\u001b[0m \u001b[1m1s\u001b[0m 4ms/step - accuracy: 0.8415 - loss: 0.3431 - val_accuracy: 0.8508 - val_loss: 0.3348\n",
            "Epoch 21/100\n",
            "\u001b[1m86/86\u001b[0m \u001b[32m━━━━━━━━━━━━━━━━━━━━\u001b[0m\u001b[37m\u001b[0m \u001b[1m1s\u001b[0m 4ms/step - accuracy: 0.8411 - loss: 0.3443 - val_accuracy: 0.8553 - val_loss: 0.3294\n",
            "Epoch 22/100\n",
            "\u001b[1m86/86\u001b[0m \u001b[32m━━━━━━━━━━━━━━━━━━━━\u001b[0m\u001b[37m\u001b[0m \u001b[1m1s\u001b[0m 4ms/step - accuracy: 0.8342 - loss: 0.3503 - val_accuracy: 0.8597 - val_loss: 0.3250\n",
            "Epoch 23/100\n",
            "\u001b[1m86/86\u001b[0m \u001b[32m━━━━━━━━━━━━━━━━━━━━\u001b[0m\u001b[37m\u001b[0m \u001b[1m0s\u001b[0m 2ms/step - accuracy: 0.8404 - loss: 0.3394 - val_accuracy: 0.8479 - val_loss: 0.3296\n",
            "Epoch 24/100\n",
            "\u001b[1m86/86\u001b[0m \u001b[32m━━━━━━━━━━━━━━━━━━━━\u001b[0m\u001b[37m\u001b[0m \u001b[1m0s\u001b[0m 2ms/step - accuracy: 0.8419 - loss: 0.3419 - val_accuracy: 0.8604 - val_loss: 0.3221\n",
            "Epoch 25/100\n",
            "\u001b[1m86/86\u001b[0m \u001b[32m━━━━━━━━━━━━━━━━━━━━\u001b[0m\u001b[37m\u001b[0m \u001b[1m0s\u001b[0m 2ms/step - accuracy: 0.8434 - loss: 0.3326 - val_accuracy: 0.8604 - val_loss: 0.3185\n",
            "Epoch 26/100\n",
            "\u001b[1m86/86\u001b[0m \u001b[32m━━━━━━━━━━━━━━━━━━━━\u001b[0m\u001b[37m\u001b[0m \u001b[1m0s\u001b[0m 3ms/step - accuracy: 0.8478 - loss: 0.3252 - val_accuracy: 0.8450 - val_loss: 0.3270\n",
            "Epoch 27/100\n",
            "\u001b[1m86/86\u001b[0m \u001b[32m━━━━━━━━━━━━━━━━━━━━\u001b[0m\u001b[37m\u001b[0m \u001b[1m0s\u001b[0m 3ms/step - accuracy: 0.8411 - loss: 0.3387 - val_accuracy: 0.8604 - val_loss: 0.3146\n",
            "Epoch 28/100\n",
            "\u001b[1m86/86\u001b[0m \u001b[32m━━━━━━━━━━━━━━━━━━━━\u001b[0m\u001b[37m\u001b[0m \u001b[1m0s\u001b[0m 3ms/step - accuracy: 0.8499 - loss: 0.3271 - val_accuracy: 0.8575 - val_loss: 0.3214\n",
            "Epoch 29/100\n",
            "\u001b[1m86/86\u001b[0m \u001b[32m━━━━━━━━━━━━━━━━━━━━\u001b[0m\u001b[37m\u001b[0m \u001b[1m0s\u001b[0m 3ms/step - accuracy: 0.8483 - loss: 0.3246 - val_accuracy: 0.8597 - val_loss: 0.3121\n",
            "Epoch 30/100\n",
            "\u001b[1m86/86\u001b[0m \u001b[32m━━━━━━━━━━━━━━━━━━━━\u001b[0m\u001b[37m\u001b[0m \u001b[1m0s\u001b[0m 2ms/step - accuracy: 0.8544 - loss: 0.3228 - val_accuracy: 0.8589 - val_loss: 0.3103\n",
            "Epoch 31/100\n",
            "\u001b[1m86/86\u001b[0m \u001b[32m━━━━━━━━━━━━━━━━━━━━\u001b[0m\u001b[37m\u001b[0m \u001b[1m0s\u001b[0m 3ms/step - accuracy: 0.8563 - loss: 0.3240 - val_accuracy: 0.8597 - val_loss: 0.3099\n",
            "Epoch 32/100\n",
            "\u001b[1m86/86\u001b[0m \u001b[32m━━━━━━━━━━━━━━━━━━━━\u001b[0m\u001b[37m\u001b[0m \u001b[1m0s\u001b[0m 2ms/step - accuracy: 0.8509 - loss: 0.3164 - val_accuracy: 0.8626 - val_loss: 0.3062\n",
            "Epoch 33/100\n",
            "\u001b[1m86/86\u001b[0m \u001b[32m━━━━━━━━━━━━━━━━━━━━\u001b[0m\u001b[37m\u001b[0m \u001b[1m0s\u001b[0m 3ms/step - accuracy: 0.8635 - loss: 0.3053 - val_accuracy: 0.8685 - val_loss: 0.3052\n",
            "Epoch 34/100\n",
            "\u001b[1m86/86\u001b[0m \u001b[32m━━━━━━━━━━━━━━━━━━━━\u001b[0m\u001b[37m\u001b[0m \u001b[1m0s\u001b[0m 2ms/step - accuracy: 0.8574 - loss: 0.3149 - val_accuracy: 0.8582 - val_loss: 0.3088\n",
            "Epoch 35/100\n",
            "\u001b[1m86/86\u001b[0m \u001b[32m━━━━━━━━━━━━━━━━━━━━\u001b[0m\u001b[37m\u001b[0m \u001b[1m0s\u001b[0m 2ms/step - accuracy: 0.8510 - loss: 0.3200 - val_accuracy: 0.8582 - val_loss: 0.3062\n",
            "Epoch 36/100\n",
            "\u001b[1m86/86\u001b[0m \u001b[32m━━━━━━━━━━━━━━━━━━━━\u001b[0m\u001b[37m\u001b[0m \u001b[1m0s\u001b[0m 2ms/step - accuracy: 0.8629 - loss: 0.3090 - val_accuracy: 0.8670 - val_loss: 0.3047\n",
            "Epoch 37/100\n",
            "\u001b[1m86/86\u001b[0m \u001b[32m━━━━━━━━━━━━━━━━━━━━\u001b[0m\u001b[37m\u001b[0m \u001b[1m0s\u001b[0m 3ms/step - accuracy: 0.8533 - loss: 0.3190 - val_accuracy: 0.8641 - val_loss: 0.2985\n",
            "Epoch 38/100\n",
            "\u001b[1m86/86\u001b[0m \u001b[32m━━━━━━━━━━━━━━━━━━━━\u001b[0m\u001b[37m\u001b[0m \u001b[1m0s\u001b[0m 3ms/step - accuracy: 0.8534 - loss: 0.3120 - val_accuracy: 0.8655 - val_loss: 0.2985\n",
            "Epoch 39/100\n",
            "\u001b[1m86/86\u001b[0m \u001b[32m━━━━━━━━━━━━━━━━━━━━\u001b[0m\u001b[37m\u001b[0m \u001b[1m0s\u001b[0m 2ms/step - accuracy: 0.8614 - loss: 0.3120 - val_accuracy: 0.8641 - val_loss: 0.2969\n",
            "Epoch 40/100\n",
            "\u001b[1m86/86\u001b[0m \u001b[32m━━━━━━━━━━━━━━━━━━━━\u001b[0m\u001b[37m\u001b[0m \u001b[1m0s\u001b[0m 2ms/step - accuracy: 0.8556 - loss: 0.3094 - val_accuracy: 0.8722 - val_loss: 0.2958\n",
            "Epoch 41/100\n",
            "\u001b[1m86/86\u001b[0m \u001b[32m━━━━━━━━━━━━━━━━━━━━\u001b[0m\u001b[37m\u001b[0m \u001b[1m0s\u001b[0m 3ms/step - accuracy: 0.8499 - loss: 0.3239 - val_accuracy: 0.8692 - val_loss: 0.2928\n",
            "Epoch 42/100\n",
            "\u001b[1m86/86\u001b[0m \u001b[32m━━━━━━━━━━━━━━━━━━━━\u001b[0m\u001b[37m\u001b[0m \u001b[1m0s\u001b[0m 3ms/step - accuracy: 0.8513 - loss: 0.3109 - val_accuracy: 0.8699 - val_loss: 0.2987\n",
            "Epoch 43/100\n",
            "\u001b[1m86/86\u001b[0m \u001b[32m━━━━━━━━━━━━━━━━━━━━\u001b[0m\u001b[37m\u001b[0m \u001b[1m0s\u001b[0m 3ms/step - accuracy: 0.8558 - loss: 0.3210 - val_accuracy: 0.8685 - val_loss: 0.2898\n",
            "Epoch 44/100\n",
            "\u001b[1m86/86\u001b[0m \u001b[32m━━━━━━━━━━━━━━━━━━━━\u001b[0m\u001b[37m\u001b[0m \u001b[1m0s\u001b[0m 2ms/step - accuracy: 0.8565 - loss: 0.3075 - val_accuracy: 0.8714 - val_loss: 0.2907\n",
            "Epoch 45/100\n",
            "\u001b[1m86/86\u001b[0m \u001b[32m━━━━━━━━━━━━━━━━━━━━\u001b[0m\u001b[37m\u001b[0m \u001b[1m0s\u001b[0m 2ms/step - accuracy: 0.8510 - loss: 0.3099 - val_accuracy: 0.8699 - val_loss: 0.2891\n",
            "Epoch 46/100\n",
            "\u001b[1m86/86\u001b[0m \u001b[32m━━━━━━━━━━━━━━━━━━━━\u001b[0m\u001b[37m\u001b[0m \u001b[1m0s\u001b[0m 3ms/step - accuracy: 0.8631 - loss: 0.2992 - val_accuracy: 0.8722 - val_loss: 0.2850\n",
            "Epoch 47/100\n",
            "\u001b[1m86/86\u001b[0m \u001b[32m━━━━━━━━━━━━━━━━━━━━\u001b[0m\u001b[37m\u001b[0m \u001b[1m0s\u001b[0m 2ms/step - accuracy: 0.8553 - loss: 0.3013 - val_accuracy: 0.8685 - val_loss: 0.2853\n",
            "Epoch 48/100\n",
            "\u001b[1m86/86\u001b[0m \u001b[32m━━━━━━━━━━━━━━━━━━━━\u001b[0m\u001b[37m\u001b[0m \u001b[1m0s\u001b[0m 2ms/step - accuracy: 0.8639 - loss: 0.2934 - val_accuracy: 0.8692 - val_loss: 0.2859\n",
            "Epoch 49/100\n",
            "\u001b[1m86/86\u001b[0m \u001b[32m━━━━━━━━━━━━━━━━━━━━\u001b[0m\u001b[37m\u001b[0m \u001b[1m0s\u001b[0m 3ms/step - accuracy: 0.8504 - loss: 0.3081 - val_accuracy: 0.8758 - val_loss: 0.2835\n",
            "Epoch 50/100\n",
            "\u001b[1m86/86\u001b[0m \u001b[32m━━━━━━━━━━━━━━━━━━━━\u001b[0m\u001b[37m\u001b[0m \u001b[1m0s\u001b[0m 2ms/step - accuracy: 0.8655 - loss: 0.2962 - val_accuracy: 0.8751 - val_loss: 0.2819\n",
            "Epoch 51/100\n",
            "\u001b[1m86/86\u001b[0m \u001b[32m━━━━━━━━━━━━━━━━━━━━\u001b[0m\u001b[37m\u001b[0m \u001b[1m0s\u001b[0m 3ms/step - accuracy: 0.8638 - loss: 0.2974 - val_accuracy: 0.8736 - val_loss: 0.2842\n",
            "Epoch 52/100\n",
            "\u001b[1m86/86\u001b[0m \u001b[32m━━━━━━━━━━━━━━━━━━━━\u001b[0m\u001b[37m\u001b[0m \u001b[1m0s\u001b[0m 2ms/step - accuracy: 0.8691 - loss: 0.2924 - val_accuracy: 0.8736 - val_loss: 0.2806\n",
            "Epoch 53/100\n",
            "\u001b[1m86/86\u001b[0m \u001b[32m━━━━━━━━━━━━━━━━━━━━\u001b[0m\u001b[37m\u001b[0m \u001b[1m0s\u001b[0m 3ms/step - accuracy: 0.8688 - loss: 0.2860 - val_accuracy: 0.8751 - val_loss: 0.2803\n",
            "Epoch 54/100\n",
            "\u001b[1m86/86\u001b[0m \u001b[32m━━━━━━━━━━━━━━━━━━━━\u001b[0m\u001b[37m\u001b[0m \u001b[1m0s\u001b[0m 3ms/step - accuracy: 0.8534 - loss: 0.3132 - val_accuracy: 0.8707 - val_loss: 0.2871\n",
            "Epoch 55/100\n",
            "\u001b[1m86/86\u001b[0m \u001b[32m━━━━━━━━━━━━━━━━━━━━\u001b[0m\u001b[37m\u001b[0m \u001b[1m0s\u001b[0m 2ms/step - accuracy: 0.8663 - loss: 0.2964 - val_accuracy: 0.8736 - val_loss: 0.2768\n",
            "Epoch 56/100\n",
            "\u001b[1m86/86\u001b[0m \u001b[32m━━━━━━━━━━━━━━━━━━━━\u001b[0m\u001b[37m\u001b[0m \u001b[1m0s\u001b[0m 2ms/step - accuracy: 0.8631 - loss: 0.2871 - val_accuracy: 0.8758 - val_loss: 0.2764\n",
            "Epoch 57/100\n",
            "\u001b[1m86/86\u001b[0m \u001b[32m━━━━━━━━━━━━━━━━━━━━\u001b[0m\u001b[37m\u001b[0m \u001b[1m0s\u001b[0m 3ms/step - accuracy: 0.8643 - loss: 0.2883 - val_accuracy: 0.8670 - val_loss: 0.2863\n",
            "Epoch 58/100\n",
            "\u001b[1m86/86\u001b[0m \u001b[32m━━━━━━━━━━━━━━━━━━━━\u001b[0m\u001b[37m\u001b[0m \u001b[1m1s\u001b[0m 4ms/step - accuracy: 0.8538 - loss: 0.2990 - val_accuracy: 0.8751 - val_loss: 0.2746\n",
            "Epoch 59/100\n",
            "\u001b[1m86/86\u001b[0m \u001b[32m━━━━━━━━━━━━━━━━━━━━\u001b[0m\u001b[37m\u001b[0m \u001b[1m1s\u001b[0m 4ms/step - accuracy: 0.8747 - loss: 0.2797 - val_accuracy: 0.8788 - val_loss: 0.2726\n",
            "Epoch 60/100\n",
            "\u001b[1m86/86\u001b[0m \u001b[32m━━━━━━━━━━━━━━━━━━━━\u001b[0m\u001b[37m\u001b[0m \u001b[1m1s\u001b[0m 4ms/step - accuracy: 0.8733 - loss: 0.2725 - val_accuracy: 0.8780 - val_loss: 0.2733\n",
            "Epoch 61/100\n",
            "\u001b[1m86/86\u001b[0m \u001b[32m━━━━━━━━━━━━━━━━━━━━\u001b[0m\u001b[37m\u001b[0m \u001b[1m1s\u001b[0m 3ms/step - accuracy: 0.8624 - loss: 0.2916 - val_accuracy: 0.8766 - val_loss: 0.2721\n",
            "Epoch 62/100\n",
            "\u001b[1m86/86\u001b[0m \u001b[32m━━━━━━━━━━━━━━━━━━━━\u001b[0m\u001b[37m\u001b[0m \u001b[1m1s\u001b[0m 2ms/step - accuracy: 0.8640 - loss: 0.2830 - val_accuracy: 0.8810 - val_loss: 0.2748\n",
            "Epoch 63/100\n",
            "\u001b[1m86/86\u001b[0m \u001b[32m━━━━━━━━━━━━━━━━━━━━\u001b[0m\u001b[37m\u001b[0m \u001b[1m0s\u001b[0m 2ms/step - accuracy: 0.8741 - loss: 0.2785 - val_accuracy: 0.8773 - val_loss: 0.2688\n",
            "Epoch 64/100\n",
            "\u001b[1m86/86\u001b[0m \u001b[32m━━━━━━━━━━━━━━━━━━━━\u001b[0m\u001b[37m\u001b[0m \u001b[1m0s\u001b[0m 2ms/step - accuracy: 0.8666 - loss: 0.2866 - val_accuracy: 0.8758 - val_loss: 0.2717\n",
            "Epoch 65/100\n",
            "\u001b[1m86/86\u001b[0m \u001b[32m━━━━━━━━━━━━━━━━━━━━\u001b[0m\u001b[37m\u001b[0m \u001b[1m0s\u001b[0m 2ms/step - accuracy: 0.8672 - loss: 0.2808 - val_accuracy: 0.8722 - val_loss: 0.2745\n",
            "Epoch 66/100\n",
            "\u001b[1m86/86\u001b[0m \u001b[32m━━━━━━━━━━━━━━━━━━━━\u001b[0m\u001b[37m\u001b[0m \u001b[1m0s\u001b[0m 3ms/step - accuracy: 0.8647 - loss: 0.2856 - val_accuracy: 0.8810 - val_loss: 0.2758\n",
            "Epoch 67/100\n",
            "\u001b[1m86/86\u001b[0m \u001b[32m━━━━━━━━━━━━━━━━━━━━\u001b[0m\u001b[37m\u001b[0m \u001b[1m0s\u001b[0m 3ms/step - accuracy: 0.8709 - loss: 0.2812 - val_accuracy: 0.8729 - val_loss: 0.2769\n",
            "Epoch 68/100\n",
            "\u001b[1m86/86\u001b[0m \u001b[32m━━━━━━━━━━━━━━━━━━━━\u001b[0m\u001b[37m\u001b[0m \u001b[1m0s\u001b[0m 3ms/step - accuracy: 0.8633 - loss: 0.2852 - val_accuracy: 0.8802 - val_loss: 0.2692\n",
            "Epoch 69/100\n",
            "\u001b[1m86/86\u001b[0m \u001b[32m━━━━━━━━━━━━━━━━━━━━\u001b[0m\u001b[37m\u001b[0m \u001b[1m0s\u001b[0m 2ms/step - accuracy: 0.8682 - loss: 0.2788 - val_accuracy: 0.8810 - val_loss: 0.2718\n",
            "Epoch 70/100\n",
            "\u001b[1m86/86\u001b[0m \u001b[32m━━━━━━━━━━━━━━━━━━━━\u001b[0m\u001b[37m\u001b[0m \u001b[1m0s\u001b[0m 2ms/step - accuracy: 0.8791 - loss: 0.2656 - val_accuracy: 0.8744 - val_loss: 0.2709\n",
            "Epoch 71/100\n",
            "\u001b[1m86/86\u001b[0m \u001b[32m━━━━━━━━━━━━━━━━━━━━\u001b[0m\u001b[37m\u001b[0m \u001b[1m0s\u001b[0m 3ms/step - accuracy: 0.8731 - loss: 0.2667 - val_accuracy: 0.8832 - val_loss: 0.2642\n",
            "Epoch 72/100\n",
            "\u001b[1m86/86\u001b[0m \u001b[32m━━━━━━━━━━━━━━━━━━━━\u001b[0m\u001b[37m\u001b[0m \u001b[1m0s\u001b[0m 2ms/step - accuracy: 0.8733 - loss: 0.2821 - val_accuracy: 0.8773 - val_loss: 0.2668\n",
            "Epoch 73/100\n",
            "\u001b[1m86/86\u001b[0m \u001b[32m━━━━━━━━━━━━━━━━━━━━\u001b[0m\u001b[37m\u001b[0m \u001b[1m0s\u001b[0m 3ms/step - accuracy: 0.8741 - loss: 0.2681 - val_accuracy: 0.8832 - val_loss: 0.2651\n",
            "Epoch 74/100\n",
            "\u001b[1m86/86\u001b[0m \u001b[32m━━━━━━━━━━━━━━━━━━━━\u001b[0m\u001b[37m\u001b[0m \u001b[1m0s\u001b[0m 2ms/step - accuracy: 0.8690 - loss: 0.2769 - val_accuracy: 0.8795 - val_loss: 0.2639\n",
            "Epoch 75/100\n",
            "\u001b[1m86/86\u001b[0m \u001b[32m━━━━━━━━━━━━━━━━━━━━\u001b[0m\u001b[37m\u001b[0m \u001b[1m0s\u001b[0m 3ms/step - accuracy: 0.8741 - loss: 0.2670 - val_accuracy: 0.8810 - val_loss: 0.2611\n",
            "Epoch 76/100\n",
            "\u001b[1m86/86\u001b[0m \u001b[32m━━━━━━━━━━━━━━━━━━━━\u001b[0m\u001b[37m\u001b[0m \u001b[1m0s\u001b[0m 2ms/step - accuracy: 0.8608 - loss: 0.2881 - val_accuracy: 0.8839 - val_loss: 0.2584\n",
            "Epoch 77/100\n",
            "\u001b[1m86/86\u001b[0m \u001b[32m━━━━━━━━━━━━━━━━━━━━\u001b[0m\u001b[37m\u001b[0m \u001b[1m0s\u001b[0m 3ms/step - accuracy: 0.8810 - loss: 0.2574 - val_accuracy: 0.8802 - val_loss: 0.2585\n",
            "Epoch 78/100\n",
            "\u001b[1m86/86\u001b[0m \u001b[32m━━━━━━━━━━━━━━━━━━━━\u001b[0m\u001b[37m\u001b[0m \u001b[1m0s\u001b[0m 2ms/step - accuracy: 0.8802 - loss: 0.2571 - val_accuracy: 0.8839 - val_loss: 0.2593\n",
            "Epoch 79/100\n",
            "\u001b[1m86/86\u001b[0m \u001b[32m━━━━━━━━━━━━━━━━━━━━\u001b[0m\u001b[37m\u001b[0m \u001b[1m0s\u001b[0m 2ms/step - accuracy: 0.8725 - loss: 0.2695 - val_accuracy: 0.8832 - val_loss: 0.2579\n",
            "Epoch 80/100\n",
            "\u001b[1m86/86\u001b[0m \u001b[32m━━━━━━━━━━━━━━━━━━━━\u001b[0m\u001b[37m\u001b[0m \u001b[1m0s\u001b[0m 2ms/step - accuracy: 0.8767 - loss: 0.2699 - val_accuracy: 0.8868 - val_loss: 0.2596\n",
            "Epoch 81/100\n",
            "\u001b[1m86/86\u001b[0m \u001b[32m━━━━━━━━━━━━━━━━━━━━\u001b[0m\u001b[37m\u001b[0m \u001b[1m0s\u001b[0m 3ms/step - accuracy: 0.8736 - loss: 0.2690 - val_accuracy: 0.8802 - val_loss: 0.2755\n",
            "Epoch 82/100\n",
            "\u001b[1m86/86\u001b[0m \u001b[32m━━━━━━━━━━━━━━━━━━━━\u001b[0m\u001b[37m\u001b[0m \u001b[1m0s\u001b[0m 3ms/step - accuracy: 0.8664 - loss: 0.2796 - val_accuracy: 0.8780 - val_loss: 0.2582\n",
            "Epoch 83/100\n",
            "\u001b[1m86/86\u001b[0m \u001b[32m━━━━━━━━━━━━━━━━━━━━\u001b[0m\u001b[37m\u001b[0m \u001b[1m0s\u001b[0m 3ms/step - accuracy: 0.8749 - loss: 0.2654 - val_accuracy: 0.8824 - val_loss: 0.2565\n",
            "Epoch 84/100\n",
            "\u001b[1m86/86\u001b[0m \u001b[32m━━━━━━━━━━━━━━━━━━━━\u001b[0m\u001b[37m\u001b[0m \u001b[1m0s\u001b[0m 2ms/step - accuracy: 0.8677 - loss: 0.2746 - val_accuracy: 0.8861 - val_loss: 0.2619\n",
            "Epoch 85/100\n",
            "\u001b[1m86/86\u001b[0m \u001b[32m━━━━━━━━━━━━━━━━━━━━\u001b[0m\u001b[37m\u001b[0m \u001b[1m0s\u001b[0m 3ms/step - accuracy: 0.8769 - loss: 0.2639 - val_accuracy: 0.8832 - val_loss: 0.2544\n",
            "Epoch 86/100\n",
            "\u001b[1m86/86\u001b[0m \u001b[32m━━━━━━━━━━━━━━━━━━━━\u001b[0m\u001b[37m\u001b[0m \u001b[1m0s\u001b[0m 5ms/step - accuracy: 0.8794 - loss: 0.2618 - val_accuracy: 0.8795 - val_loss: 0.2536\n",
            "Epoch 87/100\n",
            "\u001b[1m86/86\u001b[0m \u001b[32m━━━━━━━━━━━━━━━━━━━━\u001b[0m\u001b[37m\u001b[0m \u001b[1m0s\u001b[0m 4ms/step - accuracy: 0.8828 - loss: 0.2544 - val_accuracy: 0.8766 - val_loss: 0.2552\n",
            "Epoch 88/100\n",
            "\u001b[1m86/86\u001b[0m \u001b[32m━━━━━━━━━━━━━━━━━━━━\u001b[0m\u001b[37m\u001b[0m \u001b[1m1s\u001b[0m 5ms/step - accuracy: 0.8837 - loss: 0.2577 - val_accuracy: 0.8846 - val_loss: 0.2519\n",
            "Epoch 89/100\n",
            "\u001b[1m86/86\u001b[0m \u001b[32m━━━━━━━━━━━━━━━━━━━━\u001b[0m\u001b[37m\u001b[0m \u001b[1m1s\u001b[0m 4ms/step - accuracy: 0.8841 - loss: 0.2622 - val_accuracy: 0.8788 - val_loss: 0.2589\n",
            "Epoch 90/100\n",
            "\u001b[1m86/86\u001b[0m \u001b[32m━━━━━━━━━━━━━━━━━━━━\u001b[0m\u001b[37m\u001b[0m \u001b[1m0s\u001b[0m 5ms/step - accuracy: 0.8798 - loss: 0.2570 - val_accuracy: 0.8751 - val_loss: 0.2650\n",
            "Epoch 91/100\n",
            "\u001b[1m86/86\u001b[0m \u001b[32m━━━━━━━━━━━━━━━━━━━━\u001b[0m\u001b[37m\u001b[0m \u001b[1m1s\u001b[0m 5ms/step - accuracy: 0.8851 - loss: 0.2554 - val_accuracy: 0.8810 - val_loss: 0.2521\n",
            "Epoch 92/100\n",
            "\u001b[1m86/86\u001b[0m \u001b[32m━━━━━━━━━━━━━━━━━━━━\u001b[0m\u001b[37m\u001b[0m \u001b[1m1s\u001b[0m 5ms/step - accuracy: 0.8731 - loss: 0.2690 - val_accuracy: 0.8839 - val_loss: 0.2493\n",
            "Epoch 93/100\n",
            "\u001b[1m86/86\u001b[0m \u001b[32m━━━━━━━━━━━━━━━━━━━━\u001b[0m\u001b[37m\u001b[0m \u001b[1m1s\u001b[0m 7ms/step - accuracy: 0.8794 - loss: 0.2563 - val_accuracy: 0.8898 - val_loss: 0.2500\n",
            "Epoch 94/100\n",
            "\u001b[1m86/86\u001b[0m \u001b[32m━━━━━━━━━━━━━━━━━━━━\u001b[0m\u001b[37m\u001b[0m \u001b[1m2s\u001b[0m 14ms/step - accuracy: 0.8650 - loss: 0.2770 - val_accuracy: 0.8861 - val_loss: 0.2468\n",
            "Epoch 95/100\n",
            "\u001b[1m86/86\u001b[0m \u001b[32m━━━━━━━━━━━━━━━━━━━━\u001b[0m\u001b[37m\u001b[0m \u001b[1m0s\u001b[0m 4ms/step - accuracy: 0.8805 - loss: 0.2557 - val_accuracy: 0.8854 - val_loss: 0.2451\n",
            "Epoch 96/100\n",
            "\u001b[1m86/86\u001b[0m \u001b[32m━━━━━━━━━━━━━━━━━━━━\u001b[0m\u001b[37m\u001b[0m \u001b[1m1s\u001b[0m 3ms/step - accuracy: 0.8862 - loss: 0.2448 - val_accuracy: 0.8854 - val_loss: 0.2474\n",
            "Epoch 97/100\n",
            "\u001b[1m86/86\u001b[0m \u001b[32m━━━━━━━━━━━━━━━━━━━━\u001b[0m\u001b[37m\u001b[0m \u001b[1m0s\u001b[0m 2ms/step - accuracy: 0.8833 - loss: 0.2547 - val_accuracy: 0.8876 - val_loss: 0.2457\n",
            "Epoch 98/100\n",
            "\u001b[1m86/86\u001b[0m \u001b[32m━━━━━━━━━━━━━━━━━━━━\u001b[0m\u001b[37m\u001b[0m \u001b[1m0s\u001b[0m 2ms/step - accuracy: 0.8916 - loss: 0.2434 - val_accuracy: 0.8854 - val_loss: 0.2482\n",
            "Epoch 99/100\n",
            "\u001b[1m86/86\u001b[0m \u001b[32m━━━━━━━━━━━━━━━━━━━━\u001b[0m\u001b[37m\u001b[0m \u001b[1m0s\u001b[0m 3ms/step - accuracy: 0.8825 - loss: 0.2609 - val_accuracy: 0.8891 - val_loss: 0.2436\n",
            "Epoch 100/100\n",
            "\u001b[1m86/86\u001b[0m \u001b[32m━━━━━━━━━━━━━━━━━━━━\u001b[0m\u001b[37m\u001b[0m \u001b[1m0s\u001b[0m 3ms/step - accuracy: 0.8848 - loss: 0.2454 - val_accuracy: 0.8846 - val_loss: 0.2504\n"
          ]
        }
      ]
    },
    {
      "cell_type": "code",
      "source": [
        "pd.DataFrame(history.history).plot(figsize=(12, 8))\n",
        "plt.grid(True)\n",
        "plt.gca().set_ylim(0, 1) # set the vertical range to [0-1]\n",
        "plt.show()\n",
        "\n",
        "# Evaluate the model\n",
        "model_evaluate = ker.evaluate(X_testb, y_testb)\n",
        "print(\"Loss     : \",model_evaluate[0])\n",
        "print(\"accuracy : \",model_evaluate[1])"
      ],
      "metadata": {
        "colab": {
          "base_uri": "https://localhost:8080/",
          "height": 737
        },
        "id": "RbzF_c6XEkfV",
        "outputId": "99d51e0a-7a24-4d0c-d3cf-8d12623a5089"
      },
      "execution_count": 56,
      "outputs": [
        {
          "output_type": "display_data",
          "data": {
            "text/plain": [
              "<Figure size 1200x800 with 1 Axes>"
            ],
            "image/png": "[encoded data removed]"
          },
          "metadata": {}
        },
        {
          "output_type": "stream",
          "name": "stdout",
          "text": [
            "\u001b[1m92/92\u001b[0m \u001b[32m━━━━━━━━━━━━━━━━━━━━\u001b[0m\u001b[37m\u001b[0m \u001b[1m0s\u001b[0m 2ms/step - accuracy: 0.8731 - loss: 0.2808\n",
            "Loss     :  0.27668339014053345\n",
            "accuracy :  0.8724716901779175\n"
          ]
        }
      ]
    },
    {
      "cell_type": "code",
      "source": [
        "ker.predict(X_testb)"
      ],
      "metadata": {
        "colab": {
          "base_uri": "https://localhost:8080/"
        },
        "id": "etLxuh4XE50O",
        "outputId": "d6f10db8-ba37-498b-c012-5fad880f1924"
      },
      "execution_count": 57,
      "outputs": [
        {
          "output_type": "stream",
          "name": "stdout",
          "text": [
            "\u001b[1m92/92\u001b[0m \u001b[32m━━━━━━━━━━━━━━━━━━━━\u001b[0m\u001b[37m\u001b[0m \u001b[1m0s\u001b[0m 3ms/step\n"
          ]
        },
        {
          "output_type": "execute_result",
          "data": {
            "text/plain": [
              "array([[0.01231279],\n",
              "       [0.9499691 ],\n",
              "       [0.60833186],\n",
              "       ...,\n",
              "       [0.00774652],\n",
              "       [0.6120203 ],\n",
              "       [0.99995667]], dtype=float32)"
            ]
          },
          "metadata": {},
          "execution_count": 57
        }
      ]
    },
    {
      "cell_type": "code",
      "source": [
        "y_pr = (ker.predict(X_testb) > 0.5).astype(\"int32\").tolist()"
      ],
      "metadata": {
        "colab": {
          "base_uri": "https://localhost:8080/"
        },
        "id": "osVEzUVZFHbn",
        "outputId": "69644952-1357-44dc-bb5c-e1fba6b3197c"
      },
      "execution_count": 59,
      "outputs": [
        {
          "output_type": "stream",
          "name": "stdout",
          "text": [
            "\u001b[1m92/92\u001b[0m \u001b[32m━━━━━━━━━━━━━━━━━━━━\u001b[0m\u001b[37m\u001b[0m \u001b[1m1s\u001b[0m 5ms/step\n"
          ]
        }
      ]
    },
    {
      "cell_type": "code",
      "source": [
        "# Confusion Matrix\n",
        "from sklearn.metrics import classification_report, confusion_matrix\n",
        "class_names = [\"0\", \"1\"]\n",
        "\n",
        "# Compute classification report\n",
        "print(\"Classification report : \\n\",classification_report(y_testb, y_pr, target_names = class_names))\n",
        "\n",
        "# Function to draw confusion matrix\n",
        "def draw_confusion_matrix(true, preds, normalize=None):\n",
        "  # Compute confusion matrix\n",
        "    conf_matx = confusion_matrix(true, preds, normalize = normalize)\n",
        "    conf_matx = np.round(conf_matx, 2)\n",
        "    print(conf_matx)\n",
        "\n",
        "  # plt.subplots(figsize=(14,8))\n",
        "    sns.heatmap(conf_matx, annot=True, annot_kws={\"size\": 12},fmt=\"g\", cbar=False, cmap=\"viridis\")\n",
        "    plt.show()\n",
        "\n",
        "print(\"Confusion matrix : \\n\")\n",
        "draw_confusion_matrix(y_testb, y_pr)\n",
        "\n",
        "print(\"Normalized confusion matrix : \\n\")\n",
        "draw_confusion_matrix(y_testb, y_pr, \"true\")\n"
      ],
      "metadata": {
        "colab": {
          "base_uri": "https://localhost:8080/",
          "height": 1000
        },
        "id": "59VeJZFUFOG8",
        "outputId": "e02e3342-2331-4ef1-889e-6cb50e82cc7a"
      },
      "execution_count": 60,
      "outputs": [
        {
          "output_type": "stream",
          "name": "stdout",
          "text": [
            "Classification report : \n",
            "               precision    recall  f1-score   support\n",
            "\n",
            "           0       0.84      0.92      0.88      1457\n",
            "           1       0.91      0.83      0.87      1460\n",
            "\n",
            "    accuracy                           0.87      2917\n",
            "   macro avg       0.88      0.87      0.87      2917\n",
            "weighted avg       0.88      0.87      0.87      2917\n",
            "\n",
            "Confusion matrix : \n",
            "\n",
            "[[1336  121]\n",
            " [ 251 1209]]\n"
          ]
        },
        {
          "output_type": "display_data",
          "data": {
            "text/plain": [
              "<Figure size 640x480 with 1 Axes>"
            ],
            "image/png": "[encoded data removed]"
          },
          "metadata": {}
        },
        {
          "output_type": "stream",
          "name": "stdout",
          "text": [
            "Normalized confusion matrix : \n",
            "\n",
            "[[0.92 0.08]\n",
            " [0.17 0.83]]\n"
          ]
        },
        {
          "output_type": "display_data",
          "data": {
            "text/plain": [
              "<Figure size 640x480 with 1 Axes>"
            ],
            "image/png": "[encoded data removed]"
          },
          "metadata": {}
        }
      ]
    },
    {
      "cell_type": "code",
      "source": [],
      "metadata": {
        "id": "ET3MgrMGFhmi"
      },
      "execution_count": null,
      "outputs": []
    }
  ]
}